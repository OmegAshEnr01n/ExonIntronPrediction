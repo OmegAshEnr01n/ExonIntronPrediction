{
 "metadata": {
  "language_info": {
   "codemirror_mode": {
    "name": "ipython",
    "version": 3
   },
   "file_extension": ".py",
   "mimetype": "text/x-python",
   "name": "python",
   "nbconvert_exporter": "python",
   "pygments_lexer": "ipython3",
   "version": "3.7.9"
  },
  "orig_nbformat": 2,
  "kernelspec": {
   "name": "python379jvsc74a57bd0e982cbab146b5da557c3dd4de569c6d20de87aa4899f75bf3dc2ace7a19e2876",
   "display_name": "Python 3.7.9 64-bit ('dev': conda)"
  }
 },
 "nbformat": 4,
 "nbformat_minor": 2,
 "cells": [
  {
   "source": [
    "# Drosophila Melanogaster"
   ],
   "cell_type": "markdown",
   "metadata": {}
  },
  {
   "cell_type": "code",
   "execution_count": 2,
   "metadata": {},
   "outputs": [
    {
     "output_type": "stream",
     "name": "stdout",
     "text": [
      "Biopython v1.78\n"
     ]
    }
   ],
   "source": [
    "import numpy as np # linear algebra\n",
    "import pandas as pd # data processing, CSV file I/O (e.g. pd.read_csv)\n",
    "import Bio\n",
    "import torch as torch\n",
    "from torch.utils.data import Dataset, DataLoader\n",
    "print(\"Biopython v\" + Bio.__version__)\n",
    "from timeit import default_timer as timer\n",
    "import copy\n",
    "import math\n",
    "import sys\n",
    "\n",
    "\n"
   ]
  },
  {
   "cell_type": "code",
   "execution_count": 3,
   "metadata": {},
   "outputs": [
    {
     "output_type": "stream",
     "name": "stdout",
     "text": [
      "Id: chr2L \t Length: 23,513,712\n",
      "Seq('Cgacaatgcacgacagaggaagcagaacagatatttagattgcctctcattttc...gag')\n",
      "\n",
      "Id: chr2R \t Length: 25,286,936\n",
      "Seq('CTCAAGATAccttctacagattatttaaagctagtgcacaacaacaataaattg...ttc')\n",
      "\n",
      "Id: chr3L \t Length: 28,110,227\n",
      "Seq('TAGGGAGAAATATGATCgcgtatgcgagagtagtgccaacatattgtgctcttt...tat')\n",
      "\n",
      "Id: chr3R \t Length: 32,079,331\n",
      "Seq('acgggaccgagtatagtaccagtacgcgaccagtacgggagcagtacggaacca...ttc')\n",
      "\n",
      "Id: chr4 \t Length: 1,348,131\n",
      "Seq('ttattatattattatattattatattattatattattatattattatattatta...GAA')\n",
      "\n",
      "Id: chrM \t Length: 19,524\n",
      "Seq('AATGAATTGCCTGATAAAAAGGATTACCTTGATAGGGTAAATCATGCAGTTTTC...ATT')\n",
      "\n"
     ]
    },
    {
     "output_type": "execute_result",
     "data": {
      "text/plain": [
       "SeqRecord(seq=Seq('AATGAATTGCCTGATAAAAAGGATTACCTTGATAGGGTAAATCATGCAGTTTTC...ATT'), id='chrM', name='chrM', description='chrM', dbxrefs=[])"
      ]
     },
     "metadata": {},
     "execution_count": 3
    }
   ],
   "source": [
    "from Bio import SeqIO\n",
    "count = 0\n",
    "sequences = [] # Here we are setting up an array to save our sequences for the next step\n",
    "\n",
    "for seq_record in SeqIO.parse(\"./Genomedata/genome.fa\", \"fasta\"):\n",
    "    if (count < 6):\n",
    "        sequences.append(seq_record)\n",
    "        print(\"Id: \" + seq_record.id + \" \\t \" + \"Length: \" + str(\"{:,d}\".format(len(seq_record))) )\n",
    "        print(repr(seq_record.seq) + \"\\n\")\n",
    "        count = count + 1\n",
    "\n",
    "sequences.pop()"
   ]
  },
  {
   "cell_type": "code",
   "execution_count": 4,
   "metadata": {},
   "outputs": [
    {
     "output_type": "execute_result",
     "data": {
      "text/plain": [
       "[SeqRecord(seq=Seq('Cgacaatgcacgacagaggaagcagaacagatatttagattgcctctcattttc...gag'), id='chr2L', name='chr2L', description='chr2L', dbxrefs=[]),\n",
       " SeqRecord(seq=Seq('CTCAAGATAccttctacagattatttaaagctagtgcacaacaacaataaattg...ttc'), id='chr2R', name='chr2R', description='chr2R', dbxrefs=[]),\n",
       " SeqRecord(seq=Seq('TAGGGAGAAATATGATCgcgtatgcgagagtagtgccaacatattgtgctcttt...tat'), id='chr3L', name='chr3L', description='chr3L', dbxrefs=[]),\n",
       " SeqRecord(seq=Seq('acgggaccgagtatagtaccagtacgcgaccagtacgggagcagtacggaacca...ttc'), id='chr3R', name='chr3R', description='chr3R', dbxrefs=[]),\n",
       " SeqRecord(seq=Seq('ttattatattattatattattatattattatattattatattattatattatta...GAA'), id='chr4', name='chr4', description='chr4', dbxrefs=[])]"
      ]
     },
     "metadata": {},
     "execution_count": 4
    }
   ],
   "source": [
    "sequences"
   ]
  },
  {
   "cell_type": "code",
   "execution_count": 5,
   "metadata": {},
   "outputs": [],
   "source": [
    "agsts = pd.read_csv('./Genomedata/genes-augustus.csv')"
   ]
  },
  {
   "cell_type": "code",
   "execution_count": 6,
   "metadata": {},
   "outputs": [
    {
     "output_type": "execute_result",
     "data": {
      "text/plain": [
       "array(['chr2L', 'chr2R', 'chr3L', 'chr3R', 'chr4', 'chrUn_CP007080v1',\n",
       "       'chrUn_CP007081v1', 'chrUn_CP007097v1', 'chrUn_DS483755v1',\n",
       "       'chrUn_DS483780v1', 'chrUn_DS483783v1', 'chrUn_DS483801v1',\n",
       "       'chrUn_DS483878v1', 'chrUn_DS484006v1', 'chrUn_DS484105v1',\n",
       "       'chrUn_DS484134v1', 'chrUn_DS484375v1', 'chrUn_DS484521v1',\n",
       "       'chrUn_DS484581v1', 'chrUn_DS484779v1', 'chrUn_DS485083v1',\n",
       "       'chrUn_DS485107v1', 'chrUn_DS485610v1', 'chrX',\n",
       "       'chrX_DS483995v1_random', 'chrY', 'chrY_CP007109v1_random',\n",
       "       'chrY_CP007113v1_random', 'chrY_CP007116v1_random',\n",
       "       'chrY_DS483742v1_random', 'chrY_DS483778v1_random',\n",
       "       'chrY_DS483875v1_random', 'chrY_DS483931v1_random',\n",
       "       'chrY_DS484390v1_random', 'chrY_DS484643v1_random',\n",
       "       'chrY_DS485048v1_random', 'chrY_DS485159v1_random'], dtype=object)"
      ]
     },
     "metadata": {},
     "execution_count": 6
    }
   ],
   "source": [
    "agsts['chrom'].unique()"
   ]
  },
  {
   "source": [
    "Finding the sequences "
   ],
   "cell_type": "markdown",
   "metadata": {}
  },
  {
   "cell_type": "code",
   "execution_count": 7,
   "metadata": {},
   "outputs": [],
   "source": [
    "def code_Exon_Intron(coding_row, ch):\n",
    "    ch[coding_row['txStart']:coding_row['txEnd']] = 'T'\n",
    "    Estart = np.array(coding_row['exonStarts'].split(',')[:-1]).astype(int)\n",
    "    Eend = np.array(coding_row['exonEnds'].split(',')[:-1]).astype(int)\n",
    "    for i in range(len(Estart)):\n",
    "        ch[Estart[i]:Eend[i]+1] = 'E'\n",
    "        if i != len(Estart) - 1:\n",
    "            ch[Eend[i]+1:Estart[i+1]] = 'I'\n",
    "    return ch\n",
    "\n",
    "def code_sequence(augustus, sequences):\n",
    "    df = pd.DataFrame(columns=['id','x','y'])\n",
    "    \n",
    "    for seq in sequences:\n",
    "        s_id_aug = augustus.loc[augustus['chrom'] == seq.id]\n",
    "\n",
    "        y = np.array(['N'] * s_id_aug.iloc[-1]['txEnd'],dtype='U')\n",
    "\n",
    "        t = np.array([rec for rec in str(seq.seq)],dtype='U')[:s_id_aug.iloc[-1]['txEnd']]\n",
    "        x = np.array([x.upper() if isinstance(x, str) else x for x in t])\n",
    "\n",
    "\n",
    "        for index, row in s_id_aug.iterrows():\n",
    "\n",
    "            if row['name'][-3:] == '.t2':\n",
    "                y = code_Exon_Intron(row, y)\n",
    "                \n",
    "            check_t2 = row['name'][:-3] + '.t2'\n",
    "            if s_id_aug[s_id_aug['name'].isin([check_t2])].empty:\n",
    "                continue\n",
    "            else: \n",
    "                y = code_Exon_Intron(row, y)\n",
    "        # print(x[0],'\\n',x[1],'\\n/',x[2],'\\n',x[3],'\\n',x[100])\n",
    "        print(len(x.tolist()))\n",
    "        char = pd.Series({'id': seq.id, 'x':x.tolist(), 'y':y.tolist()})\n",
    "        print(char['x'][:20])\n",
    "        df = df.append(char,ignore_index=True)\n",
    "    return df"
   ]
  },
  {
   "cell_type": "code",
   "execution_count": 8,
   "metadata": {},
   "outputs": [
    {
     "output_type": "stream",
     "name": "stdout",
     "text": [
      "23371726\n",
      "['C', 'G', 'A', 'C', 'A', 'A', 'T', 'G', 'C', 'A', 'C', 'G', 'A', 'C', 'A', 'G', 'A', 'G', 'G', 'A']\n",
      "25254583\n",
      "['C', 'T', 'C', 'A', 'A', 'G', 'A', 'T', 'A', 'C', 'C', 'T', 'T', 'C', 'T', 'A', 'C', 'A', 'G', 'A']\n",
      "27866355\n",
      "['T', 'A', 'G', 'G', 'G', 'A', 'G', 'A', 'A', 'A', 'T', 'A', 'T', 'G', 'A', 'T', 'C', 'G', 'C', 'G']\n",
      "32070586\n",
      "['A', 'C', 'G', 'G', 'G', 'A', 'C', 'C', 'G', 'A', 'G', 'T', 'A', 'T', 'A', 'G', 'T', 'A', 'C', 'C']\n",
      "1271726\n",
      "['T', 'T', 'A', 'T', 'T', 'A', 'T', 'A', 'T', 'T', 'A', 'T', 'T', 'A', 'T', 'A', 'T', 'T', 'A', 'T']\n"
     ]
    }
   ],
   "source": [
    "temp = code_sequence(agsts, sequences)\n"
   ]
  },
  {
   "cell_type": "code",
   "execution_count": 9,
   "metadata": {},
   "outputs": [],
   "source": [
    "def prepare_segment(x,y):\n",
    "    df = pd.DataFrame(columns = ['x','y'])\n",
    "    last_i = 0\n",
    "    for i in range(100,len(x),100):\n",
    "        df = df.append({'x': x[last_i:i], 'y':['START'] + y[last_i:i] + ['STOP']}, ignore_index = True)\n",
    "        last_i = i\n",
    "    return df"
   ]
  },
  {
   "cell_type": "code",
   "execution_count": 10,
   "metadata": {},
   "outputs": [],
   "source": [
    "df = prepare_segment(temp.iloc[4]['x'],temp.iloc[4]['y'])"
   ]
  },
  {
   "cell_type": "code",
   "execution_count": 11,
   "metadata": {},
   "outputs": [
    {
     "output_type": "stream",
     "name": "stdout",
     "text": [
      "N  \n N  \n  {'A': 0, 'B': 0}\n I  \n  {'A': 0, 'B': 0}\n E  \n  {'A': 0, 'B': 0}\nI  \n N  \n  {'A': 0, 'B': 0}\n I  \n  {'A': 0, 'B': 0}\n E  \n  {'A': 0, 'B': 0}\nE  \n N  \n  {'A': 0, 'B': 0}\n I  \n  {'A': 0, 'B': 0}\n E  \n  {'A': 0, 'B': 0}\n\n"
     ]
    }
   ],
   "source": [
    "class MultiDimnDict():\n",
    "    \n",
    "    def __init__(self,axes):\n",
    "        self.axes = axes\n",
    "\n",
    "        self.data = {}\n",
    "        prev = None\n",
    "\n",
    "        for i in range(len(axes)-1, -1, -1):\n",
    "            x = {}\n",
    "            for n in axes[i]:\n",
    "                if prev == None:\n",
    "                    x[n] = 0\n",
    "                else:\n",
    "                    x[n] = copy.deepcopy(prev)\n",
    "            prev = x\n",
    "            self.data = x\n",
    "\n",
    "    def __get_string(self, x,_str, depth):\n",
    "        if type(list(x.values())[0]) == type(dict()):\n",
    "            for i in x:\n",
    "                _str += self.__get_string(x[i], depth * \" \" + i + \"  \\n\", depth+1)\n",
    "                # print(_str)\n",
    "            return _str\n",
    "        else:\n",
    "            return _str + \" \" * depth +str(x) +\"\\n\"\n",
    "\n",
    "    def __str__(self):\n",
    "        string = self.__get_string(self.data, \"\", 0)\n",
    "        return string\n",
    "\n",
    "    def add_value_helper(self,lst,val, temp):\n",
    "        if len(lst) == 1:\n",
    "            temp[lst[0]] += val\n",
    "            return temp\n",
    "        try :\n",
    "            # print(lst[1:],val,temp[lst[0]])\n",
    "\n",
    "            temp[lst[0]] = self.add_value_helper(lst[1:],val,temp[lst[0]])\n",
    "            return temp\n",
    "        except:\n",
    "            return 0\n",
    "\n",
    "    def add_value(self,lst,val):\n",
    "        if len(lst) == len(self.axes):\n",
    "            return self.add_value_helper(lst,val,self.data)\n",
    "        else:\n",
    "            return 0\n",
    "    \n",
    "    \n",
    "\n",
    "x= MultiDimnDict([['N','I','E'],['N','I','E'],['A','B']])\n",
    "\n",
    "print(x)\n"
   ]
  },
  {
   "source": [
    "Cant write to dataframe since the character array turns into shit"
   ],
   "cell_type": "markdown",
   "metadata": {}
  },
  {
   "source": [
    "Steps\n",
    "\n",
    "1. Create the count matrices\n",
    "2. Use viterbi algo"
   ],
   "cell_type": "markdown",
   "metadata": {}
  },
  {
   "cell_type": "code",
   "execution_count": 77,
   "metadata": {},
   "outputs": [],
   "source": [
    "class HMM():\n",
    "    def __init__(self,data,vocab_x,vocab_y):\n",
    "        self.data = data\n",
    "        self.vocab_x = vocab_x\n",
    "        self.vocab_y = vocab_y\n",
    "\n",
    "    def calculate_emissions(self):\n",
    "        emissions = MultiDimnDict([self.vocab_y, self.vocab_x, self.vocab_x])\n",
    "        self.emissions_yi_xi = MultiDimnDict([self.vocab_y, self.vocab_x])\n",
    "        count_yi = MultiDimnDict([self.vocab_y])\n",
    "        count_yi_xi_xi1 = MultiDimnDict([self.vocab_y, self.vocab_x, self.vocab_x])\n",
    "        for i , row in self.data.iterrows():\n",
    "            x = row['x']\n",
    "            y = row['y']\n",
    "            _iter = 2\n",
    "            while _iter < len(y) - 2:\n",
    "                yi = y[_iter]\n",
    "                xi = x[_iter]\n",
    "                xi1 = x[_iter-1]\n",
    "                count_yi_xi_xi1.data[yi][xi][xi1]+=1\n",
    "                count_yi.data[yi]+=1\n",
    "                _iter += 1\n",
    "        for y in self.vocab_y:\n",
    "            for x in self.vocab_x:\n",
    "                yi_xi = 0\n",
    "                for x1 in self.vocab_x:\n",
    "                    try:\n",
    "                        emissions.data[y][x][x1] += count_yi_xi_xi1.data[y][x][x1] / count_yi.data[y]\n",
    "                    except:\n",
    "                        print(y)\n",
    "                        emissions.data[y][x][x1] = 0\n",
    "                    yi_xi += emissions.data[y][x][x1]\n",
    "                self.emissions_yi_xi.data[y][x] = yi_xi\n",
    "        self.emissions = emissions\n",
    "        return emissions\n",
    "\n",
    "\n",
    "    def calculate_transitions(self):\n",
    "        transitions = MultiDimnDict([self.vocab_y, self.vocab_y])\n",
    "        count_yi1 = MultiDimnDict([self.vocab_y])\n",
    "        count_yi1_yi = MultiDimnDict([self.vocab_y, self.vocab_y])\n",
    "        for i , row in self.data.iterrows():\n",
    "            y = row['y']\n",
    "            _iter = 0\n",
    "            while _iter < len(y) - 1:\n",
    "                yi1 = y[_iter]\n",
    "                yi = y[_iter+1]\n",
    "                try:\n",
    "                    count_yi1_yi.data[yi1][yi]+=1\n",
    "                except:\n",
    "                    print(yi1,yi)\n",
    "                    print(count_yi1_yi)\n",
    "                count_yi1.data[yi1]+=1\n",
    "                _iter += 1\n",
    "        for y in self.vocab_y:\n",
    "            for y1 in self.vocab_y:\n",
    "                try:\n",
    "                    transitions.data[y][y1] += count_yi1_yi.data[y][y1] / count_yi1.data[y]\n",
    "                except:\n",
    "                    print(y)\n",
    "                    transitions.data[y][y1] = 0\n",
    "\n",
    "        self.transitions = transitions\n",
    "        return transitions\n",
    "\n",
    "    def viterbi(self, test_x):\n",
    "        ## Final Goal: Find PI(n,v) where n is the length of y without start and stop\n",
    "        ## We wont use PI we will maximize negative log pi\n",
    "        ## Step 1: Find PI(1,v)\n",
    "        temp_y = []\n",
    "        _pi = []\n",
    "        _y = []\n",
    "        PI = []\n",
    "        k = 0\n",
    "        x = test_x[k]\n",
    "        for y in self.vocab_y:\n",
    "            a = self.emissions_yi_xi.data[y][x]\n",
    "            b = self.transitions.data['START'][y]\n",
    "\n",
    "\n",
    "            nlog_a = sys.maxsize \n",
    "            nlog_b = sys.maxsize \n",
    "            if a > pow(10,-7):\n",
    "                nlog_a = -1 * math.log(a)\n",
    "            if b > pow(10,-7):\n",
    "                nlog_b = -1 * math.log(b)\n",
    "            _pi.append(nlog_a)\n",
    "            _y.append(y)\n",
    "            \n",
    "        min_pi = min(_pi)\n",
    "        min_y = _y[_pi.index(min_pi)]\n",
    "\n",
    "        yi1 = min_y\n",
    "        PI.append(min_pi)\n",
    "        temp_y.append(yi1)\n",
    "\n",
    "        print(\"Done 1 \", _pi)\n",
    "\n",
    "        k = 1\n",
    "        while k < len(test_x)-1:\n",
    "            x = test_x[k]\n",
    "            xi = test_x[k-1]\n",
    "            _pi = []\n",
    "            _y = []\n",
    "            for y in self.vocab_y:\n",
    "                a = self.emissions.data[y][x][xi]\n",
    "                b = self.transitions.data[yi1][y]\n",
    "\n",
    "                nlog_a = sys.maxsize \n",
    "                nlog_b = sys.maxsize \n",
    "                if a > pow(10,-7):\n",
    "                    nlog_a = -1 * math.log(a)\n",
    "                if b > pow(10,-7):\n",
    "                    nlog_b = -1 * math.log(b)\n",
    "                \n",
    "                _pi.append(nlog_a + PI[-1])\n",
    "\n",
    "                _y.append(y)\n",
    "                \n",
    "\n",
    "            min_pi = min(_pi)\n",
    "            min_y = _y[_pi.index(min_pi)]\n",
    "\n",
    "            yi1 = min_y\n",
    "            PI.append(min_pi)\n",
    "            temp_y.append(yi1)\n",
    "            k += 1 \n",
    "\n",
    "            if k % 100000 == 0:\n",
    "                print(\"k = \",k,\"    pi = \",PI[-5:])\n",
    "        \n",
    "        print('PI= ',len(PI))\n",
    "        input()\n",
    "        y_star = 'STOP'\n",
    "        final_Y = []\n",
    "        final_Y.append(y_star)\n",
    "\n",
    "\n",
    "        for _PI in PI[::-1]:\n",
    "            _pi = []\n",
    "            _y = []\n",
    "            index = PI.index(_PI)\n",
    "            xi1 = test_x[index -1]\n",
    "            xi = test_x[index]\n",
    "            for y in self.vocab_y:\n",
    "                emission = sys.maxsize\n",
    "                a = self.emissions.data[y][xi1][xi]\n",
    "                if a > pow(10,-7):\n",
    "                    emission = math.log(a) * -1\n",
    "                _pi.append(_PI + emission)\n",
    "                _y.append(y)\n",
    "\n",
    "            min_pi = min(_pi)\n",
    "            final_y = _y[_pi.index(min_pi)]\n",
    "\n",
    "            if index % 5000 == 0:\n",
    "                print(index,\"   \",_pi)\n",
    "            # print('\\n\\n','final_y ',final_y,'\\nxi= ',xi)\n",
    "\n",
    "            final_Y.append(final_y)\n",
    "\n",
    "        \n",
    "        _pi = []\n",
    "        _y = []\n",
    "        xi = test_x[0]\n",
    "        for y in self.vocab_y:\n",
    "            emission = sys.maxsize\n",
    "            a = self.emissions_yi_xi.data[y][xi]\n",
    "            if a > pow(10,-7):\n",
    "                emission = math.log(a) * -1\n",
    "            _pi.append(_PI + emission)\n",
    "            _y.append(y)\n",
    "\n",
    "        min_pi = min(_pi)\n",
    "        final_y = _y[_pi.index(min_pi)]   \n",
    "\n",
    "        final_Y.append(final_y)   \n",
    "\n",
    "        final_Y.append('START')\n",
    "        return final_Y[::-1],temp_y"
   ]
  },
  {
   "cell_type": "code",
   "execution_count": 78,
   "metadata": {},
   "outputs": [],
   "source": [
    "hmm = HMM(df, set(temp.iloc[0]['x']), set(temp.iloc[0]['y'] + ['START','STOP']))"
   ]
  },
  {
   "cell_type": "code",
   "execution_count": 79,
   "metadata": {
    "tags": []
   },
   "outputs": [
    {
     "output_type": "stream",
     "name": "stdout",
     "text": [
      "STOP\nSTOP\nSTOP\nSTOP\nSTOP\nSTOP\nSTOP\nSTOP\nSTOP\nSTOP\nSTOP\nSTOP\nSTOP\nSTOP\nSTOP\nSTOP\nSTOP\nSTOP\nSTOP\nSTOP\nSTOP\nSTOP\nSTOP\nSTOP\nSTOP\nSTART\nSTART\nSTART\nSTART\nSTART\nSTART\nSTART\nSTART\nSTART\nSTART\nSTART\nSTART\nSTART\nSTART\nSTART\nSTART\nSTART\nSTART\nSTART\nSTART\nSTART\nSTART\nSTART\nSTART\nSTART\n1.9429676349973306\n"
     ]
    }
   ],
   "source": [
    "start = timer()\n",
    "hmm.calculate_emissions()\n",
    "stop = timer()\n",
    "print(stop-start)"
   ]
  },
  {
   "cell_type": "code",
   "execution_count": 80,
   "metadata": {},
   "outputs": [
    {
     "output_type": "stream",
     "name": "stdout",
     "text": [
      "STOP\nSTOP\nSTOP\nSTOP\nSTOP\n1.2513312579976628\n"
     ]
    }
   ],
   "source": [
    "start = timer()\n",
    "hmm.calculate_transitions()\n",
    "stop = timer()\n",
    "print(stop-start)"
   ]
  },
  {
   "cell_type": "code",
   "execution_count": 81,
   "metadata": {},
   "outputs": [
    {
     "output_type": "stream",
     "name": "stdout",
     "text": [
      "E  \n {'E': 0.9876951821700254, 'STOP': 0.009955958894968638, 'START': 0.0, 'N': 0.00013345789403443215, 'I': 0.0022154010409715734}\nSTOP  \n {'E': 0, 'STOP': 0, 'START': 0, 'N': 0, 'I': 0}\nSTART  \n {'E': 0.02940945191475977, 'STOP': 0.0, 'START': 0.0, 'N': 0.8570417551309271, 'I': 0.11354879295431312}\nN  \n {'E': 4.586958177032733e-06, 'STOP': 0.009998651434295952, 'START': 0.0, 'N': 0.989996761607527, 'I': 0.0}\nI  \n {'E': 0.0005687019724248898, 'STOP': 0.010021638416511776, 'START': 0.0, 'N': 0.0, 'I': 0.9894096596110633}\n\n"
     ]
    }
   ],
   "source": [
    "print(hmm.transitions)"
   ]
  },
  {
   "cell_type": "code",
   "execution_count": 82,
   "metadata": {},
   "outputs": [
    {
     "output_type": "stream",
     "name": "stdout",
     "text": [
      "E  \n C  \n  {'C': 0.04719755977994444, 'G': 0.053978974889699875, 'A': 0.04880440111117163, 'N': 0.0, 'T': 0.06560814859197124}\n G  \n  {'C': 0.04199575140258184, 'G': 0.04635328721607931, 'A': 0.05076529222724549, 'N': 0.0, 'T': 0.07674709951522414}\n A  \n  {'C': 0.06451876463859688, 'G': 0.055694754616264504, 'A': 0.07342447845743232, 'N': 0.0, 'T': 0.06073315540062095}\n N  \n  {'C': 0.0, 'G': 0.0, 'A': 0.0, 'N': 0.0, 'T': 0.0}\n T  \n  {'C': 0.06340214608638815, 'G': 0.060433574813443, 'A': 0.0813769813170652, 'N': 0.0, 'T': 0.10896562993627104}\nSTOP  \n C  \n  {'C': 0, 'G': 0, 'A': 0, 'N': 0, 'T': 0}\n G  \n  {'C': 0, 'G': 0, 'A': 0, 'N': 0, 'T': 0}\n A  \n  {'C': 0, 'G': 0, 'A': 0, 'N': 0, 'T': 0}\n N  \n  {'C': 0, 'G': 0, 'A': 0, 'N': 0, 'T': 0}\n T  \n  {'C': 0, 'G': 0, 'A': 0, 'N': 0, 'T': 0}\nSTART  \n C  \n  {'C': 0, 'G': 0, 'A': 0, 'N': 0, 'T': 0}\n G  \n  {'C': 0, 'G': 0, 'A': 0, 'N': 0, 'T': 0}\n A  \n  {'C': 0, 'G': 0, 'A': 0, 'N': 0, 'T': 0}\n N  \n  {'C': 0, 'G': 0, 'A': 0, 'N': 0, 'T': 0}\n T  \n  {'C': 0, 'G': 0, 'A': 0, 'N': 0, 'T': 0}\nN  \n C  \n  {'C': 0.032043091077080345, 'G': 0.03577536697904702, 'A': 0.05240070433017021, 'N': 0.0, 'T': 0.05100402621486189}\n G  \n  {'C': 0.03037774900795601, 'G': 0.031661157651446434, 'A': 0.04892585904597149, 'N': 0.0, 'T': 0.058933825353452235}\n A  \n  {'C': 0.05926333654419522, 'G': 0.05064455946132409, 'A': 0.12019856793687614, 'N': 9.361113373380177e-07, 'T': 0.09191115554519592}\n N  \n  {'C': 0.0, 'G': 0.0, 'A': 9.361113373380177e-07, 'N': 0.015594678768714036, 'T': 0.0}\n T  \n  {'C': 0.049503439741109045, 'G': 0.05173138472397353, 'A': 0.10048125483852548, 'N': 0.0, 'T': 0.11954797055742622}\nI  \n C  \n  {'C': 0.030467306916538688, 'G': 0.03528687393399812, 'A': 0.052604760118613716, 'N': 0.0, 'T': 0.048691073539090864}\n G  \n  {'C': 0.02949065456938832, 'G': 0.032144601164905626, 'A': 0.05075053609721229, 'N': 0.0, 'T': 0.05854960049257249}\n A  \n  {'C': 0.05715539388106073, 'G': 0.050156052059816415, 'A': 0.12540782312684448, 'N': 0.0, 'T': 0.09785631886991415}\n N  \n  {'C': 0.0, 'G': 0.0, 'A': 0.0, 'N': 0.0, 'T': 0.0}\n T  \n  {'C': 0.049688957459005374, 'G': 0.053284170447066154, 'A': 0.10167092477653769, 'N': 0.0, 'T': 0.12679495254743486}\n\n"
     ]
    }
   ],
   "source": [
    "print(hmm.emissions)"
   ]
  },
  {
   "cell_type": "code",
   "execution_count": 83,
   "metadata": {
    "tags": []
   },
   "outputs": [
    {
     "output_type": "stream",
     "name": "stdout",
     "text": [
      "Done 1  [1.1577945174954207, 9223372036854775807, 9223372036854775807, 1.1354919087530715, 1.1043114825750735]\n",
      "PI=  99\n",
      "0     [3.8283668569803533, 9.223372036854776e+18, 9.223372036854776e+18, 4.080162186559459, 4.126571043154425]\n",
      "1.424188367993338\n"
     ]
    }
   ],
   "source": [
    "start = timer()\n",
    "y_pred,temp_y = hmm.viterbi(df.iloc[4]['x'])\n",
    "stop = timer()\n",
    "print(stop-start)"
   ]
  },
  {
   "cell_type": "code",
   "execution_count": 84,
   "metadata": {},
   "outputs": [
    {
     "output_type": "stream",
     "name": "stdout",
     "text": [
      "102 \n 102\nSTOP STOP\n"
     ]
    }
   ],
   "source": [
    "print(len(y_pred),'\\n',len(df.iloc[4]['y']))\n",
    "print(y_pred[-1], df.iloc[4]['y'][-1])"
   ]
  },
  {
   "cell_type": "code",
   "execution_count": 85,
   "metadata": {},
   "outputs": [
    {
     "output_type": "stream",
     "name": "stdout",
     "text": [
      "['START', 'I', 'E', 'I', 'E', 'I', 'I', 'I', 'I', 'I', 'I', 'I', 'I', 'I', 'I', 'I', 'I', 'E', 'E', 'I', 'I', 'I', 'I', 'E', 'E', 'I', 'I', 'I', 'E', 'E', 'I', 'E', 'E', 'I', 'I', 'E', 'E', 'E', 'I', 'E', 'E', 'I', 'I', 'I', 'I', 'E', 'E', 'E', 'E', 'E', 'I', 'I', 'I', 'I', 'I', 'I', 'I', 'I', 'I', 'E', 'E', 'I', 'I', 'I', 'E', 'I', 'I', 'I', 'E', 'E', 'E', 'E', 'E', 'I', 'I', 'E', 'E', 'E', 'I', 'I', 'E', 'E', 'E', 'E', 'I', 'E', 'I', 'E', 'E', 'E', 'E', 'E', 'E', 'E', 'E', 'I', 'E', 'E', 'E', 'E', 'E', 'STOP']\n"
     ]
    }
   ],
   "source": [
    "print(y_pred)"
   ]
  },
  {
   "cell_type": "code",
   "execution_count": 86,
   "metadata": {},
   "outputs": [
    {
     "output_type": "stream",
     "name": "stdout",
     "text": [
      "0.00980392156862745\n"
     ]
    }
   ],
   "source": [
    "count = 0\n",
    "y_corr = ['START'] + df.iloc[4]['y'] + ['STOP']\n",
    "for i in range(len(y_pred)):\n",
    "    if y_pred[i] == y_corr[i]:\n",
    "        count += 1\n",
    "print(count/len(y_pred))"
   ]
  },
  {
   "cell_type": "code",
   "execution_count": 87,
   "metadata": {},
   "outputs": [
    {
     "output_type": "stream",
     "name": "stdout",
     "text": [
      "{'N', 'STOP', 'START'}\n{'I', 'E'}\n{'I', 'STOP', 'E', 'START'}\n[100, 2, 2]\n[56, 43]\n[51, 1, 49, 1]\n"
     ]
    }
   ],
   "source": [
    "\n",
    "print(set(y_corr))\n",
    "print(set(temp_y))\n",
    "print(set(y_pred))\n",
    "print([y_corr.count(i) for i in set(y_corr)])\n",
    "print([temp_y.count(i) for i in set(temp_y)])\n",
    "print([y_pred.count(i) for i in set(y_pred)])"
   ]
  },
  {
   "cell_type": "code",
   "execution_count": 90,
   "metadata": {
    "tags": []
   },
   "outputs": [
    {
     "output_type": "stream",
     "name": "stdout",
     "text": [
      "Done 1  [1.1577945174954207, 9223372036854775807, 9223372036854775807, 1.1354919087530715, 1.1043114825750735]\n",
      "PI=  19999\n",
      "15000     [38168.282978398754, 9.223372036854815e+18, 9.223372036854815e+18, 38167.86864575531, 38167.80596789631]\n",
      "10000     [25408.808828052264, 9.2233720368548e+18, 9.2233720368548e+18, 25408.31594031823, 25408.273514414625]\n",
      "5000     [12661.542118926282, 9.223372036854788e+18, 9.223372036854788e+18, 12661.637173086183, 12661.646865710436]\n",
      "0     [3.8283668569803533, 9.223372036854776e+18, 9.223372036854776e+18, 4.080162186559459, 4.126571043154425]\n",
      "3.2705980879982235\n"
     ]
    }
   ],
   "source": [
    "start = timer()\n",
    "y_pred,temp_y = hmm.viterbi(temp.iloc[4]['x'][:20000])\n",
    "stop = timer()\n",
    "print(stop-start)\n"
   ]
  },
  {
   "cell_type": "code",
   "execution_count": 95,
   "metadata": {},
   "outputs": [
    {
     "output_type": "stream",
     "name": "stdout",
     "text": [
      "20002 \n 20000\nSTOP N\n"
     ]
    }
   ],
   "source": [
    "print(len(y_pred),'\\n',len(temp.iloc[4]['y'][:20000]))\n",
    "print(y_pred[-1], temp.iloc[4]['y'][-1])"
   ]
  },
  {
   "cell_type": "code",
   "execution_count": 98,
   "metadata": {},
   "outputs": [
    {
     "output_type": "stream",
     "name": "stdout",
     "text": [
      "20002 20002\n9.999000099990002e-05\n"
     ]
    }
   ],
   "source": [
    "count = 0\n",
    "y_corr = ['START'] + temp.iloc[4]['y'][:20000] + ['STOP']\n",
    "print(len(y_pred), len(y_corr))\n",
    "for i in range(len(y_pred)):\n",
    "    if y_pred[i] == y_corr[i]:\n",
    "        count += 1\n",
    "print(count/len(y_pred))"
   ]
  },
  {
   "cell_type": "code",
   "execution_count": 99,
   "metadata": {},
   "outputs": [
    {
     "output_type": "stream",
     "name": "stdout",
     "text": [
      "{'N', 'STOP', 'START'}\n{'I', 'E'}\n{'I', 'STOP', 'E', 'START'}\n[20000, 1, 1]\n[10028, 9971]\n[10106, 1, 9894, 1]\n"
     ]
    }
   ],
   "source": [
    "\n",
    "print(set(y_corr))\n",
    "print(set(temp_y))\n",
    "print(set(y_pred))\n",
    "print([y_corr.count(i) for i in set(y_corr)])\n",
    "print([temp_y.count(i) for i in set(temp_y)])\n",
    "print([y_pred.count(i) for i in set(y_pred)])"
   ]
  },
  {
   "cell_type": "code",
   "execution_count": null,
   "metadata": {},
   "outputs": [],
   "source": []
  },
  {
   "cell_type": "code",
   "execution_count": null,
   "metadata": {},
   "outputs": [],
   "source": []
  },
  {
   "cell_type": "code",
   "execution_count": null,
   "metadata": {},
   "outputs": [],
   "source": []
  },
  {
   "cell_type": "code",
   "execution_count": null,
   "metadata": {},
   "outputs": [],
   "source": []
  }
 ]
}