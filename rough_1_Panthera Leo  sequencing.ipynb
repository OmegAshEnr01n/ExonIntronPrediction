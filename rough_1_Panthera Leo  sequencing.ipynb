{
 "metadata": {
  "language_info": {
   "codemirror_mode": {
    "name": "ipython",
    "version": 3
   },
   "file_extension": ".py",
   "mimetype": "text/x-python",
   "name": "python",
   "nbconvert_exporter": "python",
   "pygments_lexer": "ipython3",
   "version": "3.7.9"
  },
  "orig_nbformat": 2,
  "kernelspec": {
   "name": "python379jvsc74a57bd0e982cbab146b5da557c3dd4de569c6d20de87aa4899f75bf3dc2ace7a19e2876",
   "display_name": "Python 3.7.9 64-bit ('dev': conda)"
  }
 },
 "nbformat": 4,
 "nbformat_minor": 2,
 "cells": [
  {
   "source": [
    "# Panthera Leo"
   ],
   "cell_type": "markdown",
   "metadata": {}
  },
  {
   "cell_type": "code",
   "execution_count": 1,
   "metadata": {},
   "outputs": [
    {
     "output_type": "stream",
     "name": "stdout",
     "text": [
      "Biopython v1.78\n"
     ]
    }
   ],
   "source": [
    "import numpy as np # linear algebra\n",
    "import pandas as pd # data processing, CSV file I/O (e.g. pd.read_csv)\n",
    "import Bio\n",
    "print(\"Biopython v\" + Bio.__version__)\n",
    "from timeit import default_timer as timer\n",
    "import copy\n",
    "import math\n",
    "import sys\n",
    "from gtfparse import read_gtf\n",
    "\n",
    "\n",
    "\n"
   ]
  },
  {
   "cell_type": "code",
   "execution_count": 2,
   "metadata": {},
   "outputs": [
    {
     "output_type": "stream",
     "name": "stdout",
     "text": [
      "Id: A1 \t Length: 150,556,863\nSeq('ACCCTGACCCTAACCATTCTGGTCCTGAAGAAGTCTCAGCCCCAGCCCTGCGTC...TTA')\n\n"
     ]
    }
   ],
   "source": [
    "from Bio import SeqIO\n",
    "count = 0\n",
    "sequences = [] # Here we are setting up an array to save our sequences for the next step\n",
    "\n",
    "for seq_record in SeqIO.parse(\"./Panthera_leo/Panthera_leo.PanLeo1.0.dna.primary_assembly.A1.fa\", \"fasta\"):\n",
    "    if (count < 6):\n",
    "        sequences.append(seq_record)\n",
    "        print(\"Id: \" + seq_record.id + \" \\t \" + \"Length: \" + str(\"{:,d}\".format(len(seq_record))) )\n",
    "        print(repr(seq_record.seq) + \"\\n\")\n",
    "        count = count + 1\n",
    "\n"
   ]
  },
  {
   "cell_type": "code",
   "execution_count": 3,
   "metadata": {},
   "outputs": [
    {
     "output_type": "execute_result",
     "data": {
      "text/plain": [
       "[SeqRecord(seq=Seq('ACCCTGACCCTAACCATTCTGGTCCTGAAGAAGTCTCAGCCCCAGCCCTGCGTC...TTA'), id='A1', name='A1', description='A1 dna:primary_assembly primary_assembly:PanLeo1.0:A1:1:150556863:1 REF', dbxrefs=[])]"
      ]
     },
     "metadata": {},
     "execution_count": 3
    }
   ],
   "source": [
    "sequences"
   ]
  },
  {
   "cell_type": "code",
   "execution_count": 4,
   "metadata": {},
   "outputs": [
    {
     "output_type": "stream",
     "name": "stderr",
     "text": [
      "INFO:root:Extracted GTF attributes: ['gene_id', 'gene_version', 'gene_name', 'gene_source', 'gene_biotype', 'transcript_id', 'transcript_version', 'transcript_name', 'transcript_source', 'transcript_biotype', 'exon_number', 'exon_id', 'exon_version', 'protein_id', 'protein_version', 'projection_parent_transcript']\n"
     ]
    }
   ],
   "source": [
    "gtf = read_gtf('./Panthera_leo/Panthera_leo.PanLeo1.0.104.gtf')"
   ]
  },
  {
   "cell_type": "code",
   "execution_count": 6,
   "metadata": {},
   "outputs": [
    {
     "output_type": "execute_result",
     "data": {
      "text/plain": [
       "  seqname   source      feature     start       end  score strand frame  \\\n",
       "0      C2  ensembl         gene  53348037  53389547    NaN      +     0   \n",
       "1      C2  ensembl   transcript  53348037  53389547    NaN      +     0   \n",
       "2      C2  ensembl         exon  53348037  53348319    NaN      +     0   \n",
       "3      C2  ensembl          CDS  53348293  53348319    NaN      +     0   \n",
       "4      C2  ensembl  start_codon  53348293  53348295    NaN      +     0   \n",
       "5      C2  ensembl         exon  53352917  53352984    NaN      +     0   \n",
       "6      C2  ensembl          CDS  53352917  53352984    NaN      +     0   \n",
       "7      C2  ensembl         exon  53354920  53355030    NaN      +     0   \n",
       "8      C2  ensembl          CDS  53354920  53355030    NaN      +     1   \n",
       "9      C2  ensembl         exon  53357705  53357950    NaN      +     0   \n",
       "\n",
       "              gene_id gene_version  ... transcript_version transcript_name  \\\n",
       "0  ENSPLOG00000004688            1  ...                                      \n",
       "1  ENSPLOG00000004688            1  ...                  1       CWC22-201   \n",
       "2  ENSPLOG00000004688            1  ...                  1       CWC22-201   \n",
       "3  ENSPLOG00000004688            1  ...                  1       CWC22-201   \n",
       "4  ENSPLOG00000004688            1  ...                  1       CWC22-201   \n",
       "5  ENSPLOG00000004688            1  ...                  1       CWC22-201   \n",
       "6  ENSPLOG00000004688            1  ...                  1       CWC22-201   \n",
       "7  ENSPLOG00000004688            1  ...                  1       CWC22-201   \n",
       "8  ENSPLOG00000004688            1  ...                  1       CWC22-201   \n",
       "9  ENSPLOG00000004688            1  ...                  1       CWC22-201   \n",
       "\n",
       "  transcript_source transcript_biotype exon_number             exon_id  \\\n",
       "0                                                                        \n",
       "1           ensembl     protein_coding                                   \n",
       "2           ensembl     protein_coding           1  ENSPLOE00000043121   \n",
       "3           ensembl     protein_coding           1                       \n",
       "4           ensembl     protein_coding           1                       \n",
       "5           ensembl     protein_coding           2  ENSPLOE00000043128   \n",
       "6           ensembl     protein_coding           2                       \n",
       "7           ensembl     protein_coding           3  ENSPLOE00000043129   \n",
       "8           ensembl     protein_coding           3                       \n",
       "9           ensembl     protein_coding           4  ENSPLOE00000043130   \n",
       "\n",
       "  exon_version          protein_id protein_version  \\\n",
       "0                                                    \n",
       "1                                                    \n",
       "2            1                                       \n",
       "3               ENSPLOP00000006420               1   \n",
       "4                                                    \n",
       "5            1                                       \n",
       "6               ENSPLOP00000006420               1   \n",
       "7            1                                       \n",
       "8               ENSPLOP00000006420               1   \n",
       "9            1                                       \n",
       "\n",
       "  projection_parent_transcript  \n",
       "0                               \n",
       "1                               \n",
       "2                               \n",
       "3                               \n",
       "4                               \n",
       "5                               \n",
       "6                               \n",
       "7                               \n",
       "8                               \n",
       "9                               \n",
       "\n",
       "[10 rows x 24 columns]"
      ],
      "text/html": "<div>\n<style scoped>\n    .dataframe tbody tr th:only-of-type {\n        vertical-align: middle;\n    }\n\n    .dataframe tbody tr th {\n        vertical-align: top;\n    }\n\n    .dataframe thead th {\n        text-align: right;\n    }\n</style>\n<table border=\"1\" class=\"dataframe\">\n  <thead>\n    <tr style=\"text-align: right;\">\n      <th></th>\n      <th>seqname</th>\n      <th>source</th>\n      <th>feature</th>\n      <th>start</th>\n      <th>end</th>\n      <th>score</th>\n      <th>strand</th>\n      <th>frame</th>\n      <th>gene_id</th>\n      <th>gene_version</th>\n      <th>...</th>\n      <th>transcript_version</th>\n      <th>transcript_name</th>\n      <th>transcript_source</th>\n      <th>transcript_biotype</th>\n      <th>exon_number</th>\n      <th>exon_id</th>\n      <th>exon_version</th>\n      <th>protein_id</th>\n      <th>protein_version</th>\n      <th>projection_parent_transcript</th>\n    </tr>\n  </thead>\n  <tbody>\n    <tr>\n      <th>0</th>\n      <td>C2</td>\n      <td>ensembl</td>\n      <td>gene</td>\n      <td>53348037</td>\n      <td>53389547</td>\n      <td>NaN</td>\n      <td>+</td>\n      <td>0</td>\n      <td>ENSPLOG00000004688</td>\n      <td>1</td>\n      <td>...</td>\n      <td></td>\n      <td></td>\n      <td></td>\n      <td></td>\n      <td></td>\n      <td></td>\n      <td></td>\n      <td></td>\n      <td></td>\n      <td></td>\n    </tr>\n    <tr>\n      <th>1</th>\n      <td>C2</td>\n      <td>ensembl</td>\n      <td>transcript</td>\n      <td>53348037</td>\n      <td>53389547</td>\n      <td>NaN</td>\n      <td>+</td>\n      <td>0</td>\n      <td>ENSPLOG00000004688</td>\n      <td>1</td>\n      <td>...</td>\n      <td>1</td>\n      <td>CWC22-201</td>\n      <td>ensembl</td>\n      <td>protein_coding</td>\n      <td></td>\n      <td></td>\n      <td></td>\n      <td></td>\n      <td></td>\n      <td></td>\n    </tr>\n    <tr>\n      <th>2</th>\n      <td>C2</td>\n      <td>ensembl</td>\n      <td>exon</td>\n      <td>53348037</td>\n      <td>53348319</td>\n      <td>NaN</td>\n      <td>+</td>\n      <td>0</td>\n      <td>ENSPLOG00000004688</td>\n      <td>1</td>\n      <td>...</td>\n      <td>1</td>\n      <td>CWC22-201</td>\n      <td>ensembl</td>\n      <td>protein_coding</td>\n      <td>1</td>\n      <td>ENSPLOE00000043121</td>\n      <td>1</td>\n      <td></td>\n      <td></td>\n      <td></td>\n    </tr>\n    <tr>\n      <th>3</th>\n      <td>C2</td>\n      <td>ensembl</td>\n      <td>CDS</td>\n      <td>53348293</td>\n      <td>53348319</td>\n      <td>NaN</td>\n      <td>+</td>\n      <td>0</td>\n      <td>ENSPLOG00000004688</td>\n      <td>1</td>\n      <td>...</td>\n      <td>1</td>\n      <td>CWC22-201</td>\n      <td>ensembl</td>\n      <td>protein_coding</td>\n      <td>1</td>\n      <td></td>\n      <td></td>\n      <td>ENSPLOP00000006420</td>\n      <td>1</td>\n      <td></td>\n    </tr>\n    <tr>\n      <th>4</th>\n      <td>C2</td>\n      <td>ensembl</td>\n      <td>start_codon</td>\n      <td>53348293</td>\n      <td>53348295</td>\n      <td>NaN</td>\n      <td>+</td>\n      <td>0</td>\n      <td>ENSPLOG00000004688</td>\n      <td>1</td>\n      <td>...</td>\n      <td>1</td>\n      <td>CWC22-201</td>\n      <td>ensembl</td>\n      <td>protein_coding</td>\n      <td>1</td>\n      <td></td>\n      <td></td>\n      <td></td>\n      <td></td>\n      <td></td>\n    </tr>\n    <tr>\n      <th>5</th>\n      <td>C2</td>\n      <td>ensembl</td>\n      <td>exon</td>\n      <td>53352917</td>\n      <td>53352984</td>\n      <td>NaN</td>\n      <td>+</td>\n      <td>0</td>\n      <td>ENSPLOG00000004688</td>\n      <td>1</td>\n      <td>...</td>\n      <td>1</td>\n      <td>CWC22-201</td>\n      <td>ensembl</td>\n      <td>protein_coding</td>\n      <td>2</td>\n      <td>ENSPLOE00000043128</td>\n      <td>1</td>\n      <td></td>\n      <td></td>\n      <td></td>\n    </tr>\n    <tr>\n      <th>6</th>\n      <td>C2</td>\n      <td>ensembl</td>\n      <td>CDS</td>\n      <td>53352917</td>\n      <td>53352984</td>\n      <td>NaN</td>\n      <td>+</td>\n      <td>0</td>\n      <td>ENSPLOG00000004688</td>\n      <td>1</td>\n      <td>...</td>\n      <td>1</td>\n      <td>CWC22-201</td>\n      <td>ensembl</td>\n      <td>protein_coding</td>\n      <td>2</td>\n      <td></td>\n      <td></td>\n      <td>ENSPLOP00000006420</td>\n      <td>1</td>\n      <td></td>\n    </tr>\n    <tr>\n      <th>7</th>\n      <td>C2</td>\n      <td>ensembl</td>\n      <td>exon</td>\n      <td>53354920</td>\n      <td>53355030</td>\n      <td>NaN</td>\n      <td>+</td>\n      <td>0</td>\n      <td>ENSPLOG00000004688</td>\n      <td>1</td>\n      <td>...</td>\n      <td>1</td>\n      <td>CWC22-201</td>\n      <td>ensembl</td>\n      <td>protein_coding</td>\n      <td>3</td>\n      <td>ENSPLOE00000043129</td>\n      <td>1</td>\n      <td></td>\n      <td></td>\n      <td></td>\n    </tr>\n    <tr>\n      <th>8</th>\n      <td>C2</td>\n      <td>ensembl</td>\n      <td>CDS</td>\n      <td>53354920</td>\n      <td>53355030</td>\n      <td>NaN</td>\n      <td>+</td>\n      <td>1</td>\n      <td>ENSPLOG00000004688</td>\n      <td>1</td>\n      <td>...</td>\n      <td>1</td>\n      <td>CWC22-201</td>\n      <td>ensembl</td>\n      <td>protein_coding</td>\n      <td>3</td>\n      <td></td>\n      <td></td>\n      <td>ENSPLOP00000006420</td>\n      <td>1</td>\n      <td></td>\n    </tr>\n    <tr>\n      <th>9</th>\n      <td>C2</td>\n      <td>ensembl</td>\n      <td>exon</td>\n      <td>53357705</td>\n      <td>53357950</td>\n      <td>NaN</td>\n      <td>+</td>\n      <td>0</td>\n      <td>ENSPLOG00000004688</td>\n      <td>1</td>\n      <td>...</td>\n      <td>1</td>\n      <td>CWC22-201</td>\n      <td>ensembl</td>\n      <td>protein_coding</td>\n      <td>4</td>\n      <td>ENSPLOE00000043130</td>\n      <td>1</td>\n      <td></td>\n      <td></td>\n      <td></td>\n    </tr>\n  </tbody>\n</table>\n<p>10 rows × 24 columns</p>\n</div>"
     },
     "metadata": {},
     "execution_count": 6
    }
   ],
   "source": [
    "gtf.head(10)"
   ]
  },
  {
   "cell_type": "code",
   "execution_count": 5,
   "metadata": {},
   "outputs": [
    {
     "output_type": "execute_result",
     "data": {
      "text/plain": [
       "array(['C2', 'B2', 'A3', 'D1', 'A1', 'B4', 'C1', 'B1', 'B3', 'D2', 'E1',\n",
       "       'D4', 'D3', 'A2', 'X', 'F2', 'E2', 'E3', 'F1', 'VOCV01000391.1',\n",
       "       'VOCV01000222.1', 'VOCV01000149.1', 'VOCV01000384.1',\n",
       "       'VOCV01000250.1', 'VOCV01000867.1', 'VOCV01000390.1',\n",
       "       'VOCV01000310.1', 'VOCV01000249.1', 'VOCV01000381.1',\n",
       "       'VOCV01000260.1', 'VOCV01000737.1', 'VOCV01000387.1',\n",
       "       'VOCV01000414.1', 'VOCV01000188.1', 'VOCV01000388.1',\n",
       "       'VOCV01000305.1', 'VOCV01000383.1', 'VOCV01000262.1',\n",
       "       'VOCV01000220.1', 'VOCV01000263.1', 'VOCV01000412.1',\n",
       "       'VOCV01000266.1', 'VOCV01000337.1', 'VOCV01000378.1',\n",
       "       'VOCV01000269.1', 'VOCV01000385.1', 'VOCV01000306.1',\n",
       "       'VOCV01000311.1', 'VOCV01000357.1', 'VOCV01000338.1',\n",
       "       'VOCV01000307.1', 'VOCV01000379.1', 'VOCV01000595.1',\n",
       "       'VOCV01000259.1', 'VOCV01000413.1', 'VOCV01000270.1',\n",
       "       'VOCV01000499.1', 'VOCV01000333.1', 'VOCV01000540.1',\n",
       "       'VOCV01000472.1', 'VOCV01000382.1', 'VOCV01000897.1',\n",
       "       'VOCV01000852.1', 'VOCV01000417.1', 'VOCV01000895.1',\n",
       "       'VOCV01000389.1', 'VOCV01000891.1', 'VOCV01000374.1',\n",
       "       'VOCV01000410.1', 'VOCV01008060.1', 'VOCV01000709.1',\n",
       "       'VOCV01000490.1', 'VOCV01000498.1', 'VOCV01000502.1',\n",
       "       'VOCV01000407.1', 'VOCV01000537.1', 'VOCV01000885.1',\n",
       "       'VOCV01000778.1', 'VOCV01000780.1', 'VOCV01000877.1',\n",
       "       'VOCV01000386.1', 'VOCV01000470.1', 'VOCV01000398.1',\n",
       "       'VOCV01008049.1', 'VOCV01000875.1', 'VOCV01000506.1',\n",
       "       'VOCV01000375.1', 'VOCV01000416.1', 'VOCV01008029.1',\n",
       "       'VOCV01000409.1', 'VOCV01008059.1', 'VOCV01007984.1',\n",
       "       'VOCV01000405.1', 'VOCV01000402.1', 'VOCV01000851.1',\n",
       "       'VOCV01000309.1', 'VOCV01000889.1', 'VOCV01000377.1',\n",
       "       'VOCV01008054.1', 'VOCV01000001.1', 'VOCV01000002.1',\n",
       "       'VOCV01000419.1', 'VOCV01008052.1', 'VOCV01008058.1',\n",
       "       'VOCV01000415.1', 'VOCV01008042.1', 'VOCV01000496.1',\n",
       "       'VOCV01000779.1', 'VOCV01008005.1', 'VOCV01000376.1',\n",
       "       'VOCV01008041.1', 'VOCV01000487.1', 'VOCV01000535.1',\n",
       "       'VOCV01000315.1', 'VOCV01000325.1', 'VOCV01000313.1',\n",
       "       'VOCV01000323.1', 'VOCV01000314.1', 'VOCV01000324.1',\n",
       "       'VOCV01000896.1', 'VOCV01000563.1', 'VOCV01000400.1',\n",
       "       'VOCV01000871.1', 'VOCV01000401.1', 'VOCV01000494.1',\n",
       "       'VOCV01000493.1', 'VOCV01000418.1', 'VOCV01008000.1',\n",
       "       'VOCV01000579.1', 'VOCV01000483.1', 'VOCV01000584.1',\n",
       "       'VOCV01000495.1', 'VOCV01000497.1', 'VOCV01008055.1',\n",
       "       'VOCV01000685.1', 'VOCV01008034.1', 'VOCV01000833.1',\n",
       "       'VOCV01000469.1', 'VOCV01000507.1', 'VOCV01008026.1',\n",
       "       'VOCV01000481.1', 'VOCV01000840.1', 'VOCV01000478.1',\n",
       "       'VOCV01000531.1', 'VOCV01007906.1', 'VOCV01000562.1',\n",
       "       'VOCV01007828.1', 'VOCV01000814.1', 'VOCV01008047.1',\n",
       "       'VOCV01008019.1', 'VOCV01000682.1', 'VOCV01000887.1',\n",
       "       'VOCV01000403.1', 'VOCV01000480.1', 'VOCV01000692.1',\n",
       "       'VOCV01007949.1', 'VOCV01000555.1', 'VOCV01007865.1',\n",
       "       'VOCV01007892.1', 'VOCV01000847.1', 'VOCV01000501.1',\n",
       "       'VOCV01000561.1', 'VOCV01000607.1', 'VOCV01000860.1',\n",
       "       'VOCV01000240.1', 'VOCV01000229.1', 'VOCV01007979.1',\n",
       "       'VOCV01000597.1', 'VOCV01007825.1', 'VOCV01000639.1',\n",
       "       'VOCV01000869.1', 'VOCV01000504.1', 'VOCV01000503.1',\n",
       "       'VOCV01000776.1', 'VOCV01000772.1', 'VOCV01000234.1',\n",
       "       'VOCV01000235.1', 'VOCV01007832.1', 'VOCV01000649.1',\n",
       "       'VOCV01007857.1', 'VOCV01007262.1', 'VOCV01000884.1',\n",
       "       'VOCV01007867.1', 'VOCV01007836.1', 'VOCV01007914.1',\n",
       "       'VOCV01007235.1', 'VOCV01007849.1', 'VOCV01008051.1',\n",
       "       'VOCV01000894.1', 'VOCV01000505.1', 'VOCV01000541.1',\n",
       "       'VOCV01007540.1', 'VOCV01007700.1', 'VOCV01000760.1',\n",
       "       'VOCV01007904.1', 'VOCV01000630.1', 'VOCV01000547.1',\n",
       "       'VOCV01000534.1', 'VOCV01007995.1', 'VOCV01000523.1',\n",
       "       'VOCV01000521.1', 'VOCV01000522.1', 'VOCV01000676.1',\n",
       "       'VOCV01000322.1', 'VOCV01000316.1', 'VOCV01000477.1',\n",
       "       'VOCV01000687.1', 'VOCV01000232.1', 'VOCV01000243.1',\n",
       "       'VOCV01000489.1', 'VOCV01000872.1', 'VOCV01000665.1',\n",
       "       'VOCV01000486.1', 'VOCV01000734.1', 'VOCV01000247.1',\n",
       "       'VOCV01000227.1', 'VOCV01000225.1', 'VOCV01000245.1',\n",
       "       'VOCV01000226.1', 'VOCV01000246.1', 'VOCV01000636.1',\n",
       "       'VOCV01000567.1', 'VOCV01000893.1', 'VOCV01000545.1',\n",
       "       'VOCV01007947.1', 'VOCV01007363.1', 'VOCV01000488.1',\n",
       "       'VOCV01007921.1', 'VOCV01000845.1', 'VOCV01000835.1',\n",
       "       'VOCV01007338.1', 'VOCV01000866.1', 'VOCV01007930.1',\n",
       "       'VOCV01000857.1', 'VOCV01000530.1', 'VOCV01000727.1',\n",
       "       'VOCV01007357.1', 'VOCV01000236.1', 'VOCV01000862.1',\n",
       "       'VOCV01000237.1', 'VOCV01007844.1', 'VOCV01000688.1',\n",
       "       'VOCV01006041.1', 'VOCV01000834.1', 'VOCV01000475.1',\n",
       "       'VOCV01007811.1', 'VOCV01007354.1', 'VOCV01000526.1',\n",
       "       'VOCV01000632.1', 'VOCV01007868.1', 'VOCV01000769.1',\n",
       "       'VOCV01000326.1', 'VOCV01000312.1', 'VOCV01000686.1',\n",
       "       'VOCV01007628.1', 'VOCV01000838.1', 'VOCV01000565.1',\n",
       "       'VOCV01000544.1', 'VOCV01000765.1', 'VOCV01000790.1',\n",
       "       'VOCV01000576.1', 'VOCV01007877.1', 'VOCV01000876.1',\n",
       "       'VOCV01000798.1', 'VOCV01007376.1', 'VOCV01007556.1',\n",
       "       'VOCV01006731.1', 'VOCV01007067.1', 'VOCV01007408.1',\n",
       "       'VOCV01000605.1', 'VOCV01000804.1', 'VOCV01007853.1',\n",
       "       'VOCV01000528.1', 'VOCV01000677.1', 'VOCV01007852.1',\n",
       "       'VOCV01007006.1', 'VOCV01007651.1', 'VOCV01000543.1',\n",
       "       'VOCV01000738.1', 'VOCV01000794.1', 'VOCV01000757.1',\n",
       "       'VOCV01000733.1', 'VOCV01008038.1', 'VOCV01000817.1',\n",
       "       'VOCV01006242.1', 'VOCV01003345.1', 'VOCV01007182.1',\n",
       "       'VOCV01006819.1', 'VOCV01000558.1', 'VOCV01007773.1',\n",
       "       'VOCV01000801.1', 'VOCV01007489.1', 'VOCV01007776.1',\n",
       "       'VOCV01007219.1', 'VOCV01000598.1', 'VOCV01007896.1',\n",
       "       'VOCV01000583.1', 'VOCV01000479.1', 'VOCV01000570.1',\n",
       "       'VOCV01000568.1', 'VOCV01000473.1', 'VOCV01007335.1',\n",
       "       'VOCV01000566.1', 'VOCV01005308.1', 'VOCV01000853.1',\n",
       "       'VOCV01007499.1', 'VOCV01000578.1', 'VOCV01000821.1',\n",
       "       'VOCV01000805.1', 'VOCV01007654.1', 'VOCV01003052.1',\n",
       "       'VOCV01000713.1', 'VOCV01000695.1', 'VOCV01000572.1',\n",
       "       'VOCV01007498.1', 'VOCV01007279.1', 'VOCV01006783.1',\n",
       "       'VOCV01000571.1', 'VOCV01000725.1', 'VOCV01007127.1',\n",
       "       'VOCV01000603.1', 'VOCV01005217.1', 'VOCV01007037.1',\n",
       "       'VOCV01007216.1', 'VOCV01007418.1', 'VOCV01007426.1',\n",
       "       'VOCV01007519.1', 'VOCV01007694.1', 'VOCV01007117.1',\n",
       "       'VOCV01007444.1', 'VOCV01000164.1', 'VOCV01007666.1',\n",
       "       'VOCV01000810.1', 'VOCV01007425.1', 'VOCV01007260.1',\n",
       "       'VOCV01007943.1', 'VOCV01007690.1', 'VOCV01007217.1',\n",
       "       'VOCV01000775.1', 'VOCV01007416.1', 'VOCV01007076.1',\n",
       "       'VOCV01000836.1', 'VOCV01007767.1', 'VOCV01000807.1',\n",
       "       'VOCV01003000.1', 'VOCV01007430.1', 'VOCV01007291.1',\n",
       "       'VOCV01007402.1', 'VOCV01003775.1', 'VOCV01007827.1',\n",
       "       'VOCV01002955.1', 'VOCV01003055.1', 'VOCV01000634.1',\n",
       "       'VOCV01006615.1', 'VOCV01006563.1', 'VOCV01007263.1',\n",
       "       'VOCV01007656.1', 'VOCV01006058.1', 'VOCV01006061.1',\n",
       "       'VOCV01007172.1', 'VOCV01002422.1', 'VOCV01005683.1',\n",
       "       'VOCV01004011.1', 'VOCV01006623.1', 'VOCV01006824.1',\n",
       "       'VOCV01006753.1', 'VOCV01006846.1', 'VOCV01006826.1',\n",
       "       'VOCV01003919.1', 'VOCV01002322.1', 'VOCV01005077.1',\n",
       "       'VOCV01000162.1', 'VOCV01006062.1', 'VOCV01006760.1',\n",
       "       'VOCV01003675.1', 'VOCV01007107.1', 'VOCV01001676.1',\n",
       "       'VOCV01005506.1', 'VOCV01007278.1', 'VOCV01007287.1',\n",
       "       'VOCV01001715.1', 'VOCV01006553.1', 'VOCV01007277.1',\n",
       "       'VOCV01000675.1', 'VOCV01002556.1', 'VOCV01002335.1',\n",
       "       'VOCV01000452.1', 'VOCV01006945.1', 'VOCV01003205.1',\n",
       "       'VOCV01005719.1', 'VOCV01006290.1', 'VOCV01007574.1',\n",
       "       'VOCV01007611.1', 'VOCV01002403.1', 'VOCV01002275.1',\n",
       "       'VOCV01006020.1', 'VOCV01006633.1', 'VOCV01003754.1',\n",
       "       'VOCV01005872.1', 'VOCV01006963.1', 'VOCV01006252.1',\n",
       "       'VOCV01005786.1', 'VOCV01007575.1', 'VOCV01005071.1',\n",
       "       'VOCV01002638.1', 'VOCV01001484.1', 'VOCV01004549.1',\n",
       "       'VOCV01000923.1', 'VOCV01002951.1', 'VOCV01006031.1',\n",
       "       'VOCV01005932.1', 'VOCV01005947.1', 'VOCV01007470.1',\n",
       "       'VOCV01003746.1', 'VOCV01002138.1', 'VOCV01005535.1',\n",
       "       'VOCV01005108.1', 'VOCV01001754.1', 'VOCV01000822.1',\n",
       "       'VOCV01000569.1', 'VOCV01001185.1', 'VOCV01004741.1',\n",
       "       'VOCV01000628.1', 'VOCV01004312.1', 'VOCV01000604.1',\n",
       "       'VOCV01002408.1', 'VOCV01003232.1', 'VOCV01006114.1',\n",
       "       'VOCV01007530.1', 'VOCV01003858.1', 'VOCV01006085.1',\n",
       "       'VOCV01005454.1', 'VOCV01006755.1', 'VOCV01002903.1',\n",
       "       'VOCV01007252.1', 'VOCV01007933.1', 'VOCV01006722.1',\n",
       "       'VOCV01001316.1', 'VOCV01006605.1', 'VOCV01003193.1',\n",
       "       'VOCV01005029.1', 'VOCV01006200.1', 'VOCV01001957.1',\n",
       "       'VOCV01002977.1', 'VOCV01001578.1', 'VOCV01007544.1',\n",
       "       'VOCV01004028.1', 'VOCV01000028.1', 'VOCV01007565.1',\n",
       "       'VOCV01000698.1', 'VOCV01004153.1', 'VOCV01005602.1',\n",
       "       'VOCV01002283.1', 'VOCV01002161.1', 'VOCV01004273.1',\n",
       "       'VOCV01002546.1', 'VOCV01001271.1', 'VOCV01004972.1',\n",
       "       'VOCV01002411.1', 'VOCV01005997.1', 'VOCV01000067.1',\n",
       "       'VOCV01002137.1', 'VOCV01005092.1', 'VOCV01003169.1',\n",
       "       'VOCV01003310.1', 'VOCV01004599.1', 'VOCV01005340.1',\n",
       "       'VOCV01004582.1', 'VOCV01003994.1', 'VOCV01002589.1',\n",
       "       'VOCV01000514.1', 'VOCV01002558.1', 'VOCV01003716.1',\n",
       "       'VOCV01002503.1', 'VOCV01006217.1', 'VOCV01007684.1',\n",
       "       'VOCV01004951.1', 'VOCV01003805.1', 'VOCV01006343.1',\n",
       "       'VOCV01001646.1', 'VOCV01004054.1', 'VOCV01005305.1',\n",
       "       'VOCV01003155.1', 'VOCV01002319.1', 'VOCV01006208.1',\n",
       "       'VOCV01000179.1', 'VOCV01005590.1', 'VOCV01001819.1',\n",
       "       'VOCV01003008.1', 'VOCV01007256.1', 'VOCV01005954.1',\n",
       "       'VOCV01002532.1', 'VOCV01005392.1', 'VOCV01001093.1',\n",
       "       'VOCV01001791.1', 'VOCV01003729.1', 'VOCV01003125.1',\n",
       "       'VOCV01003293.1', 'VOCV01005307.1', 'VOCV01001833.1',\n",
       "       'VOCV01001183.1', 'VOCV01001002.1', 'VOCV01003828.1',\n",
       "       'VOCV01003417.1', 'VOCV01002396.1', 'VOCV01001734.1',\n",
       "       'VOCV01001738.1', 'VOCV01005725.1', 'VOCV01001832.1',\n",
       "       'VOCV01006337.1'], dtype=object)"
      ]
     },
     "metadata": {},
     "execution_count": 5
    }
   ],
   "source": [
    "gtf['seqname'].unique()"
   ]
  },
  {
   "cell_type": "code",
   "execution_count": 6,
   "metadata": {},
   "outputs": [],
   "source": [
    "gtfi = gtf.drop(['source','gene_source','transcript_id','transcript_version','transcript_name','gene_name','projection_parent_transcript','gene_version', 'gene_id','transcript_source','score'],axis = 1)"
   ]
  },
  {
   "cell_type": "code",
   "execution_count": 7,
   "metadata": {},
   "outputs": [
    {
     "output_type": "execute_result",
     "data": {
      "text/plain": [
       "seqname                                         A1\n",
       "source                                     ensembl\n",
       "feature                                start_codon\n",
       "start                                    131160467\n",
       "end                                      131160469\n",
       "score                                          NaN\n",
       "strand                                           -\n",
       "frame                                            0\n",
       "gene_id                         ENSPLOG00000000004\n",
       "gene_version                                     1\n",
       "gene_name                                    WNT9A\n",
       "gene_source                                ensembl\n",
       "gene_biotype                        protein_coding\n",
       "transcript_id                   ENSPLOT00000000004\n",
       "transcript_version                               1\n",
       "transcript_name                          WNT9A-201\n",
       "transcript_source                          ensembl\n",
       "transcript_biotype                  protein_coding\n",
       "exon_number                                      1\n",
       "exon_id                                           \n",
       "exon_version                                      \n",
       "protein_id                                        \n",
       "protein_version                                   \n",
       "projection_parent_transcript     ENST00000272164.6\n",
       "Name: 230637, dtype: object"
      ]
     },
     "metadata": {},
     "execution_count": 7
    }
   ],
   "source": [
    "gtf.loc[gtf['seqname'] == 'A1'].iloc[7]"
   ]
  },
  {
   "cell_type": "code",
   "execution_count": 24,
   "metadata": {},
   "outputs": [],
   "source": [
    "gtfi_a1 = gtfi.loc[gtfi['seqname'] == 'A1']"
   ]
  },
  {
   "cell_type": "code",
   "execution_count": 25,
   "metadata": {},
   "outputs": [
    {
     "output_type": "execute_result",
     "data": {
      "text/plain": [
       "       seqname         feature      start        end strand frame  \\\n",
       "230630      A1            gene   42950264   42950370      -     0   \n",
       "230631      A1      transcript   42950264   42950370      -     0   \n",
       "230632      A1            exon   42950264   42950370      -     0   \n",
       "230633      A1            gene  131140027  131160469      -     0   \n",
       "230634      A1      transcript  131140027  131160469      -     0   \n",
       "230635      A1            exon  131160375  131160469      -     0   \n",
       "230636      A1             CDS  131160375  131160469      -     0   \n",
       "230637      A1     start_codon  131160467  131160469      -     0   \n",
       "230638      A1            exon  131143468  131143724      -     0   \n",
       "230639      A1             CDS  131143468  131143724      -     1   \n",
       "230640      A1            exon  131142411  131142673      -     0   \n",
       "230641      A1             CDS  131142411  131142673      -     2   \n",
       "230642      A1            exon  131140027  131140509      -     0   \n",
       "230643      A1             CDS  131140030  131140509      -     0   \n",
       "230644      A1      stop_codon  131140027  131140029      -     0   \n",
       "230645      A1            gene  117005116  117024112      +     0   \n",
       "230646      A1      transcript  117005116  117024112      +     0   \n",
       "230647      A1            exon  117005116  117005240      +     0   \n",
       "230648      A1             CDS  117005116  117005240      +     0   \n",
       "230649      A1     start_codon  117005116  117005118      +     0   \n",
       "230650      A1            exon  117010220  117010353      +     0   \n",
       "230651      A1             CDS  117010220  117010353      +     1   \n",
       "230652      A1            exon  117022705  117022841      +     0   \n",
       "230653      A1             CDS  117022705  117022841      +     2   \n",
       "230654      A1            exon  117023972  117024112      +     0   \n",
       "230655      A1             CDS  117023972  117024109      +     0   \n",
       "230656      A1      stop_codon  117024110  117024112      +     0   \n",
       "230657      A1            gene  117044857  117156435      -     0   \n",
       "230658      A1      transcript  117044857  117156435      -     0   \n",
       "230659      A1            exon  117155229  117156435      -     0   \n",
       "230660      A1             CDS  117155229  117155606      -     0   \n",
       "230661      A1     start_codon  117155604  117155606      -     0   \n",
       "230662      A1            exon  117103844  117104113      -     0   \n",
       "230663      A1             CDS  117103844  117104113      -     0   \n",
       "230664      A1            exon  117100555  117100650      -     0   \n",
       "230665      A1             CDS  117100555  117100650      -     0   \n",
       "230666      A1            exon  117092369  117092692      -     0   \n",
       "230667      A1             CDS  117092369  117092692      -     0   \n",
       "230668      A1            exon  117060623  117060714      -     0   \n",
       "230669      A1             CDS  117060623  117060714      -     0   \n",
       "230670      A1            exon  117059204  117059374      -     0   \n",
       "230671      A1             CDS  117059204  117059374      -     1   \n",
       "230672      A1            exon  117051669  117051904      -     0   \n",
       "230673      A1             CDS  117051669  117051904      -     1   \n",
       "230674      A1            exon  117047808  117048169      -     0   \n",
       "230675      A1             CDS  117047808  117048169      -     2   \n",
       "230676      A1            exon  117044857  117045132      -     0   \n",
       "230677      A1             CDS  117044860  117045132      -     0   \n",
       "230678      A1      stop_codon  117044857  117044859      -     0   \n",
       "230679      A1  five_prime_utr  117155607  117156435      -     0   \n",
       "\n",
       "          gene_biotype transcript_biotype exon_number             exon_id  \\\n",
       "230630           snRNA                                                      \n",
       "230631           snRNA              snRNA                                   \n",
       "230632           snRNA              snRNA           1  ENSPLOE00000000016   \n",
       "230633  protein_coding                                                      \n",
       "230634  protein_coding     protein_coding                                   \n",
       "230635  protein_coding     protein_coding           1  ENSPLOE00000000021   \n",
       "230636  protein_coding     protein_coding           1                       \n",
       "230637  protein_coding     protein_coding           1                       \n",
       "230638  protein_coding     protein_coding           2  ENSPLOE00000000023   \n",
       "230639  protein_coding     protein_coding           2                       \n",
       "230640  protein_coding     protein_coding           3  ENSPLOE00000000025   \n",
       "230641  protein_coding     protein_coding           3                       \n",
       "230642  protein_coding     protein_coding           4  ENSPLOE00000000028   \n",
       "230643  protein_coding     protein_coding           4                       \n",
       "230644  protein_coding     protein_coding           4                       \n",
       "230645  protein_coding                                                      \n",
       "230646  protein_coding     protein_coding                                   \n",
       "230647  protein_coding     protein_coding           1  ENSPLOE00000000022   \n",
       "230648  protein_coding     protein_coding           1                       \n",
       "230649  protein_coding     protein_coding           1                       \n",
       "230650  protein_coding     protein_coding           2  ENSPLOE00000000024   \n",
       "230651  protein_coding     protein_coding           2                       \n",
       "230652  protein_coding     protein_coding           3  ENSPLOE00000000026   \n",
       "230653  protein_coding     protein_coding           3                       \n",
       "230654  protein_coding     protein_coding           4  ENSPLOE00000000029   \n",
       "230655  protein_coding     protein_coding           4                       \n",
       "230656  protein_coding     protein_coding           4                       \n",
       "230657  protein_coding                                                      \n",
       "230658  protein_coding     protein_coding                                   \n",
       "230659  protein_coding     protein_coding           1  ENSPLOE00000000030   \n",
       "230660  protein_coding     protein_coding           1                       \n",
       "230661  protein_coding     protein_coding           1                       \n",
       "230662  protein_coding     protein_coding           2  ENSPLOE00000000031   \n",
       "230663  protein_coding     protein_coding           2                       \n",
       "230664  protein_coding     protein_coding           3  ENSPLOE00000000032   \n",
       "230665  protein_coding     protein_coding           3                       \n",
       "230666  protein_coding     protein_coding           4  ENSPLOE00000000033   \n",
       "230667  protein_coding     protein_coding           4                       \n",
       "230668  protein_coding     protein_coding           5  ENSPLOE00000000034   \n",
       "230669  protein_coding     protein_coding           5                       \n",
       "230670  protein_coding     protein_coding           6  ENSPLOE00000000035   \n",
       "230671  protein_coding     protein_coding           6                       \n",
       "230672  protein_coding     protein_coding           7  ENSPLOE00000000036   \n",
       "230673  protein_coding     protein_coding           7                       \n",
       "230674  protein_coding     protein_coding           8  ENSPLOE00000000037   \n",
       "230675  protein_coding     protein_coding           8                       \n",
       "230676  protein_coding     protein_coding           9  ENSPLOE00000000038   \n",
       "230677  protein_coding     protein_coding           9                       \n",
       "230678  protein_coding     protein_coding           9                       \n",
       "230679  protein_coding     protein_coding                                   \n",
       "\n",
       "       exon_version          protein_id protein_version  \n",
       "230630                                                   \n",
       "230631                                                   \n",
       "230632            1                                      \n",
       "230633                                                   \n",
       "230634                                                   \n",
       "230635            1                                      \n",
       "230636               ENSPLOP00000000002               1  \n",
       "230637                                                   \n",
       "230638            1                                      \n",
       "230639               ENSPLOP00000000002               1  \n",
       "230640            1                                      \n",
       "230641               ENSPLOP00000000002               1  \n",
       "230642            1                                      \n",
       "230643               ENSPLOP00000000002               1  \n",
       "230644                                                   \n",
       "230645                                                   \n",
       "230646                                                   \n",
       "230647            1                                      \n",
       "230648               ENSPLOP00000000003               1  \n",
       "230649                                                   \n",
       "230650            1                                      \n",
       "230651               ENSPLOP00000000003               1  \n",
       "230652            1                                      \n",
       "230653               ENSPLOP00000000003               1  \n",
       "230654            1                                      \n",
       "230655               ENSPLOP00000000003               1  \n",
       "230656                                                   \n",
       "230657                                                   \n",
       "230658                                                   \n",
       "230659            1                                      \n",
       "230660               ENSPLOP00000000004               1  \n",
       "230661                                                   \n",
       "230662            1                                      \n",
       "230663               ENSPLOP00000000004               1  \n",
       "230664            1                                      \n",
       "230665               ENSPLOP00000000004               1  \n",
       "230666            1                                      \n",
       "230667               ENSPLOP00000000004               1  \n",
       "230668            1                                      \n",
       "230669               ENSPLOP00000000004               1  \n",
       "230670            1                                      \n",
       "230671               ENSPLOP00000000004               1  \n",
       "230672            1                                      \n",
       "230673               ENSPLOP00000000004               1  \n",
       "230674            1                                      \n",
       "230675               ENSPLOP00000000004               1  \n",
       "230676            1                                      \n",
       "230677               ENSPLOP00000000004               1  \n",
       "230678                                                   \n",
       "230679                                                   "
      ],
      "text/html": "<div>\n<style scoped>\n    .dataframe tbody tr th:only-of-type {\n        vertical-align: middle;\n    }\n\n    .dataframe tbody tr th {\n        vertical-align: top;\n    }\n\n    .dataframe thead th {\n        text-align: right;\n    }\n</style>\n<table border=\"1\" class=\"dataframe\">\n  <thead>\n    <tr style=\"text-align: right;\">\n      <th></th>\n      <th>seqname</th>\n      <th>feature</th>\n      <th>start</th>\n      <th>end</th>\n      <th>strand</th>\n      <th>frame</th>\n      <th>gene_biotype</th>\n      <th>transcript_biotype</th>\n      <th>exon_number</th>\n      <th>exon_id</th>\n      <th>exon_version</th>\n      <th>protein_id</th>\n      <th>protein_version</th>\n    </tr>\n  </thead>\n  <tbody>\n    <tr>\n      <th>230630</th>\n      <td>A1</td>\n      <td>gene</td>\n      <td>42950264</td>\n      <td>42950370</td>\n      <td>-</td>\n      <td>0</td>\n      <td>snRNA</td>\n      <td></td>\n      <td></td>\n      <td></td>\n      <td></td>\n      <td></td>\n      <td></td>\n    </tr>\n    <tr>\n      <th>230631</th>\n      <td>A1</td>\n      <td>transcript</td>\n      <td>42950264</td>\n      <td>42950370</td>\n      <td>-</td>\n      <td>0</td>\n      <td>snRNA</td>\n      <td>snRNA</td>\n      <td></td>\n      <td></td>\n      <td></td>\n      <td></td>\n      <td></td>\n    </tr>\n    <tr>\n      <th>230632</th>\n      <td>A1</td>\n      <td>exon</td>\n      <td>42950264</td>\n      <td>42950370</td>\n      <td>-</td>\n      <td>0</td>\n      <td>snRNA</td>\n      <td>snRNA</td>\n      <td>1</td>\n      <td>ENSPLOE00000000016</td>\n      <td>1</td>\n      <td></td>\n      <td></td>\n    </tr>\n    <tr>\n      <th>230633</th>\n      <td>A1</td>\n      <td>gene</td>\n      <td>131140027</td>\n      <td>131160469</td>\n      <td>-</td>\n      <td>0</td>\n      <td>protein_coding</td>\n      <td></td>\n      <td></td>\n      <td></td>\n      <td></td>\n      <td></td>\n      <td></td>\n    </tr>\n    <tr>\n      <th>230634</th>\n      <td>A1</td>\n      <td>transcript</td>\n      <td>131140027</td>\n      <td>131160469</td>\n      <td>-</td>\n      <td>0</td>\n      <td>protein_coding</td>\n      <td>protein_coding</td>\n      <td></td>\n      <td></td>\n      <td></td>\n      <td></td>\n      <td></td>\n    </tr>\n    <tr>\n      <th>230635</th>\n      <td>A1</td>\n      <td>exon</td>\n      <td>131160375</td>\n      <td>131160469</td>\n      <td>-</td>\n      <td>0</td>\n      <td>protein_coding</td>\n      <td>protein_coding</td>\n      <td>1</td>\n      <td>ENSPLOE00000000021</td>\n      <td>1</td>\n      <td></td>\n      <td></td>\n    </tr>\n    <tr>\n      <th>230636</th>\n      <td>A1</td>\n      <td>CDS</td>\n      <td>131160375</td>\n      <td>131160469</td>\n      <td>-</td>\n      <td>0</td>\n      <td>protein_coding</td>\n      <td>protein_coding</td>\n      <td>1</td>\n      <td></td>\n      <td></td>\n      <td>ENSPLOP00000000002</td>\n      <td>1</td>\n    </tr>\n    <tr>\n      <th>230637</th>\n      <td>A1</td>\n      <td>start_codon</td>\n      <td>131160467</td>\n      <td>131160469</td>\n      <td>-</td>\n      <td>0</td>\n      <td>protein_coding</td>\n      <td>protein_coding</td>\n      <td>1</td>\n      <td></td>\n      <td></td>\n      <td></td>\n      <td></td>\n    </tr>\n    <tr>\n      <th>230638</th>\n      <td>A1</td>\n      <td>exon</td>\n      <td>131143468</td>\n      <td>131143724</td>\n      <td>-</td>\n      <td>0</td>\n      <td>protein_coding</td>\n      <td>protein_coding</td>\n      <td>2</td>\n      <td>ENSPLOE00000000023</td>\n      <td>1</td>\n      <td></td>\n      <td></td>\n    </tr>\n    <tr>\n      <th>230639</th>\n      <td>A1</td>\n      <td>CDS</td>\n      <td>131143468</td>\n      <td>131143724</td>\n      <td>-</td>\n      <td>1</td>\n      <td>protein_coding</td>\n      <td>protein_coding</td>\n      <td>2</td>\n      <td></td>\n      <td></td>\n      <td>ENSPLOP00000000002</td>\n      <td>1</td>\n    </tr>\n    <tr>\n      <th>230640</th>\n      <td>A1</td>\n      <td>exon</td>\n      <td>131142411</td>\n      <td>131142673</td>\n      <td>-</td>\n      <td>0</td>\n      <td>protein_coding</td>\n      <td>protein_coding</td>\n      <td>3</td>\n      <td>ENSPLOE00000000025</td>\n      <td>1</td>\n      <td></td>\n      <td></td>\n    </tr>\n    <tr>\n      <th>230641</th>\n      <td>A1</td>\n      <td>CDS</td>\n      <td>131142411</td>\n      <td>131142673</td>\n      <td>-</td>\n      <td>2</td>\n      <td>protein_coding</td>\n      <td>protein_coding</td>\n      <td>3</td>\n      <td></td>\n      <td></td>\n      <td>ENSPLOP00000000002</td>\n      <td>1</td>\n    </tr>\n    <tr>\n      <th>230642</th>\n      <td>A1</td>\n      <td>exon</td>\n      <td>131140027</td>\n      <td>131140509</td>\n      <td>-</td>\n      <td>0</td>\n      <td>protein_coding</td>\n      <td>protein_coding</td>\n      <td>4</td>\n      <td>ENSPLOE00000000028</td>\n      <td>1</td>\n      <td></td>\n      <td></td>\n    </tr>\n    <tr>\n      <th>230643</th>\n      <td>A1</td>\n      <td>CDS</td>\n      <td>131140030</td>\n      <td>131140509</td>\n      <td>-</td>\n      <td>0</td>\n      <td>protein_coding</td>\n      <td>protein_coding</td>\n      <td>4</td>\n      <td></td>\n      <td></td>\n      <td>ENSPLOP00000000002</td>\n      <td>1</td>\n    </tr>\n    <tr>\n      <th>230644</th>\n      <td>A1</td>\n      <td>stop_codon</td>\n      <td>131140027</td>\n      <td>131140029</td>\n      <td>-</td>\n      <td>0</td>\n      <td>protein_coding</td>\n      <td>protein_coding</td>\n      <td>4</td>\n      <td></td>\n      <td></td>\n      <td></td>\n      <td></td>\n    </tr>\n    <tr>\n      <th>230645</th>\n      <td>A1</td>\n      <td>gene</td>\n      <td>117005116</td>\n      <td>117024112</td>\n      <td>+</td>\n      <td>0</td>\n      <td>protein_coding</td>\n      <td></td>\n      <td></td>\n      <td></td>\n      <td></td>\n      <td></td>\n      <td></td>\n    </tr>\n    <tr>\n      <th>230646</th>\n      <td>A1</td>\n      <td>transcript</td>\n      <td>117005116</td>\n      <td>117024112</td>\n      <td>+</td>\n      <td>0</td>\n      <td>protein_coding</td>\n      <td>protein_coding</td>\n      <td></td>\n      <td></td>\n      <td></td>\n      <td></td>\n      <td></td>\n    </tr>\n    <tr>\n      <th>230647</th>\n      <td>A1</td>\n      <td>exon</td>\n      <td>117005116</td>\n      <td>117005240</td>\n      <td>+</td>\n      <td>0</td>\n      <td>protein_coding</td>\n      <td>protein_coding</td>\n      <td>1</td>\n      <td>ENSPLOE00000000022</td>\n      <td>1</td>\n      <td></td>\n      <td></td>\n    </tr>\n    <tr>\n      <th>230648</th>\n      <td>A1</td>\n      <td>CDS</td>\n      <td>117005116</td>\n      <td>117005240</td>\n      <td>+</td>\n      <td>0</td>\n      <td>protein_coding</td>\n      <td>protein_coding</td>\n      <td>1</td>\n      <td></td>\n      <td></td>\n      <td>ENSPLOP00000000003</td>\n      <td>1</td>\n    </tr>\n    <tr>\n      <th>230649</th>\n      <td>A1</td>\n      <td>start_codon</td>\n      <td>117005116</td>\n      <td>117005118</td>\n      <td>+</td>\n      <td>0</td>\n      <td>protein_coding</td>\n      <td>protein_coding</td>\n      <td>1</td>\n      <td></td>\n      <td></td>\n      <td></td>\n      <td></td>\n    </tr>\n    <tr>\n      <th>230650</th>\n      <td>A1</td>\n      <td>exon</td>\n      <td>117010220</td>\n      <td>117010353</td>\n      <td>+</td>\n      <td>0</td>\n      <td>protein_coding</td>\n      <td>protein_coding</td>\n      <td>2</td>\n      <td>ENSPLOE00000000024</td>\n      <td>1</td>\n      <td></td>\n      <td></td>\n    </tr>\n    <tr>\n      <th>230651</th>\n      <td>A1</td>\n      <td>CDS</td>\n      <td>117010220</td>\n      <td>117010353</td>\n      <td>+</td>\n      <td>1</td>\n      <td>protein_coding</td>\n      <td>protein_coding</td>\n      <td>2</td>\n      <td></td>\n      <td></td>\n      <td>ENSPLOP00000000003</td>\n      <td>1</td>\n    </tr>\n    <tr>\n      <th>230652</th>\n      <td>A1</td>\n      <td>exon</td>\n      <td>117022705</td>\n      <td>117022841</td>\n      <td>+</td>\n      <td>0</td>\n      <td>protein_coding</td>\n      <td>protein_coding</td>\n      <td>3</td>\n      <td>ENSPLOE00000000026</td>\n      <td>1</td>\n      <td></td>\n      <td></td>\n    </tr>\n    <tr>\n      <th>230653</th>\n      <td>A1</td>\n      <td>CDS</td>\n      <td>117022705</td>\n      <td>117022841</td>\n      <td>+</td>\n      <td>2</td>\n      <td>protein_coding</td>\n      <td>protein_coding</td>\n      <td>3</td>\n      <td></td>\n      <td></td>\n      <td>ENSPLOP00000000003</td>\n      <td>1</td>\n    </tr>\n    <tr>\n      <th>230654</th>\n      <td>A1</td>\n      <td>exon</td>\n      <td>117023972</td>\n      <td>117024112</td>\n      <td>+</td>\n      <td>0</td>\n      <td>protein_coding</td>\n      <td>protein_coding</td>\n      <td>4</td>\n      <td>ENSPLOE00000000029</td>\n      <td>1</td>\n      <td></td>\n      <td></td>\n    </tr>\n    <tr>\n      <th>230655</th>\n      <td>A1</td>\n      <td>CDS</td>\n      <td>117023972</td>\n      <td>117024109</td>\n      <td>+</td>\n      <td>0</td>\n      <td>protein_coding</td>\n      <td>protein_coding</td>\n      <td>4</td>\n      <td></td>\n      <td></td>\n      <td>ENSPLOP00000000003</td>\n      <td>1</td>\n    </tr>\n    <tr>\n      <th>230656</th>\n      <td>A1</td>\n      <td>stop_codon</td>\n      <td>117024110</td>\n      <td>117024112</td>\n      <td>+</td>\n      <td>0</td>\n      <td>protein_coding</td>\n      <td>protein_coding</td>\n      <td>4</td>\n      <td></td>\n      <td></td>\n      <td></td>\n      <td></td>\n    </tr>\n    <tr>\n      <th>230657</th>\n      <td>A1</td>\n      <td>gene</td>\n      <td>117044857</td>\n      <td>117156435</td>\n      <td>-</td>\n      <td>0</td>\n      <td>protein_coding</td>\n      <td></td>\n      <td></td>\n      <td></td>\n      <td></td>\n      <td></td>\n      <td></td>\n    </tr>\n    <tr>\n      <th>230658</th>\n      <td>A1</td>\n      <td>transcript</td>\n      <td>117044857</td>\n      <td>117156435</td>\n      <td>-</td>\n      <td>0</td>\n      <td>protein_coding</td>\n      <td>protein_coding</td>\n      <td></td>\n      <td></td>\n      <td></td>\n      <td></td>\n      <td></td>\n    </tr>\n    <tr>\n      <th>230659</th>\n      <td>A1</td>\n      <td>exon</td>\n      <td>117155229</td>\n      <td>117156435</td>\n      <td>-</td>\n      <td>0</td>\n      <td>protein_coding</td>\n      <td>protein_coding</td>\n      <td>1</td>\n      <td>ENSPLOE00000000030</td>\n      <td>1</td>\n      <td></td>\n      <td></td>\n    </tr>\n    <tr>\n      <th>230660</th>\n      <td>A1</td>\n      <td>CDS</td>\n      <td>117155229</td>\n      <td>117155606</td>\n      <td>-</td>\n      <td>0</td>\n      <td>protein_coding</td>\n      <td>protein_coding</td>\n      <td>1</td>\n      <td></td>\n      <td></td>\n      <td>ENSPLOP00000000004</td>\n      <td>1</td>\n    </tr>\n    <tr>\n      <th>230661</th>\n      <td>A1</td>\n      <td>start_codon</td>\n      <td>117155604</td>\n      <td>117155606</td>\n      <td>-</td>\n      <td>0</td>\n      <td>protein_coding</td>\n      <td>protein_coding</td>\n      <td>1</td>\n      <td></td>\n      <td></td>\n      <td></td>\n      <td></td>\n    </tr>\n    <tr>\n      <th>230662</th>\n      <td>A1</td>\n      <td>exon</td>\n      <td>117103844</td>\n      <td>117104113</td>\n      <td>-</td>\n      <td>0</td>\n      <td>protein_coding</td>\n      <td>protein_coding</td>\n      <td>2</td>\n      <td>ENSPLOE00000000031</td>\n      <td>1</td>\n      <td></td>\n      <td></td>\n    </tr>\n    <tr>\n      <th>230663</th>\n      <td>A1</td>\n      <td>CDS</td>\n      <td>117103844</td>\n      <td>117104113</td>\n      <td>-</td>\n      <td>0</td>\n      <td>protein_coding</td>\n      <td>protein_coding</td>\n      <td>2</td>\n      <td></td>\n      <td></td>\n      <td>ENSPLOP00000000004</td>\n      <td>1</td>\n    </tr>\n    <tr>\n      <th>230664</th>\n      <td>A1</td>\n      <td>exon</td>\n      <td>117100555</td>\n      <td>117100650</td>\n      <td>-</td>\n      <td>0</td>\n      <td>protein_coding</td>\n      <td>protein_coding</td>\n      <td>3</td>\n      <td>ENSPLOE00000000032</td>\n      <td>1</td>\n      <td></td>\n      <td></td>\n    </tr>\n    <tr>\n      <th>230665</th>\n      <td>A1</td>\n      <td>CDS</td>\n      <td>117100555</td>\n      <td>117100650</td>\n      <td>-</td>\n      <td>0</td>\n      <td>protein_coding</td>\n      <td>protein_coding</td>\n      <td>3</td>\n      <td></td>\n      <td></td>\n      <td>ENSPLOP00000000004</td>\n      <td>1</td>\n    </tr>\n    <tr>\n      <th>230666</th>\n      <td>A1</td>\n      <td>exon</td>\n      <td>117092369</td>\n      <td>117092692</td>\n      <td>-</td>\n      <td>0</td>\n      <td>protein_coding</td>\n      <td>protein_coding</td>\n      <td>4</td>\n      <td>ENSPLOE00000000033</td>\n      <td>1</td>\n      <td></td>\n      <td></td>\n    </tr>\n    <tr>\n      <th>230667</th>\n      <td>A1</td>\n      <td>CDS</td>\n      <td>117092369</td>\n      <td>117092692</td>\n      <td>-</td>\n      <td>0</td>\n      <td>protein_coding</td>\n      <td>protein_coding</td>\n      <td>4</td>\n      <td></td>\n      <td></td>\n      <td>ENSPLOP00000000004</td>\n      <td>1</td>\n    </tr>\n    <tr>\n      <th>230668</th>\n      <td>A1</td>\n      <td>exon</td>\n      <td>117060623</td>\n      <td>117060714</td>\n      <td>-</td>\n      <td>0</td>\n      <td>protein_coding</td>\n      <td>protein_coding</td>\n      <td>5</td>\n      <td>ENSPLOE00000000034</td>\n      <td>1</td>\n      <td></td>\n      <td></td>\n    </tr>\n    <tr>\n      <th>230669</th>\n      <td>A1</td>\n      <td>CDS</td>\n      <td>117060623</td>\n      <td>117060714</td>\n      <td>-</td>\n      <td>0</td>\n      <td>protein_coding</td>\n      <td>protein_coding</td>\n      <td>5</td>\n      <td></td>\n      <td></td>\n      <td>ENSPLOP00000000004</td>\n      <td>1</td>\n    </tr>\n    <tr>\n      <th>230670</th>\n      <td>A1</td>\n      <td>exon</td>\n      <td>117059204</td>\n      <td>117059374</td>\n      <td>-</td>\n      <td>0</td>\n      <td>protein_coding</td>\n      <td>protein_coding</td>\n      <td>6</td>\n      <td>ENSPLOE00000000035</td>\n      <td>1</td>\n      <td></td>\n      <td></td>\n    </tr>\n    <tr>\n      <th>230671</th>\n      <td>A1</td>\n      <td>CDS</td>\n      <td>117059204</td>\n      <td>117059374</td>\n      <td>-</td>\n      <td>1</td>\n      <td>protein_coding</td>\n      <td>protein_coding</td>\n      <td>6</td>\n      <td></td>\n      <td></td>\n      <td>ENSPLOP00000000004</td>\n      <td>1</td>\n    </tr>\n    <tr>\n      <th>230672</th>\n      <td>A1</td>\n      <td>exon</td>\n      <td>117051669</td>\n      <td>117051904</td>\n      <td>-</td>\n      <td>0</td>\n      <td>protein_coding</td>\n      <td>protein_coding</td>\n      <td>7</td>\n      <td>ENSPLOE00000000036</td>\n      <td>1</td>\n      <td></td>\n      <td></td>\n    </tr>\n    <tr>\n      <th>230673</th>\n      <td>A1</td>\n      <td>CDS</td>\n      <td>117051669</td>\n      <td>117051904</td>\n      <td>-</td>\n      <td>1</td>\n      <td>protein_coding</td>\n      <td>protein_coding</td>\n      <td>7</td>\n      <td></td>\n      <td></td>\n      <td>ENSPLOP00000000004</td>\n      <td>1</td>\n    </tr>\n    <tr>\n      <th>230674</th>\n      <td>A1</td>\n      <td>exon</td>\n      <td>117047808</td>\n      <td>117048169</td>\n      <td>-</td>\n      <td>0</td>\n      <td>protein_coding</td>\n      <td>protein_coding</td>\n      <td>8</td>\n      <td>ENSPLOE00000000037</td>\n      <td>1</td>\n      <td></td>\n      <td></td>\n    </tr>\n    <tr>\n      <th>230675</th>\n      <td>A1</td>\n      <td>CDS</td>\n      <td>117047808</td>\n      <td>117048169</td>\n      <td>-</td>\n      <td>2</td>\n      <td>protein_coding</td>\n      <td>protein_coding</td>\n      <td>8</td>\n      <td></td>\n      <td></td>\n      <td>ENSPLOP00000000004</td>\n      <td>1</td>\n    </tr>\n    <tr>\n      <th>230676</th>\n      <td>A1</td>\n      <td>exon</td>\n      <td>117044857</td>\n      <td>117045132</td>\n      <td>-</td>\n      <td>0</td>\n      <td>protein_coding</td>\n      <td>protein_coding</td>\n      <td>9</td>\n      <td>ENSPLOE00000000038</td>\n      <td>1</td>\n      <td></td>\n      <td></td>\n    </tr>\n    <tr>\n      <th>230677</th>\n      <td>A1</td>\n      <td>CDS</td>\n      <td>117044860</td>\n      <td>117045132</td>\n      <td>-</td>\n      <td>0</td>\n      <td>protein_coding</td>\n      <td>protein_coding</td>\n      <td>9</td>\n      <td></td>\n      <td></td>\n      <td>ENSPLOP00000000004</td>\n      <td>1</td>\n    </tr>\n    <tr>\n      <th>230678</th>\n      <td>A1</td>\n      <td>stop_codon</td>\n      <td>117044857</td>\n      <td>117044859</td>\n      <td>-</td>\n      <td>0</td>\n      <td>protein_coding</td>\n      <td>protein_coding</td>\n      <td>9</td>\n      <td></td>\n      <td></td>\n      <td></td>\n      <td></td>\n    </tr>\n    <tr>\n      <th>230679</th>\n      <td>A1</td>\n      <td>five_prime_utr</td>\n      <td>117155607</td>\n      <td>117156435</td>\n      <td>-</td>\n      <td>0</td>\n      <td>protein_coding</td>\n      <td>protein_coding</td>\n      <td></td>\n      <td></td>\n      <td></td>\n      <td></td>\n      <td></td>\n    </tr>\n  </tbody>\n</table>\n</div>"
     },
     "metadata": {},
     "execution_count": 25
    }
   ],
   "source": [
    "gtfi_a1.iloc[:50]"
   ]
  },
  {
   "cell_type": "code",
   "execution_count": 27,
   "metadata": {},
   "outputs": [
    {
     "output_type": "execute_result",
     "data": {
      "text/plain": [
       "       seqname      feature      start        end strand frame  \\\n",
       "230680      A1         gene  123714259  123733104      +     0   \n",
       "230681      A1   transcript  123714259  123733104      +     0   \n",
       "230682      A1         exon  123714259  123714387      +     0   \n",
       "230683      A1          CDS  123714259  123714387      +     0   \n",
       "230684      A1  start_codon  123714259  123714261      +     0   \n",
       "230685      A1         exon  123721834  123722039      +     0   \n",
       "230686      A1          CDS  123721834  123722039      +     0   \n",
       "230687      A1         exon  123722706  123722806      +     0   \n",
       "230688      A1          CDS  123722706  123722806      +     1   \n",
       "230689      A1         exon  123729384  123729502      +     0   \n",
       "230690      A1          CDS  123729384  123729502      +     2   \n",
       "230691      A1         exon  123733021  123733098      +     0   \n",
       "230692      A1          CDS  123733021  123733098      +     0   \n",
       "230693      A1         exon  123733102  123733104      +     0   \n",
       "230694      A1   stop_codon  123733102  123733104      +     0   \n",
       "230695      A1         gene  117167400  117168415      -     0   \n",
       "230696      A1   transcript  117167400  117168415      -     0   \n",
       "230697      A1         exon  117168231  117168415      -     0   \n",
       "230698      A1          CDS  117168231  117168415      -     0   \n",
       "230699      A1  start_codon  117168413  117168415      -     0   \n",
       "230700      A1         exon  117167400  117167601      -     0   \n",
       "230701      A1          CDS  117167403  117167601      -     1   \n",
       "230702      A1   stop_codon  117167400  117167402      -     0   \n",
       "230703      A1         gene  117205405  117217992      +     0   \n",
       "230704      A1   transcript  117205405  117217992      +     0   \n",
       "230705      A1         exon  117205405  117205740      +     0   \n",
       "230706      A1          CDS  117205405  117205740      +     0   \n",
       "230707      A1  start_codon  117205405  117205407      +     0   \n",
       "230708      A1         exon  117212269  117212496      +     0   \n",
       "230709      A1          CDS  117212269  117212496      +     0   \n",
       "230710      A1         exon  117217810  117217992      +     0   \n",
       "230711      A1          CDS  117217810  117217989      +     0   \n",
       "230712      A1   stop_codon  117217990  117217992      +     0   \n",
       "230713      A1         gene  123756994  123762269      -     0   \n",
       "230714      A1   transcript  123756994  123762269      -     0   \n",
       "230715      A1         exon  123762173  123762269      -     0   \n",
       "230716      A1          CDS  123762173  123762269      -     0   \n",
       "230717      A1  start_codon  123762267  123762269      -     0   \n",
       "230718      A1         exon  123762110  123762171      -     0   \n",
       "230719      A1          CDS  123762110  123762171      -     2   \n",
       "230720      A1         exon  123761758  123761896      -     0   \n",
       "230721      A1          CDS  123761758  123761896      -     0   \n",
       "230722      A1         exon  123759751  123759876      -     0   \n",
       "230723      A1          CDS  123759751  123759876      -     2   \n",
       "230724      A1         exon  123758907  123759049      -     0   \n",
       "230725      A1          CDS  123758907  123759049      -     2   \n",
       "230726      A1         exon  123756994  123757515      -     0   \n",
       "230727      A1          CDS  123756997  123757515      -     0   \n",
       "230728      A1   stop_codon  123756994  123756996      -     0   \n",
       "230729      A1         gene  131187813  131228577      +     0   \n",
       "\n",
       "          gene_biotype transcript_biotype exon_number             exon_id  \\\n",
       "230680  protein_coding                                                      \n",
       "230681  protein_coding     protein_coding                                   \n",
       "230682  protein_coding     protein_coding           1  ENSPLOE00000000039   \n",
       "230683  protein_coding     protein_coding           1                       \n",
       "230684  protein_coding     protein_coding           1                       \n",
       "230685  protein_coding     protein_coding           2  ENSPLOE00000000040   \n",
       "230686  protein_coding     protein_coding           2                       \n",
       "230687  protein_coding     protein_coding           3  ENSPLOE00000000041   \n",
       "230688  protein_coding     protein_coding           3                       \n",
       "230689  protein_coding     protein_coding           4  ENSPLOE00000000042   \n",
       "230690  protein_coding     protein_coding           4                       \n",
       "230691  protein_coding     protein_coding           5  ENSPLOE00000000043   \n",
       "230692  protein_coding     protein_coding           5                       \n",
       "230693  protein_coding     protein_coding           6  ENSPLOE00000000044   \n",
       "230694  protein_coding     protein_coding           6                       \n",
       "230695  protein_coding                                                      \n",
       "230696  protein_coding     protein_coding                                   \n",
       "230697  protein_coding     protein_coding           1  ENSPLOE00000000045   \n",
       "230698  protein_coding     protein_coding           1                       \n",
       "230699  protein_coding     protein_coding           1                       \n",
       "230700  protein_coding     protein_coding           2  ENSPLOE00000000046   \n",
       "230701  protein_coding     protein_coding           2                       \n",
       "230702  protein_coding     protein_coding           2                       \n",
       "230703  protein_coding                                                      \n",
       "230704  protein_coding     protein_coding                                   \n",
       "230705  protein_coding     protein_coding           1  ENSPLOE00000000049   \n",
       "230706  protein_coding     protein_coding           1                       \n",
       "230707  protein_coding     protein_coding           1                       \n",
       "230708  protein_coding     protein_coding           2  ENSPLOE00000000052   \n",
       "230709  protein_coding     protein_coding           2                       \n",
       "230710  protein_coding     protein_coding           3  ENSPLOE00000000054   \n",
       "230711  protein_coding     protein_coding           3                       \n",
       "230712  protein_coding     protein_coding           3                       \n",
       "230713  protein_coding                                                      \n",
       "230714  protein_coding     protein_coding                                   \n",
       "230715  protein_coding     protein_coding           1  ENSPLOE00000000051   \n",
       "230716  protein_coding     protein_coding           1                       \n",
       "230717  protein_coding     protein_coding           1                       \n",
       "230718  protein_coding     protein_coding           2  ENSPLOE00000000055   \n",
       "230719  protein_coding     protein_coding           2                       \n",
       "230720  protein_coding     protein_coding           3  ENSPLOE00000000056   \n",
       "230721  protein_coding     protein_coding           3                       \n",
       "230722  protein_coding     protein_coding           4  ENSPLOE00000000057   \n",
       "230723  protein_coding     protein_coding           4                       \n",
       "230724  protein_coding     protein_coding           5  ENSPLOE00000000058   \n",
       "230725  protein_coding     protein_coding           5                       \n",
       "230726  protein_coding     protein_coding           6  ENSPLOE00000000059   \n",
       "230727  protein_coding     protein_coding           6                       \n",
       "230728  protein_coding     protein_coding           6                       \n",
       "230729  protein_coding                                                      \n",
       "\n",
       "       exon_version          protein_id protein_version  \n",
       "230680                                                   \n",
       "230681                                                   \n",
       "230682            1                                      \n",
       "230683               ENSPLOP00000000005               1  \n",
       "230684                                                   \n",
       "230685            1                                      \n",
       "230686               ENSPLOP00000000005               1  \n",
       "230687            1                                      \n",
       "230688               ENSPLOP00000000005               1  \n",
       "230689            1                                      \n",
       "230690               ENSPLOP00000000005               1  \n",
       "230691            1                                      \n",
       "230692               ENSPLOP00000000005               1  \n",
       "230693            1                                      \n",
       "230694                                                   \n",
       "230695                                                   \n",
       "230696                                                   \n",
       "230697            1                                      \n",
       "230698               ENSPLOP00000000006               1  \n",
       "230699                                                   \n",
       "230700            1                                      \n",
       "230701               ENSPLOP00000000006               1  \n",
       "230702                                                   \n",
       "230703                                                   \n",
       "230704                                                   \n",
       "230705            1                                      \n",
       "230706               ENSPLOP00000000008               1  \n",
       "230707                                                   \n",
       "230708            1                                      \n",
       "230709               ENSPLOP00000000008               1  \n",
       "230710            1                                      \n",
       "230711               ENSPLOP00000000008               1  \n",
       "230712                                                   \n",
       "230713                                                   \n",
       "230714                                                   \n",
       "230715            1                                      \n",
       "230716               ENSPLOP00000000009               1  \n",
       "230717                                                   \n",
       "230718            1                                      \n",
       "230719               ENSPLOP00000000009               1  \n",
       "230720            1                                      \n",
       "230721               ENSPLOP00000000009               1  \n",
       "230722            1                                      \n",
       "230723               ENSPLOP00000000009               1  \n",
       "230724            1                                      \n",
       "230725               ENSPLOP00000000009               1  \n",
       "230726            1                                      \n",
       "230727               ENSPLOP00000000009               1  \n",
       "230728                                                   \n",
       "230729                                                   "
      ],
      "text/html": "<div>\n<style scoped>\n    .dataframe tbody tr th:only-of-type {\n        vertical-align: middle;\n    }\n\n    .dataframe tbody tr th {\n        vertical-align: top;\n    }\n\n    .dataframe thead th {\n        text-align: right;\n    }\n</style>\n<table border=\"1\" class=\"dataframe\">\n  <thead>\n    <tr style=\"text-align: right;\">\n      <th></th>\n      <th>seqname</th>\n      <th>feature</th>\n      <th>start</th>\n      <th>end</th>\n      <th>strand</th>\n      <th>frame</th>\n      <th>gene_biotype</th>\n      <th>transcript_biotype</th>\n      <th>exon_number</th>\n      <th>exon_id</th>\n      <th>exon_version</th>\n      <th>protein_id</th>\n      <th>protein_version</th>\n    </tr>\n  </thead>\n  <tbody>\n    <tr>\n      <th>230680</th>\n      <td>A1</td>\n      <td>gene</td>\n      <td>123714259</td>\n      <td>123733104</td>\n      <td>+</td>\n      <td>0</td>\n      <td>protein_coding</td>\n      <td></td>\n      <td></td>\n      <td></td>\n      <td></td>\n      <td></td>\n      <td></td>\n    </tr>\n    <tr>\n      <th>230681</th>\n      <td>A1</td>\n      <td>transcript</td>\n      <td>123714259</td>\n      <td>123733104</td>\n      <td>+</td>\n      <td>0</td>\n      <td>protein_coding</td>\n      <td>protein_coding</td>\n      <td></td>\n      <td></td>\n      <td></td>\n      <td></td>\n      <td></td>\n    </tr>\n    <tr>\n      <th>230682</th>\n      <td>A1</td>\n      <td>exon</td>\n      <td>123714259</td>\n      <td>123714387</td>\n      <td>+</td>\n      <td>0</td>\n      <td>protein_coding</td>\n      <td>protein_coding</td>\n      <td>1</td>\n      <td>ENSPLOE00000000039</td>\n      <td>1</td>\n      <td></td>\n      <td></td>\n    </tr>\n    <tr>\n      <th>230683</th>\n      <td>A1</td>\n      <td>CDS</td>\n      <td>123714259</td>\n      <td>123714387</td>\n      <td>+</td>\n      <td>0</td>\n      <td>protein_coding</td>\n      <td>protein_coding</td>\n      <td>1</td>\n      <td></td>\n      <td></td>\n      <td>ENSPLOP00000000005</td>\n      <td>1</td>\n    </tr>\n    <tr>\n      <th>230684</th>\n      <td>A1</td>\n      <td>start_codon</td>\n      <td>123714259</td>\n      <td>123714261</td>\n      <td>+</td>\n      <td>0</td>\n      <td>protein_coding</td>\n      <td>protein_coding</td>\n      <td>1</td>\n      <td></td>\n      <td></td>\n      <td></td>\n      <td></td>\n    </tr>\n    <tr>\n      <th>230685</th>\n      <td>A1</td>\n      <td>exon</td>\n      <td>123721834</td>\n      <td>123722039</td>\n      <td>+</td>\n      <td>0</td>\n      <td>protein_coding</td>\n      <td>protein_coding</td>\n      <td>2</td>\n      <td>ENSPLOE00000000040</td>\n      <td>1</td>\n      <td></td>\n      <td></td>\n    </tr>\n    <tr>\n      <th>230686</th>\n      <td>A1</td>\n      <td>CDS</td>\n      <td>123721834</td>\n      <td>123722039</td>\n      <td>+</td>\n      <td>0</td>\n      <td>protein_coding</td>\n      <td>protein_coding</td>\n      <td>2</td>\n      <td></td>\n      <td></td>\n      <td>ENSPLOP00000000005</td>\n      <td>1</td>\n    </tr>\n    <tr>\n      <th>230687</th>\n      <td>A1</td>\n      <td>exon</td>\n      <td>123722706</td>\n      <td>123722806</td>\n      <td>+</td>\n      <td>0</td>\n      <td>protein_coding</td>\n      <td>protein_coding</td>\n      <td>3</td>\n      <td>ENSPLOE00000000041</td>\n      <td>1</td>\n      <td></td>\n      <td></td>\n    </tr>\n    <tr>\n      <th>230688</th>\n      <td>A1</td>\n      <td>CDS</td>\n      <td>123722706</td>\n      <td>123722806</td>\n      <td>+</td>\n      <td>1</td>\n      <td>protein_coding</td>\n      <td>protein_coding</td>\n      <td>3</td>\n      <td></td>\n      <td></td>\n      <td>ENSPLOP00000000005</td>\n      <td>1</td>\n    </tr>\n    <tr>\n      <th>230689</th>\n      <td>A1</td>\n      <td>exon</td>\n      <td>123729384</td>\n      <td>123729502</td>\n      <td>+</td>\n      <td>0</td>\n      <td>protein_coding</td>\n      <td>protein_coding</td>\n      <td>4</td>\n      <td>ENSPLOE00000000042</td>\n      <td>1</td>\n      <td></td>\n      <td></td>\n    </tr>\n    <tr>\n      <th>230690</th>\n      <td>A1</td>\n      <td>CDS</td>\n      <td>123729384</td>\n      <td>123729502</td>\n      <td>+</td>\n      <td>2</td>\n      <td>protein_coding</td>\n      <td>protein_coding</td>\n      <td>4</td>\n      <td></td>\n      <td></td>\n      <td>ENSPLOP00000000005</td>\n      <td>1</td>\n    </tr>\n    <tr>\n      <th>230691</th>\n      <td>A1</td>\n      <td>exon</td>\n      <td>123733021</td>\n      <td>123733098</td>\n      <td>+</td>\n      <td>0</td>\n      <td>protein_coding</td>\n      <td>protein_coding</td>\n      <td>5</td>\n      <td>ENSPLOE00000000043</td>\n      <td>1</td>\n      <td></td>\n      <td></td>\n    </tr>\n    <tr>\n      <th>230692</th>\n      <td>A1</td>\n      <td>CDS</td>\n      <td>123733021</td>\n      <td>123733098</td>\n      <td>+</td>\n      <td>0</td>\n      <td>protein_coding</td>\n      <td>protein_coding</td>\n      <td>5</td>\n      <td></td>\n      <td></td>\n      <td>ENSPLOP00000000005</td>\n      <td>1</td>\n    </tr>\n    <tr>\n      <th>230693</th>\n      <td>A1</td>\n      <td>exon</td>\n      <td>123733102</td>\n      <td>123733104</td>\n      <td>+</td>\n      <td>0</td>\n      <td>protein_coding</td>\n      <td>protein_coding</td>\n      <td>6</td>\n      <td>ENSPLOE00000000044</td>\n      <td>1</td>\n      <td></td>\n      <td></td>\n    </tr>\n    <tr>\n      <th>230694</th>\n      <td>A1</td>\n      <td>stop_codon</td>\n      <td>123733102</td>\n      <td>123733104</td>\n      <td>+</td>\n      <td>0</td>\n      <td>protein_coding</td>\n      <td>protein_coding</td>\n      <td>6</td>\n      <td></td>\n      <td></td>\n      <td></td>\n      <td></td>\n    </tr>\n    <tr>\n      <th>230695</th>\n      <td>A1</td>\n      <td>gene</td>\n      <td>117167400</td>\n      <td>117168415</td>\n      <td>-</td>\n      <td>0</td>\n      <td>protein_coding</td>\n      <td></td>\n      <td></td>\n      <td></td>\n      <td></td>\n      <td></td>\n      <td></td>\n    </tr>\n    <tr>\n      <th>230696</th>\n      <td>A1</td>\n      <td>transcript</td>\n      <td>117167400</td>\n      <td>117168415</td>\n      <td>-</td>\n      <td>0</td>\n      <td>protein_coding</td>\n      <td>protein_coding</td>\n      <td></td>\n      <td></td>\n      <td></td>\n      <td></td>\n      <td></td>\n    </tr>\n    <tr>\n      <th>230697</th>\n      <td>A1</td>\n      <td>exon</td>\n      <td>117168231</td>\n      <td>117168415</td>\n      <td>-</td>\n      <td>0</td>\n      <td>protein_coding</td>\n      <td>protein_coding</td>\n      <td>1</td>\n      <td>ENSPLOE00000000045</td>\n      <td>1</td>\n      <td></td>\n      <td></td>\n    </tr>\n    <tr>\n      <th>230698</th>\n      <td>A1</td>\n      <td>CDS</td>\n      <td>117168231</td>\n      <td>117168415</td>\n      <td>-</td>\n      <td>0</td>\n      <td>protein_coding</td>\n      <td>protein_coding</td>\n      <td>1</td>\n      <td></td>\n      <td></td>\n      <td>ENSPLOP00000000006</td>\n      <td>1</td>\n    </tr>\n    <tr>\n      <th>230699</th>\n      <td>A1</td>\n      <td>start_codon</td>\n      <td>117168413</td>\n      <td>117168415</td>\n      <td>-</td>\n      <td>0</td>\n      <td>protein_coding</td>\n      <td>protein_coding</td>\n      <td>1</td>\n      <td></td>\n      <td></td>\n      <td></td>\n      <td></td>\n    </tr>\n    <tr>\n      <th>230700</th>\n      <td>A1</td>\n      <td>exon</td>\n      <td>117167400</td>\n      <td>117167601</td>\n      <td>-</td>\n      <td>0</td>\n      <td>protein_coding</td>\n      <td>protein_coding</td>\n      <td>2</td>\n      <td>ENSPLOE00000000046</td>\n      <td>1</td>\n      <td></td>\n      <td></td>\n    </tr>\n    <tr>\n      <th>230701</th>\n      <td>A1</td>\n      <td>CDS</td>\n      <td>117167403</td>\n      <td>117167601</td>\n      <td>-</td>\n      <td>1</td>\n      <td>protein_coding</td>\n      <td>protein_coding</td>\n      <td>2</td>\n      <td></td>\n      <td></td>\n      <td>ENSPLOP00000000006</td>\n      <td>1</td>\n    </tr>\n    <tr>\n      <th>230702</th>\n      <td>A1</td>\n      <td>stop_codon</td>\n      <td>117167400</td>\n      <td>117167402</td>\n      <td>-</td>\n      <td>0</td>\n      <td>protein_coding</td>\n      <td>protein_coding</td>\n      <td>2</td>\n      <td></td>\n      <td></td>\n      <td></td>\n      <td></td>\n    </tr>\n    <tr>\n      <th>230703</th>\n      <td>A1</td>\n      <td>gene</td>\n      <td>117205405</td>\n      <td>117217992</td>\n      <td>+</td>\n      <td>0</td>\n      <td>protein_coding</td>\n      <td></td>\n      <td></td>\n      <td></td>\n      <td></td>\n      <td></td>\n      <td></td>\n    </tr>\n    <tr>\n      <th>230704</th>\n      <td>A1</td>\n      <td>transcript</td>\n      <td>117205405</td>\n      <td>117217992</td>\n      <td>+</td>\n      <td>0</td>\n      <td>protein_coding</td>\n      <td>protein_coding</td>\n      <td></td>\n      <td></td>\n      <td></td>\n      <td></td>\n      <td></td>\n    </tr>\n    <tr>\n      <th>230705</th>\n      <td>A1</td>\n      <td>exon</td>\n      <td>117205405</td>\n      <td>117205740</td>\n      <td>+</td>\n      <td>0</td>\n      <td>protein_coding</td>\n      <td>protein_coding</td>\n      <td>1</td>\n      <td>ENSPLOE00000000049</td>\n      <td>1</td>\n      <td></td>\n      <td></td>\n    </tr>\n    <tr>\n      <th>230706</th>\n      <td>A1</td>\n      <td>CDS</td>\n      <td>117205405</td>\n      <td>117205740</td>\n      <td>+</td>\n      <td>0</td>\n      <td>protein_coding</td>\n      <td>protein_coding</td>\n      <td>1</td>\n      <td></td>\n      <td></td>\n      <td>ENSPLOP00000000008</td>\n      <td>1</td>\n    </tr>\n    <tr>\n      <th>230707</th>\n      <td>A1</td>\n      <td>start_codon</td>\n      <td>117205405</td>\n      <td>117205407</td>\n      <td>+</td>\n      <td>0</td>\n      <td>protein_coding</td>\n      <td>protein_coding</td>\n      <td>1</td>\n      <td></td>\n      <td></td>\n      <td></td>\n      <td></td>\n    </tr>\n    <tr>\n      <th>230708</th>\n      <td>A1</td>\n      <td>exon</td>\n      <td>117212269</td>\n      <td>117212496</td>\n      <td>+</td>\n      <td>0</td>\n      <td>protein_coding</td>\n      <td>protein_coding</td>\n      <td>2</td>\n      <td>ENSPLOE00000000052</td>\n      <td>1</td>\n      <td></td>\n      <td></td>\n    </tr>\n    <tr>\n      <th>230709</th>\n      <td>A1</td>\n      <td>CDS</td>\n      <td>117212269</td>\n      <td>117212496</td>\n      <td>+</td>\n      <td>0</td>\n      <td>protein_coding</td>\n      <td>protein_coding</td>\n      <td>2</td>\n      <td></td>\n      <td></td>\n      <td>ENSPLOP00000000008</td>\n      <td>1</td>\n    </tr>\n    <tr>\n      <th>230710</th>\n      <td>A1</td>\n      <td>exon</td>\n      <td>117217810</td>\n      <td>117217992</td>\n      <td>+</td>\n      <td>0</td>\n      <td>protein_coding</td>\n      <td>protein_coding</td>\n      <td>3</td>\n      <td>ENSPLOE00000000054</td>\n      <td>1</td>\n      <td></td>\n      <td></td>\n    </tr>\n    <tr>\n      <th>230711</th>\n      <td>A1</td>\n      <td>CDS</td>\n      <td>117217810</td>\n      <td>117217989</td>\n      <td>+</td>\n      <td>0</td>\n      <td>protein_coding</td>\n      <td>protein_coding</td>\n      <td>3</td>\n      <td></td>\n      <td></td>\n      <td>ENSPLOP00000000008</td>\n      <td>1</td>\n    </tr>\n    <tr>\n      <th>230712</th>\n      <td>A1</td>\n      <td>stop_codon</td>\n      <td>117217990</td>\n      <td>117217992</td>\n      <td>+</td>\n      <td>0</td>\n      <td>protein_coding</td>\n      <td>protein_coding</td>\n      <td>3</td>\n      <td></td>\n      <td></td>\n      <td></td>\n      <td></td>\n    </tr>\n    <tr>\n      <th>230713</th>\n      <td>A1</td>\n      <td>gene</td>\n      <td>123756994</td>\n      <td>123762269</td>\n      <td>-</td>\n      <td>0</td>\n      <td>protein_coding</td>\n      <td></td>\n      <td></td>\n      <td></td>\n      <td></td>\n      <td></td>\n      <td></td>\n    </tr>\n    <tr>\n      <th>230714</th>\n      <td>A1</td>\n      <td>transcript</td>\n      <td>123756994</td>\n      <td>123762269</td>\n      <td>-</td>\n      <td>0</td>\n      <td>protein_coding</td>\n      <td>protein_coding</td>\n      <td></td>\n      <td></td>\n      <td></td>\n      <td></td>\n      <td></td>\n    </tr>\n    <tr>\n      <th>230715</th>\n      <td>A1</td>\n      <td>exon</td>\n      <td>123762173</td>\n      <td>123762269</td>\n      <td>-</td>\n      <td>0</td>\n      <td>protein_coding</td>\n      <td>protein_coding</td>\n      <td>1</td>\n      <td>ENSPLOE00000000051</td>\n      <td>1</td>\n      <td></td>\n      <td></td>\n    </tr>\n    <tr>\n      <th>230716</th>\n      <td>A1</td>\n      <td>CDS</td>\n      <td>123762173</td>\n      <td>123762269</td>\n      <td>-</td>\n      <td>0</td>\n      <td>protein_coding</td>\n      <td>protein_coding</td>\n      <td>1</td>\n      <td></td>\n      <td></td>\n      <td>ENSPLOP00000000009</td>\n      <td>1</td>\n    </tr>\n    <tr>\n      <th>230717</th>\n      <td>A1</td>\n      <td>start_codon</td>\n      <td>123762267</td>\n      <td>123762269</td>\n      <td>-</td>\n      <td>0</td>\n      <td>protein_coding</td>\n      <td>protein_coding</td>\n      <td>1</td>\n      <td></td>\n      <td></td>\n      <td></td>\n      <td></td>\n    </tr>\n    <tr>\n      <th>230718</th>\n      <td>A1</td>\n      <td>exon</td>\n      <td>123762110</td>\n      <td>123762171</td>\n      <td>-</td>\n      <td>0</td>\n      <td>protein_coding</td>\n      <td>protein_coding</td>\n      <td>2</td>\n      <td>ENSPLOE00000000055</td>\n      <td>1</td>\n      <td></td>\n      <td></td>\n    </tr>\n    <tr>\n      <th>230719</th>\n      <td>A1</td>\n      <td>CDS</td>\n      <td>123762110</td>\n      <td>123762171</td>\n      <td>-</td>\n      <td>2</td>\n      <td>protein_coding</td>\n      <td>protein_coding</td>\n      <td>2</td>\n      <td></td>\n      <td></td>\n      <td>ENSPLOP00000000009</td>\n      <td>1</td>\n    </tr>\n    <tr>\n      <th>230720</th>\n      <td>A1</td>\n      <td>exon</td>\n      <td>123761758</td>\n      <td>123761896</td>\n      <td>-</td>\n      <td>0</td>\n      <td>protein_coding</td>\n      <td>protein_coding</td>\n      <td>3</td>\n      <td>ENSPLOE00000000056</td>\n      <td>1</td>\n      <td></td>\n      <td></td>\n    </tr>\n    <tr>\n      <th>230721</th>\n      <td>A1</td>\n      <td>CDS</td>\n      <td>123761758</td>\n      <td>123761896</td>\n      <td>-</td>\n      <td>0</td>\n      <td>protein_coding</td>\n      <td>protein_coding</td>\n      <td>3</td>\n      <td></td>\n      <td></td>\n      <td>ENSPLOP00000000009</td>\n      <td>1</td>\n    </tr>\n    <tr>\n      <th>230722</th>\n      <td>A1</td>\n      <td>exon</td>\n      <td>123759751</td>\n      <td>123759876</td>\n      <td>-</td>\n      <td>0</td>\n      <td>protein_coding</td>\n      <td>protein_coding</td>\n      <td>4</td>\n      <td>ENSPLOE00000000057</td>\n      <td>1</td>\n      <td></td>\n      <td></td>\n    </tr>\n    <tr>\n      <th>230723</th>\n      <td>A1</td>\n      <td>CDS</td>\n      <td>123759751</td>\n      <td>123759876</td>\n      <td>-</td>\n      <td>2</td>\n      <td>protein_coding</td>\n      <td>protein_coding</td>\n      <td>4</td>\n      <td></td>\n      <td></td>\n      <td>ENSPLOP00000000009</td>\n      <td>1</td>\n    </tr>\n    <tr>\n      <th>230724</th>\n      <td>A1</td>\n      <td>exon</td>\n      <td>123758907</td>\n      <td>123759049</td>\n      <td>-</td>\n      <td>0</td>\n      <td>protein_coding</td>\n      <td>protein_coding</td>\n      <td>5</td>\n      <td>ENSPLOE00000000058</td>\n      <td>1</td>\n      <td></td>\n      <td></td>\n    </tr>\n    <tr>\n      <th>230725</th>\n      <td>A1</td>\n      <td>CDS</td>\n      <td>123758907</td>\n      <td>123759049</td>\n      <td>-</td>\n      <td>2</td>\n      <td>protein_coding</td>\n      <td>protein_coding</td>\n      <td>5</td>\n      <td></td>\n      <td></td>\n      <td>ENSPLOP00000000009</td>\n      <td>1</td>\n    </tr>\n    <tr>\n      <th>230726</th>\n      <td>A1</td>\n      <td>exon</td>\n      <td>123756994</td>\n      <td>123757515</td>\n      <td>-</td>\n      <td>0</td>\n      <td>protein_coding</td>\n      <td>protein_coding</td>\n      <td>6</td>\n      <td>ENSPLOE00000000059</td>\n      <td>1</td>\n      <td></td>\n      <td></td>\n    </tr>\n    <tr>\n      <th>230727</th>\n      <td>A1</td>\n      <td>CDS</td>\n      <td>123756997</td>\n      <td>123757515</td>\n      <td>-</td>\n      <td>0</td>\n      <td>protein_coding</td>\n      <td>protein_coding</td>\n      <td>6</td>\n      <td></td>\n      <td></td>\n      <td>ENSPLOP00000000009</td>\n      <td>1</td>\n    </tr>\n    <tr>\n      <th>230728</th>\n      <td>A1</td>\n      <td>stop_codon</td>\n      <td>123756994</td>\n      <td>123756996</td>\n      <td>-</td>\n      <td>0</td>\n      <td>protein_coding</td>\n      <td>protein_coding</td>\n      <td>6</td>\n      <td></td>\n      <td></td>\n      <td></td>\n      <td></td>\n    </tr>\n    <tr>\n      <th>230729</th>\n      <td>A1</td>\n      <td>gene</td>\n      <td>131187813</td>\n      <td>131228577</td>\n      <td>+</td>\n      <td>0</td>\n      <td>protein_coding</td>\n      <td></td>\n      <td></td>\n      <td></td>\n      <td></td>\n      <td></td>\n      <td></td>\n    </tr>\n  </tbody>\n</table>\n</div>"
     },
     "metadata": {},
     "execution_count": 27
    }
   ],
   "source": [
    "gtfi_a1.iloc[50:100]"
   ]
  },
  {
   "source": [
    "We are only interested in the transicription reagion. So loop through and find all the regios.\n",
    "\n",
    "Example of a Reverse gene with negative strand\n",
    "\n",
    "transicription = 131140027\t131160469\n",
    "\n",
    "start codon = 131160467\t 131160469\t We include both of the number so it is always (i-1,j)\n",
    "\n",
    "Exon = 131160375\t131160469\n",
    "\n",
    "exon = 131143468\t131143724\n",
    "\n",
    "stop codon = 131140027\t131140029"
   ],
   "cell_type": "markdown",
   "metadata": {}
  },
  {
   "cell_type": "code",
   "execution_count": 12,
   "metadata": {},
   "outputs": [
    {
     "output_type": "execute_result",
     "data": {
      "text/plain": [
       "Seq('GTA')"
      ]
     },
     "metadata": {},
     "execution_count": 12
    }
   ],
   "source": [
    "sequences[0].seq.complement()[131160466:131160469]"
   ]
  },
  {
   "cell_type": "code",
   "execution_count": 14,
   "metadata": {},
   "outputs": [
    {
     "output_type": "execute_result",
     "data": {
      "text/plain": [
       "Seq('GGCTTCATCCGCCGGCTCCCCGCGTCGCGCCGCTCGTCGTCGCAGTCGCGCTTC...GTA')"
      ]
     },
     "metadata": {},
     "execution_count": 14
    }
   ],
   "source": [
    "sequences[0].seq.complement()[131160374:131160469]"
   ]
  },
  {
   "cell_type": "code",
   "execution_count": 17,
   "metadata": {},
   "outputs": [
    {
     "output_type": "execute_result",
     "data": {
      "text/plain": [
       "Seq('TGGGCTTCATCCGCCGGCTCCCCGCGTCGCGCCGCTCGTCGTCGCAGTCGCGCT...GTA')"
      ]
     },
     "metadata": {},
     "execution_count": 17
    }
   ],
   "source": [
    "sequences[0].seq.complement()[131160372:131160469]"
   ]
  },
  {
   "source": [
    "Here the last TG is a donor site"
   ],
   "cell_type": "markdown",
   "metadata": {}
  },
  {
   "source": [
    "Next Exon"
   ],
   "cell_type": "markdown",
   "metadata": {}
  },
  {
   "cell_type": "code",
   "execution_count": 18,
   "metadata": {},
   "outputs": [
    {
     "output_type": "execute_result",
     "data": {
      "text/plain": [
       "Seq('GAGCGAACTCGTTCGACCGGGCCATCGCCGGGAGGTTCCATGTCAAGGTCGCGA...TCG')"
      ]
     },
     "metadata": {},
     "execution_count": 18
    }
   ],
   "source": [
    "sequences[0].seq.complement()[131143467:131143724]"
   ]
  },
  {
   "source": [
    "Lets look at the acceptor region. The AG is the acceptor"
   ],
   "cell_type": "markdown",
   "metadata": {}
  },
  {
   "cell_type": "code",
   "execution_count": 19,
   "metadata": {},
   "outputs": [
    {
     "output_type": "execute_result",
     "data": {
      "text/plain": [
       "Seq('GAGCGAACTCGTTCGACCGGGCCATCGCCGGGAGGTTCCATGTCAAGGTCGCGA...GGA')"
      ]
     },
     "metadata": {},
     "execution_count": 19
    }
   ],
   "source": [
    "sequences[0].seq.complement()[131143467:131143726]"
   ]
  },
  {
   "cell_type": "code",
   "execution_count": 20,
   "metadata": {},
   "outputs": [
    {
     "output_type": "execute_result",
     "data": {
      "text/plain": [
       "Seq('AGT')"
      ]
     },
     "metadata": {},
     "execution_count": 20
    }
   ],
   "source": [
    "sequences[0].seq.complement()[131140026:131140029]"
   ]
  },
  {
   "source": [
    "Lets look at a straight gene on the positive strand\n",
    "\n",
    "Gene    117005116\t117024112\n",
    "\n",
    "Exon 117005116\t117005240\n",
    " \n",
    "Exon 117010220\t117010353"
   ],
   "cell_type": "markdown",
   "metadata": {}
  },
  {
   "cell_type": "code",
   "execution_count": 22,
   "metadata": {},
   "outputs": [
    {
     "output_type": "execute_result",
     "data": {
      "text/plain": [
       "Seq('ATGAACTGGTTTGGAAATTACTTCTCTAGATTTCCTGAGGATGTTTCCTTACTC...GAG')"
      ]
     },
     "metadata": {},
     "execution_count": 22
    }
   ],
   "source": [
    "sequences[0].seq[117005115:117005240]"
   ]
  },
  {
   "cell_type": "code",
   "execution_count": 23,
   "metadata": {},
   "outputs": [
    {
     "output_type": "execute_result",
     "data": {
      "text/plain": [
       "Seq('ATGAACTGGTTTGGAAATTACTTCTCTAGATTTCCTGAGGATGTTTCCTTACTC...GGT')"
      ]
     },
     "metadata": {},
     "execution_count": 23
    }
   ],
   "source": [
    "sequences[0].seq[117005115:117005242]"
   ]
  },
  {
   "source": [
    "Notice the last GT in this sequence. It is the donor site."
   ],
   "cell_type": "markdown",
   "metadata": {}
  },
  {
   "cell_type": "code",
   "execution_count": 5,
   "metadata": {},
   "outputs": [
    {
     "output_type": "execute_result",
     "data": {
      "text/plain": [
       "array(['chr2L', 'chr2R', 'chr3L', 'chr3R', 'chr4', 'chrUn_CP007080v1',\n",
       "       'chrUn_CP007081v1', 'chrUn_CP007097v1', 'chrUn_DS483755v1',\n",
       "       'chrUn_DS483780v1', 'chrUn_DS483783v1', 'chrUn_DS483801v1',\n",
       "       'chrUn_DS483878v1', 'chrUn_DS484006v1', 'chrUn_DS484105v1',\n",
       "       'chrUn_DS484134v1', 'chrUn_DS484375v1', 'chrUn_DS484521v1',\n",
       "       'chrUn_DS484581v1', 'chrUn_DS484779v1', 'chrUn_DS485083v1',\n",
       "       'chrUn_DS485107v1', 'chrUn_DS485610v1', 'chrX',\n",
       "       'chrX_DS483995v1_random', 'chrY', 'chrY_CP007109v1_random',\n",
       "       'chrY_CP007113v1_random', 'chrY_CP007116v1_random',\n",
       "       'chrY_DS483742v1_random', 'chrY_DS483778v1_random',\n",
       "       'chrY_DS483875v1_random', 'chrY_DS483931v1_random',\n",
       "       'chrY_DS484390v1_random', 'chrY_DS484643v1_random',\n",
       "       'chrY_DS485048v1_random', 'chrY_DS485159v1_random'], dtype=object)"
      ]
     },
     "metadata": {},
     "execution_count": 5
    }
   ],
   "source": [
    "gtf['chrom'].unique()"
   ]
  },
  {
   "source": [
    "Lets take a look at all of the tags that we will need now.\n",
    "\n",
    "EL1, EL1, EL3 - exons with low GC count\n",
    "\n",
    "EH1, EH2, EH3 - exons with high GC count\n",
    "\n",
    "ES1, ES2, ES3 - for single strand genes\n",
    "\n",
    "I1, I2, I3 - For introns less than 100 in length\n",
    "\n",
    "Id1, Id2, Id3 - for introns before D = 100\n",
    "\n",
    "ID1, ID2, ID3 - for introns after D = 100\n",
    "\n",
    "ASS - for 2 acceptor points\n",
    "\n",
    "DSS - for 2 Donor points\n",
    "\n"
   ],
   "cell_type": "markdown",
   "metadata": {}
  },
  {
   "cell_type": "code",
   "execution_count": 29,
   "metadata": {},
   "outputs": [],
   "source": [
    "def check_single_exon(i, Y):\n",
    "    y = Y.iloc[i]\n",
    "    count_exon = 0\n",
    "    while y['feature'] != 'gene':\n",
    "        if y['feature'] == 'exon':\n",
    "            count_exon += 1\n",
    "        i += 1\n",
    "        y = Y.iloc[i]\n",
    "    return count_exon == 1\n",
    "\n",
    "def code_single_exon(start, end, is_reverse):\n",
    "    y = []\n",
    "    num = int((end-start+1)/3)\n",
    "    numr = (end-start+1)%3\n",
    "    if is_reverse:\n",
    "        y += ['_E1', '_E2', '_E3'] * num\n",
    "        if numr == 1:\n",
    "            y+=['_E1']\n",
    "        elif numr == 2:\n",
    "            y+=['_E1', '_E2']\n",
    "    else:\n",
    "        y += ['E1', 'E2', 'E3'] * num\n",
    "        if numr == 1:\n",
    "            y+=['E1']\n",
    "        elif numr == 2:\n",
    "            y+=['E1', 'E2']\n",
    "    return y\n",
    "\n",
    "\n",
    "def code_exon(start, end, is_reverse, X, last_exon):\n",
    "    y = []\n",
    "    g = X.count('G')\n",
    "    c = X.count('C')\n",
    "    a = X.count('A')\n",
    "    t = X.count('T')\n",
    "    GC = True if (g+c)/(a+t+g+c) > 0.5 else False\n",
    "    if is_reverse:\n",
    "        if GC:\n",
    "            num = int((end - start + 1)/3)\n",
    "            numr = (end-start+1)%3\n",
    "            if last_exon == '3':\n",
    "                y = ['_EH1','_EH2','_EH3'] * num\n",
    "            elif last_exon == '2':\n",
    "                y = ['_EH3','_EH1','_EH2'] * num\n",
    "            elif last_exon == '1':\n",
    "                y = ['_EH2','_EH3','_EH1'] * num\n",
    "            if y[-1] == '_EH1':\n",
    "                if numr == 2:\n",
    "                    y += ['_EH2', '_EH3']\n",
    "                elif numr == 1:\n",
    "                    y += ['_EH2']\n",
    "            elif y[-1] == '_EH2':\n",
    "                if numr == 2:\n",
    "                    y += ['_EH3', '_EH1']\n",
    "                elif numr == 1:\n",
    "                    y += ['_EH3']\n",
    "            elif y[-1] == '_EH3':\n",
    "                if numr == 2:\n",
    "                    y += ['_EH1', '_EH2']\n",
    "                elif numr == 1:\n",
    "                    y += ['_EH1']\n",
    "        else:\n",
    "            num = int((start - end + 1)/3)\n",
    "            numr = (start-end+1)%3\n",
    "            if last_exon == '3':\n",
    "                y = ['_EL1','_EL2','_EL3'] * num\n",
    "            elif last_exon == '2':\n",
    "                y = ['_EL3','_EL1','_EL2'] * num\n",
    "            elif last_exon == '1':\n",
    "                y = ['_EL2','_EL3','_EL1'] * num\n",
    "            if y[-1] == '_EL1':\n",
    "                if numr == 2:\n",
    "                    y += ['_EL2', '_EL3']\n",
    "                elif numr == 1:\n",
    "                    y += ['_EL2']\n",
    "            elif y[-1] == '_EL2':\n",
    "                if numr == 2:\n",
    "                    y += ['_EH3', '_EH1']\n",
    "                elif numr == 1:\n",
    "                    y += ['_EH3']\n",
    "            elif y[-1] == '_EH3':\n",
    "                if numr == 2:\n",
    "                    y += ['_EH1', '_EH2']\n",
    "                elif numr == 1:\n",
    "                    y += ['_EH1']\n",
    "        \n",
    "    else:\n",
    "        if GC:\n",
    "            num = int((start - end + 1)/3)\n",
    "            numr = (start-end+1)%3\n",
    "            if last_exon == '3':\n",
    "                y = ['EH1','EH2','EH3'] * num\n",
    "            elif last_exon == '2':\n",
    "                y = ['EH3','EH1','EH2'] * num\n",
    "            elif last_exon == '1':\n",
    "                y = ['EH2','EH3','EH1'] * num\n",
    "            if y[-1] == 'EH1':\n",
    "                if numr == 2:\n",
    "                    y += ['EH2', 'EH3']\n",
    "                elif numr == 1:\n",
    "                    y += ['EH2']\n",
    "            elif y[-1] == 'EH2':\n",
    "                if numr == 2:\n",
    "                    y += ['EH3', 'EH1']\n",
    "                elif numr == 1:\n",
    "                    y += ['EH3']\n",
    "            elif y[-1] == 'EH3':\n",
    "                if numr == 2:\n",
    "                    y += ['EH1', 'EH2']\n",
    "                elif numr == 1:\n",
    "                    y += ['EH1']\n",
    "        else:\n",
    "            num = int((start - end + 1)/3)\n",
    "            numr = (start-end+1)%3\n",
    "            if last_exon == '3':\n",
    "                y = ['EL1','EL2','EL3'] * num\n",
    "            elif last_exon == '2':\n",
    "                y = ['EL3','EL1','EL2'] * num\n",
    "            elif last_exon == '1':\n",
    "                y = ['EL2','EL3','EL1'] * num\n",
    "            if y[-1] == 'EL1':\n",
    "                if numr == 2:\n",
    "                    y += ['EL2', 'EL3']\n",
    "                elif numr == 1:\n",
    "                    y += ['EL2']\n",
    "            elif y[-1] == 'EL2':\n",
    "                if numr == 2:\n",
    "                    y += ['EH3', 'EH1']\n",
    "                elif numr == 1:\n",
    "                    y += ['EH3']\n",
    "            elif y[-1] == 'EH3':\n",
    "                if numr == 2:\n",
    "                    y += ['EH1', 'EH2']\n",
    "                elif numr == 1:\n",
    "                    y += ['EH1']\n",
    "        last_exon = y[-1][-1]\n",
    "        return last_exon, y\n",
    "\n",
    "def code_intron(start, end, is_reverse):\n",
    "    y = []\n",
    "    end = end - 1\n",
    "    length = end - start - 4\n",
    "    if is_reverse:\n",
    "        if length > 100:\n",
    "            y = ['_Id1','_Id2','_Id3']*33\n",
    "            y += ['_Id1']\n",
    "            num = int((length-100)/3)\n",
    "            numr = (length - 100)%3\n",
    "            y += ['_ID2', '_ID3', '_ID1'] * num\n",
    "            if numr == 1:\n",
    "                y+=['_ID2']\n",
    "            elif numr == 2:\n",
    "                y+=['_ID2', '_ID3']\n",
    "\n",
    "        else:\n",
    "            num = int((length-100)/3)\n",
    "            numr = (length - 100)%3\n",
    "            y += ['_I1', '_I2', '_I3'] * num\n",
    "            if numr == 1:\n",
    "                y+=['_I1']\n",
    "            elif numr == 2:\n",
    "                y+=['_I1', '_I2']\n",
    "        y = ['_ASS', '_ASS'] + y + ['_DSS','_DSS']\n",
    "    else:\n",
    "        if length > 100:\n",
    "            y = ['Id1','Id2','Id3']*33\n",
    "            y += ['Id1']\n",
    "            num = int((length-100)/3)\n",
    "            numr = (length - 100)%3\n",
    "            y += ['ID2', 'ID3', 'ID1'] * num\n",
    "            if numr == 1:\n",
    "                y+=['ID2']\n",
    "            elif numr == 2:\n",
    "                y+=['ID2', 'ID3']\n",
    "\n",
    "        else:\n",
    "            num = int((length-100)/3)\n",
    "            numr = (length - 100)%3\n",
    "            y += ['I1', 'I2', 'I3'] * num\n",
    "            if numr == 1:\n",
    "                y+=['I1']\n",
    "            elif numr == 2:\n",
    "                y+=['I1', 'I2']\n",
    "        y = ['ASS', 'ASS'] + y + ['DSS','DSS']\n",
    "\n",
    "    return y\n",
    "\n",
    "        \n",
    "\n",
    "def code_gene(i , X , Y, is_reverse,strand, single_exon):\n",
    "    gene_x = []\n",
    "    gene_y = []\n",
    "    y = Y.iloc[i]\n",
    "    if y['feature'] == 'transcription':\n",
    "        if strand:\n",
    "            gene_x = np.array([rec for rec in str(X.upper())],dtype='U')[start-1:end]\n",
    "        else:\n",
    "            gene_x = np.array([rec for rec in str(X.complement().upper())],dtype='U')[start-1:end]\n",
    "    else:\n",
    "        print('error')\n",
    "    first_exon = True\n",
    "    last_exon = '3'\n",
    "    end_exon = 0\n",
    "    while y['feature'] != 'gene':\n",
    "        if y['feature'] == 'exon' and first_exon:\n",
    "            start = int(y['start'])\n",
    "            end = int(y['end'])\n",
    "            end_exon = end\n",
    "            if single_exon:\n",
    "                gene_y.append(code_single_exon(start, end, is_reverse))\n",
    "            else:\n",
    "                last_exon, lst = code_exon(start, end, is_reverse ,X, last_exon)\n",
    "                gene_y.append(lst)\n",
    "            first_exon = False\n",
    "            \n",
    "        elif y['feature'] == 'exon' and not first_exon:\n",
    "            start = int(y['start'])\n",
    "            end = int(y['end'])\n",
    "            lst = code_intron(end_exon, start, is_reverse) # the index of end_exon and start is not included. \n",
    "            gene_y.append(lst)\n",
    "            last_exon, lst = code_exon(start, end, is_reverse ,X, last_exon)\n",
    "            gene_y.append(lst)\n",
    "\n",
    "        i += 1\n",
    "\n",
    "        y = Y.iloc[i]\n",
    "\n",
    "    return i, gene_x.tolist(), gene_y\n",
    "\n",
    "def check_gene(i, Y):\n",
    "    y = Y.iloc[i]\n",
    "    start_codon = 0\n",
    "    stop_codon = 0\n",
    "    strand = y['strand'] == '+'\n",
    "    while y['feature'] != 'gene':\n",
    "        if y['feature'] == 'start_codon':\n",
    "            start_codon = int(y['start'])\n",
    "        elif y['feature'] == 'stop_codon':\n",
    "            stop_codon = int(y['start'])\n",
    "\n",
    "        i+=1\n",
    "        y = Y.iloc[i]\n",
    "    return start_codon > stop_codon, strand # returns True if the strand is positive and doesnt need ot be complemented\n",
    "\n",
    "def create_dataset(X, Y):\n",
    "    i = 0\n",
    "    df = pd.DataFrame(columns = ['x','y'])\n",
    "    while i < len(Y):\n",
    "        y = Y.iloc[i]\n",
    "        if y['gene_biotype'] == 'protein_coding' and y['feature'] == 'gene':\n",
    "            is_reverse, strand = check_gene(i, Y)\n",
    "            single_exon = check_single_exon(i,Y)\n",
    "            i,__x, __y = code_gene(i+1,X, Y, is_reverse, strand, single_exon)\n",
    "            datapoint = pd.Series({'x': __x, 'y':__y})\n",
    "            df = df.append(datapoint)"
   ]
  },
  {
   "cell_type": "code",
   "execution_count": null,
   "metadata": {},
   "outputs": [],
   "source": [
    "create_dataset(sequences[0].seq, gtfi_a1)"
   ]
  },
  {
   "cell_type": "code",
   "execution_count": 6,
   "metadata": {},
   "outputs": [],
   "source": [
    "def code_Exon_Intron(coding_row, x, y):\n",
    "    ch[coding_row['txStart']:coding_row['txEnd']] = 'T'\n",
    "    Estart = np.array(coding_row['exonStarts'].split(',')[:-1]).astype(int)\n",
    "    Eend = np.array(coding_row['exonEnds'].split(',')[:-1]).astype(int)\n",
    "    y_star = y[Estart[0]:Eend[-1]]\n",
    "    x_star = x[Estart[0]:Eend[-1]]\n",
    "    for i in range(len(Estart)):\n",
    "        y_star[Estart[i]:Eend[i]+1] = 'E1'\n",
    "        if i != len(Estart) - 1:\n",
    "            y_star[Eend[i]+1:Estart[i+1]] = 'I'\n",
    "    return ch\n",
    "\n",
    "def code_sequence(augustus, sequences):\n",
    "    df = pd.DataFrame(columns=['id','x','y'])\n",
    "    \n",
    "    for seq in sequences:\n",
    "        s_id_aug = augustus.loc[augustus['chrom'] == seq.id]\n",
    "\n",
    "        y = np.array(['N'] * s_id_aug.iloc[-1]['txEnd'],dtype='U')\n",
    "\n",
    "        t = np.array([rec for rec in str(seq.seq)],dtype='U')[:s_id_aug.iloc[-1]['txEnd']]\n",
    "        x = np.array([x.upper() if isinstance(x, str) else x for x in t])\n",
    "\n",
    "\n",
    "        for index, row in s_id_aug.iterrows():\n",
    "\n",
    "            if row['name'][-3:] == '.t2':\n",
    "                y = code_Exon_Intron(row, x, y)\n",
    "                \n",
    "            check_t2 = row['name'][:-3] + '.t2'\n",
    "            if s_id_aug[s_id_aug['name'].isin([check_t2])].empty:\n",
    "                continue\n",
    "            else: \n",
    "                y = code_Exon_Intron(row, y)\n",
    "        # print(x[0],'\\n',x[1],'\\n/',x[2],'\\n',x[3],'\\n',x[100])\n",
    "        print(len(x.tolist()))\n",
    "        char = pd.Series({'id': seq.id, 'x':x.tolist(), 'y':y.tolist()})\n",
    "        print(char['x'][:20])\n",
    "        df = df.append(char,ignore_index=True)\n",
    "    return df"
   ]
  },
  {
   "cell_type": "code",
   "execution_count": 7,
   "metadata": {},
   "outputs": [
    {
     "output_type": "stream",
     "name": "stdout",
     "text": [
      "23371726\n",
      "['C', 'G', 'A', 'C', 'A', 'A', 'T', 'G', 'C', 'A', 'C', 'G', 'A', 'C', 'A', 'G', 'A', 'G', 'G', 'A']\n",
      "25254583\n",
      "['C', 'T', 'C', 'A', 'A', 'G', 'A', 'T', 'A', 'C', 'C', 'T', 'T', 'C', 'T', 'A', 'C', 'A', 'G', 'A']\n",
      "27866355\n",
      "['T', 'A', 'G', 'G', 'G', 'A', 'G', 'A', 'A', 'A', 'T', 'A', 'T', 'G', 'A', 'T', 'C', 'G', 'C', 'G']\n",
      "32070586\n",
      "['A', 'C', 'G', 'G', 'G', 'A', 'C', 'C', 'G', 'A', 'G', 'T', 'A', 'T', 'A', 'G', 'T', 'A', 'C', 'C']\n",
      "1271726\n",
      "['T', 'T', 'A', 'T', 'T', 'A', 'T', 'A', 'T', 'T', 'A', 'T', 'T', 'A', 'T', 'A', 'T', 'T', 'A', 'T']\n"
     ]
    }
   ],
   "source": [
    "temp = code_sequence(agsts, sequences)\n"
   ]
  },
  {
   "cell_type": "code",
   "execution_count": 9,
   "metadata": {},
   "outputs": [],
   "source": [
    "def prepare_segment(x,y):\n",
    "    df = pd.DataFrame(columns = ['x','y'])\n",
    "    last_i = 0\n",
    "    for i in range(1000,len(x),1000):\n",
    "        df = df.append({'x': x[last_i:i], 'y':['START'] + y[last_i:i] + ['STOP']}, ignore_index = True)\n",
    "        last_i = i\n",
    "    return df"
   ]
  },
  {
   "cell_type": "code",
   "execution_count": 10,
   "metadata": {},
   "outputs": [],
   "source": [
    "df = prepare_segment(temp.iloc[4]['x'],temp.iloc[4]['y'])"
   ]
  },
  {
   "cell_type": "code",
   "execution_count": 79,
   "metadata": {
    "tags": []
   },
   "outputs": [
    {
     "output_type": "stream",
     "name": "stdout",
     "text": [
      "A  \n E  \n  {'E': 0, 'START': 0, 'STOP': 0, 'N': 0, 'I': 0}\n START  \n  {'E': 0, 'START': 0, 'STOP': 0, 'N': 0, 'I': 0}\n STOP  \n  {'E': 0, 'START': 0, 'STOP': 0, 'N': 0, 'I': 0}\n N  \n  {'E': 0, 'START': 0, 'STOP': 0, 'N': 1, 'I': 0}\n I  \n  {'E': 0, 'START': 0, 'STOP': 0, 'N': 0, 'I': 0}\nN  \n E  \n  {'E': 0, 'START': 0, 'STOP': 0, 'N': 0, 'I': 0}\n START  \n  {'E': 0, 'START': 0, 'STOP': 0, 'N': 0, 'I': 0}\n STOP  \n  {'E': 0, 'START': 0, 'STOP': 0, 'N': 0, 'I': 0}\n N  \n  {'E': 0, 'START': 0, 'STOP': 0, 'N': 0, 'I': 0}\n I  \n  {'E': 0, 'START': 0, 'STOP': 0, 'N': 0, 'I': 0}\nG  \n E  \n  {'E': 0, 'START': 0, 'STOP': 0, 'N': 0, 'I': 0}\n START  \n  {'E': 0, 'START': 0, 'STOP': 0, 'N': 0, 'I': 0}\n STOP  \n  {'E': 0, 'START': 0, 'STOP': 0, 'N': 0, 'I': 0}\n N  \n  {'E': 0, 'START': 0, 'STOP': 0, 'N': 0, 'I': 0}\n I  \n  {'E': 0, 'START': 0, 'STOP': 0, 'N': 0, 'I': 0}\nC  \n E  \n  {'E': 0, 'START': 0, 'STOP': 0, 'N': 0, 'I': 0}\n START  \n  {'E': 0, 'START': 0, 'STOP': 0, 'N': 0, 'I': 0}\n STOP  \n  {'E': 0, 'START': 0, 'STOP': 0, 'N': 0, 'I': 0}\n N  \n  {'E': 0, 'START': 0, 'STOP': 0, 'N': 0, 'I': 0}\n I  \n  {'E': 0, 'START': 0, 'STOP': 0, 'N': 0, 'I': 0}\nT  \n E  \n  {'E': 0, 'START': 0, 'STOP': 0, 'N': 0, 'I': 0}\n START  \n  {'E': 0, 'START': 0, 'STOP': 0, 'N': 0, 'I': 0}\n STOP  \n  {'E': 0, 'START': 0, 'STOP': 0, 'N': 0, 'I': 0}\n N  \n  {'E': 0, 'START': 0, 'STOP': 0, 'N': 0, 'I': 0}\n I  \n  {'E': 0, 'START': 0, 'STOP': 0, 'N': 0, 'I': 0}\n\n"
     ]
    }
   ],
   "source": [
    "class MultiDimnDict():\n",
    "    \n",
    "    def __init__(self,axes):\n",
    "        self.axes = axes\n",
    "\n",
    "        self.data = {}\n",
    "        prev = None\n",
    "\n",
    "        for i in range(len(axes)-1, -1, -1):\n",
    "            x = {}\n",
    "            for n in axes[i]:\n",
    "                if prev == None:\n",
    "                    x[n] = 0\n",
    "                else:\n",
    "                    x[n] = copy.deepcopy(prev)\n",
    "            prev = x\n",
    "            self.data = x\n",
    "\n",
    "    def __get_string(self, x,_str, depth):\n",
    "\n",
    "        if type(list(x.values())[0]) == type(dict()):\n",
    "            \n",
    "            for i in x:\n",
    "\n",
    "                _str += self.__get_string(x[i], depth * \" \" + i + \"  \\n\", depth+1)\n",
    "                # print(_str)\n",
    "            return _str\n",
    "        else:\n",
    "            return _str + \" \" * depth +str(x) +\"\\n\"\n",
    "\n",
    "    def __str__(self):\n",
    "        string = self.__get_string(self.data, \"\", 0)\n",
    "        return string\n",
    "\n",
    "    def add_value_helper(self,lst,val, temp, depth):\n",
    "        label = lst[0]\n",
    "        if len(lst) == 1:\n",
    "            if label == ':':\n",
    "                for x in self.axes[depth]:\n",
    "                    temp[x] += val\n",
    "            else:\n",
    "                temp[label] += val\n",
    "            return temp\n",
    "        \n",
    "        # print(lst[1:],val,temp[lst[0]])\n",
    "        if label == ':':\n",
    "            for x in self.axes[depth]:\n",
    "                temp[x] = self.add_value_helper(lst[1:], val, temp[x], depth+1)\n",
    "        else:\n",
    "            temp[label] = self.add_value_helper(lst[1:],val,temp[label], depth+1)\n",
    "        return temp\n",
    "\n",
    "\n",
    "    def add_value(self,lst,val):\n",
    "        if len(lst) == len(self.axes):\n",
    "            self.data =  self.add_value_helper(lst,val,self.data, 0)\n",
    "            return self\n",
    "        else:\n",
    "            return 0\n",
    "\n",
    "    def to_tensor(self):\n",
    "        key_x = {}\n",
    "        key_x[i] = val for i,val in enumerate(key_x)\n",
    "        key_y = {}\n",
    "        key_y[i] = val for i,val in enumerate(key_y)\n",
    "\n",
    "        \n",
    "    \n",
    "    \n",
    "\n",
    "x= MultiDimnDict([['A', 'N', 'G', 'C', 'T'], ['E', 'START', 'STOP', 'N', 'I'], ['E', 'START', 'STOP', 'N', 'I']])\n",
    "\n",
    "print(x.add_value(['A','N','N'], 1))\n"
   ]
  },
  {
   "source": [
    "Cant write to dataframe since the character array turns into shit"
   ],
   "cell_type": "markdown",
   "metadata": {}
  },
  {
   "source": [
    "Steps\n",
    "\n",
    "1. Create the count matrices\n",
    "2. Use viterbi algo"
   ],
   "cell_type": "markdown",
   "metadata": {}
  },
  {
   "cell_type": "code",
   "execution_count": 93,
   "metadata": {},
   "outputs": [],
   "source": [
    "class HMM():\n",
    "    def __init__(self,data,num_x,num_y,vocab_x,vocab_y):\n",
    "        self.data = data\n",
    "        self.vocab_x = vocab_x\n",
    "        self.vocab_y = vocab_y\n",
    "        self.num_x = num_x\n",
    "        self.num_y = num_y\n",
    "    \n",
    "    def helper(self, c1,c2,c3, vocab):\n",
    "        if len(vocab) == 1:\n",
    "            for i in vocab[0]:\n",
    "                if c3[i] > 0:\n",
    "                    c1[i] = c2[i] / c3[i]\n",
    "                else:\n",
    "                    c1[i] = 0\n",
    "            return c1\n",
    "        else:\n",
    "            for i in vocab[0]:\n",
    "                c1[i] = self.helper(c1[i], c2[i], c3, vocab[1:])\n",
    "            return c1\n",
    "\n",
    "\n",
    "    def calculate_emissions(self):\n",
    "\n",
    "        axes_for_emissions = []\n",
    "        for i in range(self.num_x):\n",
    "            axes_for_emissions.append('x')\n",
    "        for i in range(self.num_y):\n",
    "            axes_for_emissions.append('y')\n",
    "        vocab_for_emissions = []\n",
    "        for axe in axes_for_emissions:\n",
    "            if axe == 'y':\n",
    "                vocab_for_emissions.append(list(self.vocab_y))\n",
    "            elif axe == 'x':\n",
    "                vocab_for_emissions.append(list(self.vocab_x))\n",
    "        self.emissions = MultiDimnDict(vocab_for_emissions)\n",
    "        count_emit = MultiDimnDict(vocab_for_emissions)\n",
    "        count_yi = MultiDimnDict([list(self.vocab_y)])\n",
    "\n",
    "        for i, row in self.data.iterrows():\n",
    "            _iter = 1\n",
    "            x = row['x']\n",
    "            y = row['y']\n",
    "\n",
    "            while _iter < len(y) - 2:\n",
    "                _data = []\n",
    "                list_y = []\n",
    "                for i in range(self.num_y):\n",
    "                    if (_iter - i) >= 0:\n",
    "                        list_y.append(y[_iter - i])\n",
    "                    else:\n",
    "                        list_y.append(':')\n",
    "                list_y = list_y[::-1] # so that the list is []....,y-2, y-1, y]\n",
    "                list_x = []\n",
    "                for i in range(self.num_x):\n",
    "                    if (_iter - i - 1) >= 0:\n",
    "                        list_x.append(x[_iter - i - 1])       \n",
    "                    else:\n",
    "                        list_x.append(':')\n",
    "                list_x = list_x[::-1]\n",
    "                _data = list_x + list_y\n",
    "                count_emit.add_value(_data,1)\n",
    "                count_yi.add_value([list_y[-1]],1)\n",
    "\n",
    "                _iter += 1\n",
    "            \n",
    "\n",
    "\n",
    "        \n",
    "\n",
    "            \n",
    "        self.emissions.data = self.helper(self.emissions.data, count_emit.data, count_yi.data, vocab_for_emissions)\n",
    "        return self.emissions\n",
    "\n",
    "\n",
    "\n",
    "\n",
    "    def viterbi(self, test_x):\n",
    "        ## Final Goal: Find PI(n,v) where n is the length of y without start and stop\n",
    "        ## We wont use PI we will maximize negative log pi\n",
    "        ## Step 1: Find PI(1,v)\n",
    "\n",
    "        k = 1\n",
    "        viterbi_y = ['START']\n",
    "        PI=[]\n",
    "        _pi = []\n",
    "        while k < len(test_x)+1:\n",
    "            list_x = []\n",
    "            list_y = []\n",
    "            for i in range(self.num_x):\n",
    "                if (k - i - 1) >= 0:\n",
    "                    list_x.append(test_x[k - i - 1])       \n",
    "                else:\n",
    "                    list_x.append(':')\n",
    "            list_x = list_x[::-1]\n",
    "            for i in range(self.num_y):\n",
    "                if i == 0:\n",
    "                    continue\n",
    "                elif (k-i) >= 0:\n",
    "                    list_y.append(viterbi_y[k-i])\n",
    "                else:\n",
    "                    list_y.append(':')\n",
    "            list_y = list_y[::-1]\n",
    "\n",
    "            _pi = []\n",
    "            for pred_y_k in self.vocab_y:\n",
    "                _data = list_x + list_y + [pred_y_k]\n",
    "                a = self.emissions.get_sum(_data)\n",
    "                nlog_a = sys.maxsize\n",
    "                if a > pow(10,-7):\n",
    "                    nlog_a = -1 * math.log(a)\n",
    "                if len(PI) == 0:\n",
    "                    _pi.append(nlog_a)\n",
    "                else: \n",
    "                    \n",
    "                    _pi.append(nlog_a + PI[-1][list(self.vocab_y).index(viterbi_y[-1])])\n",
    "\n",
    "            min_pi = min(_pi)\n",
    "            min_y = list(self.vocab_y)[_pi.index(min_pi)]\n",
    "\n",
    "            viterbi_y.append(min_y)\n",
    "            PI.append(_pi)\n",
    "\n",
    "            k+= 1\n",
    "        print(len(PI), 'Should be 1000')\n",
    "        print(len(viterbi_y), 'Should be 1001 including Start tag')\n",
    "\n",
    "\n",
    "        PI = PI[::-1]\n",
    "        y_star = 'STOP'\n",
    "        final_Y = []\n",
    "        final_Y.append(y_star)\n",
    "        for i in range(self.num_y -1):\n",
    "            final_Y.append(viterbi_y[len(viterbi_y)-1-i])\n",
    "            del PI[0]\n",
    "        for _PI in PI:\n",
    "            pred_pi = []\n",
    "            index = PI.index(_PI)\n",
    "            list_x = []\n",
    "            list_y = []\n",
    "            for i in range(self.num_x):\n",
    "                if (index - i) >= 0:\n",
    "                    list_x.append(test_x[index - i])       \n",
    "                else:\n",
    "                    list_x.append(':')\n",
    "            list_x = list_x[::-1]\n",
    "            for i in range(self.num_y-1):\n",
    "                if (index-i) >= 0:\n",
    "                    list_y.append(viterbi_y[index-i])\n",
    "                else:\n",
    "                    list_y.append(':')\n",
    "            list_y = list_y[::-1]\n",
    "            for y in self.vocab_y:\n",
    "                _data = list_x + [y] + list_y \n",
    "                emission = sys.maxsize\n",
    "                a = self.emissions.get_sum(_data)\n",
    "                if a > pow(10,-7):\n",
    "                    emission = math.log(a) * -1\n",
    "                pred_pi.append(_PI[list(self.vocab_y).index(y)] + emission)\n",
    "\n",
    "\n",
    "            min_pi = min(pred_pi)\n",
    "            final_y = list(self.vocab_y)[pred_pi.index(min_pi)]\n",
    "\n",
    "\n",
    "            final_Y.append(final_y)\n",
    "\n",
    "        final_Y.append('START')\n",
    "        final_Y = final_Y[::-1]\n",
    "        viterbi_y += ['STOP']\n",
    "        return final_Y, viterbi_y\n",
    "            \n",
    "\n",
    "        \n",
    "\n"
   ]
  },
  {
   "cell_type": "code",
   "execution_count": 94,
   "metadata": {},
   "outputs": [],
   "source": [
    "hmm = HMM(df,3,6 ,set(temp.iloc[0]['x']), set(temp.iloc[0]['y'] + ['START','STOP']))\n"
   ]
  },
  {
   "cell_type": "code",
   "execution_count": 95,
   "metadata": {
    "tags": []
   },
   "outputs": [
    {
     "output_type": "error",
     "ename": "ZeroDivisionError",
     "evalue": "division by zero",
     "traceback": [
      "\u001b[0;31m---------------------------------------------------------------------------\u001b[0m",
      "\u001b[0;31mZeroDivisionError\u001b[0m                         Traceback (most recent call last)",
      "\u001b[0;32m<ipython-input-95-2f4207ad2924>\u001b[0m in \u001b[0;36m<module>\u001b[0;34m\u001b[0m\n\u001b[1;32m      1\u001b[0m \u001b[0mstart\u001b[0m \u001b[0;34m=\u001b[0m \u001b[0mtimer\u001b[0m\u001b[0;34m(\u001b[0m\u001b[0;34m)\u001b[0m\u001b[0;34m\u001b[0m\u001b[0;34m\u001b[0m\u001b[0m\n\u001b[0;32m----> 2\u001b[0;31m \u001b[0mhmm\u001b[0m\u001b[0;34m.\u001b[0m\u001b[0mcalculate_emissions\u001b[0m\u001b[0;34m(\u001b[0m\u001b[0;34m)\u001b[0m\u001b[0;34m\u001b[0m\u001b[0;34m\u001b[0m\u001b[0m\n\u001b[0m\u001b[1;32m      3\u001b[0m \u001b[0mstop\u001b[0m \u001b[0;34m=\u001b[0m \u001b[0mtimer\u001b[0m\u001b[0;34m(\u001b[0m\u001b[0;34m)\u001b[0m\u001b[0;34m\u001b[0m\u001b[0;34m\u001b[0m\u001b[0m\n\u001b[1;32m      4\u001b[0m \u001b[0mprint\u001b[0m\u001b[0;34m(\u001b[0m\u001b[0mstop\u001b[0m\u001b[0;34m-\u001b[0m\u001b[0mstart\u001b[0m\u001b[0;34m)\u001b[0m\u001b[0;34m\u001b[0m\u001b[0;34m\u001b[0m\u001b[0m\n",
      "\u001b[0;32m<ipython-input-93-b4a77c87f1af>\u001b[0m in \u001b[0;36mcalculate_emissions\u001b[0;34m(self)\u001b[0m\n\u001b[1;32m     67\u001b[0m                 \u001b[0m_iter\u001b[0m \u001b[0;34m+=\u001b[0m \u001b[0;36m1\u001b[0m\u001b[0;34m\u001b[0m\u001b[0;34m\u001b[0m\u001b[0m\n\u001b[1;32m     68\u001b[0m \u001b[0;34m\u001b[0m\u001b[0m\n\u001b[0;32m---> 69\u001b[0;31m         \u001b[0mself\u001b[0m\u001b[0;34m.\u001b[0m\u001b[0memissions\u001b[0m\u001b[0;34m.\u001b[0m\u001b[0mdata\u001b[0m \u001b[0;34m=\u001b[0m \u001b[0mself\u001b[0m\u001b[0;34m.\u001b[0m\u001b[0mhelper\u001b[0m\u001b[0;34m(\u001b[0m\u001b[0mself\u001b[0m\u001b[0;34m.\u001b[0m\u001b[0memissions\u001b[0m\u001b[0;34m.\u001b[0m\u001b[0mdata\u001b[0m\u001b[0;34m,\u001b[0m \u001b[0mcount_emit\u001b[0m\u001b[0;34m.\u001b[0m\u001b[0mdata\u001b[0m\u001b[0;34m,\u001b[0m \u001b[0mcount_yi\u001b[0m\u001b[0;34m.\u001b[0m\u001b[0mdata\u001b[0m\u001b[0;34m,\u001b[0m \u001b[0mvocab_for_emissions\u001b[0m\u001b[0;34m)\u001b[0m\u001b[0;34m\u001b[0m\u001b[0;34m\u001b[0m\u001b[0m\n\u001b[0m\u001b[1;32m     70\u001b[0m \u001b[0;34m\u001b[0m\u001b[0m\n\u001b[1;32m     71\u001b[0m \u001b[0;34m\u001b[0m\u001b[0m\n",
      "\u001b[0;32m<ipython-input-93-b4a77c87f1af>\u001b[0m in \u001b[0;36mhelper\u001b[0;34m(self, c1, c2, c3, vocab)\u001b[0m\n\u001b[1;32m     14\u001b[0m         \u001b[0;32melse\u001b[0m\u001b[0;34m:\u001b[0m\u001b[0;34m\u001b[0m\u001b[0;34m\u001b[0m\u001b[0m\n\u001b[1;32m     15\u001b[0m             \u001b[0;32mfor\u001b[0m \u001b[0mi\u001b[0m \u001b[0;32min\u001b[0m \u001b[0mvocab\u001b[0m\u001b[0;34m[\u001b[0m\u001b[0;36m0\u001b[0m\u001b[0;34m]\u001b[0m\u001b[0;34m:\u001b[0m\u001b[0;34m\u001b[0m\u001b[0;34m\u001b[0m\u001b[0m\n\u001b[0;32m---> 16\u001b[0;31m                 \u001b[0mc1\u001b[0m\u001b[0;34m[\u001b[0m\u001b[0mi\u001b[0m\u001b[0;34m]\u001b[0m \u001b[0;34m=\u001b[0m \u001b[0mself\u001b[0m\u001b[0;34m.\u001b[0m\u001b[0mhelper\u001b[0m\u001b[0;34m(\u001b[0m\u001b[0mc1\u001b[0m\u001b[0;34m[\u001b[0m\u001b[0mi\u001b[0m\u001b[0;34m]\u001b[0m\u001b[0;34m,\u001b[0m \u001b[0mc2\u001b[0m\u001b[0;34m[\u001b[0m\u001b[0mi\u001b[0m\u001b[0;34m]\u001b[0m\u001b[0;34m,\u001b[0m \u001b[0mc3\u001b[0m\u001b[0;34m,\u001b[0m \u001b[0mvocab\u001b[0m\u001b[0;34m[\u001b[0m\u001b[0;36m1\u001b[0m\u001b[0;34m:\u001b[0m\u001b[0;34m]\u001b[0m\u001b[0;34m)\u001b[0m\u001b[0;34m\u001b[0m\u001b[0;34m\u001b[0m\u001b[0m\n\u001b[0m\u001b[1;32m     17\u001b[0m             \u001b[0;32mreturn\u001b[0m \u001b[0mc1\u001b[0m\u001b[0;34m\u001b[0m\u001b[0;34m\u001b[0m\u001b[0m\n\u001b[1;32m     18\u001b[0m \u001b[0;34m\u001b[0m\u001b[0m\n",
      "\u001b[0;32m<ipython-input-93-b4a77c87f1af>\u001b[0m in \u001b[0;36mhelper\u001b[0;34m(self, c1, c2, c3, vocab)\u001b[0m\n\u001b[1;32m     14\u001b[0m         \u001b[0;32melse\u001b[0m\u001b[0;34m:\u001b[0m\u001b[0;34m\u001b[0m\u001b[0;34m\u001b[0m\u001b[0m\n\u001b[1;32m     15\u001b[0m             \u001b[0;32mfor\u001b[0m \u001b[0mi\u001b[0m \u001b[0;32min\u001b[0m \u001b[0mvocab\u001b[0m\u001b[0;34m[\u001b[0m\u001b[0;36m0\u001b[0m\u001b[0;34m]\u001b[0m\u001b[0;34m:\u001b[0m\u001b[0;34m\u001b[0m\u001b[0;34m\u001b[0m\u001b[0m\n\u001b[0;32m---> 16\u001b[0;31m                 \u001b[0mc1\u001b[0m\u001b[0;34m[\u001b[0m\u001b[0mi\u001b[0m\u001b[0;34m]\u001b[0m \u001b[0;34m=\u001b[0m \u001b[0mself\u001b[0m\u001b[0;34m.\u001b[0m\u001b[0mhelper\u001b[0m\u001b[0;34m(\u001b[0m\u001b[0mc1\u001b[0m\u001b[0;34m[\u001b[0m\u001b[0mi\u001b[0m\u001b[0;34m]\u001b[0m\u001b[0;34m,\u001b[0m \u001b[0mc2\u001b[0m\u001b[0;34m[\u001b[0m\u001b[0mi\u001b[0m\u001b[0;34m]\u001b[0m\u001b[0;34m,\u001b[0m \u001b[0mc3\u001b[0m\u001b[0;34m,\u001b[0m \u001b[0mvocab\u001b[0m\u001b[0;34m[\u001b[0m\u001b[0;36m1\u001b[0m\u001b[0;34m:\u001b[0m\u001b[0;34m]\u001b[0m\u001b[0;34m)\u001b[0m\u001b[0;34m\u001b[0m\u001b[0;34m\u001b[0m\u001b[0m\n\u001b[0m\u001b[1;32m     17\u001b[0m             \u001b[0;32mreturn\u001b[0m \u001b[0mc1\u001b[0m\u001b[0;34m\u001b[0m\u001b[0;34m\u001b[0m\u001b[0m\n\u001b[1;32m     18\u001b[0m \u001b[0;34m\u001b[0m\u001b[0m\n",
      "\u001b[0;32m<ipython-input-93-b4a77c87f1af>\u001b[0m in \u001b[0;36mhelper\u001b[0;34m(self, c1, c2, c3, vocab)\u001b[0m\n\u001b[1;32m     10\u001b[0m         \u001b[0;32mif\u001b[0m \u001b[0mlen\u001b[0m\u001b[0;34m(\u001b[0m\u001b[0mvocab\u001b[0m\u001b[0;34m)\u001b[0m \u001b[0;34m==\u001b[0m \u001b[0;36m1\u001b[0m\u001b[0;34m:\u001b[0m\u001b[0;34m\u001b[0m\u001b[0;34m\u001b[0m\u001b[0m\n\u001b[1;32m     11\u001b[0m             \u001b[0;32mfor\u001b[0m \u001b[0mi\u001b[0m \u001b[0;32min\u001b[0m \u001b[0mvocab\u001b[0m\u001b[0;34m[\u001b[0m\u001b[0;36m0\u001b[0m\u001b[0;34m]\u001b[0m\u001b[0;34m:\u001b[0m\u001b[0;34m\u001b[0m\u001b[0;34m\u001b[0m\u001b[0m\n\u001b[0;32m---> 12\u001b[0;31m                 \u001b[0mc1\u001b[0m\u001b[0;34m[\u001b[0m\u001b[0mi\u001b[0m\u001b[0;34m]\u001b[0m \u001b[0;34m=\u001b[0m \u001b[0mc2\u001b[0m\u001b[0;34m[\u001b[0m\u001b[0mi\u001b[0m\u001b[0;34m]\u001b[0m \u001b[0;34m/\u001b[0m \u001b[0mc3\u001b[0m\u001b[0;34m[\u001b[0m\u001b[0mi\u001b[0m\u001b[0;34m]\u001b[0m\u001b[0;34m\u001b[0m\u001b[0;34m\u001b[0m\u001b[0m\n\u001b[0m\u001b[1;32m     13\u001b[0m             \u001b[0;32mreturn\u001b[0m \u001b[0mc1\u001b[0m\u001b[0;34m\u001b[0m\u001b[0;34m\u001b[0m\u001b[0m\n\u001b[1;32m     14\u001b[0m         \u001b[0;32melse\u001b[0m\u001b[0;34m:\u001b[0m\u001b[0;34m\u001b[0m\u001b[0;34m\u001b[0m\u001b[0m\n",
      "\u001b[0;31mZeroDivisionError\u001b[0m: division by zero"
     ]
    }
   ],
   "source": [
    "start = timer()\n",
    "hmm.calculate_emissions()\n",
    "stop = timer()\n",
    "print(stop-start)"
   ]
  },
  {
   "cell_type": "code",
   "execution_count": 26,
   "metadata": {},
   "outputs": [
    {
     "output_type": "stream",
     "name": "stdout",
     "text": [
      "STOP\nSTOP\nSTOP\nSTOP\nSTOP\n1.5163649559999612\n"
     ]
    }
   ],
   "source": [
    "start = timer()\n",
    "hmm.calculate_transitions()\n",
    "stop = timer()\n",
    "print(stop-start)"
   ]
  },
  {
   "cell_type": "code",
   "execution_count": 81,
   "metadata": {},
   "outputs": [
    {
     "output_type": "stream",
     "name": "stdout",
     "text": [
      "E  \n {'E': 0.9876951821700254, 'STOP': 0.009955958894968638, 'START': 0.0, 'N': 0.00013345789403443215, 'I': 0.0022154010409715734}\nSTOP  \n {'E': 0, 'STOP': 0, 'START': 0, 'N': 0, 'I': 0}\nSTART  \n {'E': 0.02940945191475977, 'STOP': 0.0, 'START': 0.0, 'N': 0.8570417551309271, 'I': 0.11354879295431312}\nN  \n {'E': 4.586958177032733e-06, 'STOP': 0.009998651434295952, 'START': 0.0, 'N': 0.989996761607527, 'I': 0.0}\nI  \n {'E': 0.0005687019724248898, 'STOP': 0.010021638416511776, 'START': 0.0, 'N': 0.0, 'I': 0.9894096596110633}\n\n"
     ]
    }
   ],
   "source": [
    "print(hmm.transitions)"
   ]
  },
  {
   "cell_type": "code",
   "execution_count": 89,
   "metadata": {
    "tags": []
   },
   "outputs": [
    {
     "output_type": "stream",
     "name": "stdout",
     "text": [
      "A  \n E  \n  {'E': 0, 'START': 0, 'STOP': 0, 'N': 0, 'I': 0}\n START  \n  {'E': 0, 'START': 0, 'STOP': 0, 'N': 0, 'I': 0}\n STOP  \n  {'E': 0, 'START': 0, 'STOP': 0, 'N': 0, 'I': 0}\n N  \n  {'E': 0, 'START': 0, 'STOP': 0, 'N': 0, 'I': 0}\n I  \n  {'E': 0, 'START': 0, 'STOP': 0, 'N': 0, 'I': 0}\nN  \n E  \n  {'E': 0, 'START': 0, 'STOP': 0, 'N': 0, 'I': 0}\n START  \n  {'E': 0, 'START': 0, 'STOP': 0, 'N': 0, 'I': 0}\n STOP  \n  {'E': 0, 'START': 0, 'STOP': 0, 'N': 0, 'I': 0}\n N  \n  {'E': 0, 'START': 0, 'STOP': 0, 'N': 0, 'I': 0}\n I  \n  {'E': 0, 'START': 0, 'STOP': 0, 'N': 0, 'I': 0}\nG  \n E  \n  {'E': 0, 'START': 0, 'STOP': 0, 'N': 0, 'I': 0}\n START  \n  {'E': 0, 'START': 0, 'STOP': 0, 'N': 0, 'I': 0}\n STOP  \n  {'E': 0, 'START': 0, 'STOP': 0, 'N': 0, 'I': 0}\n N  \n  {'E': 0, 'START': 0, 'STOP': 0, 'N': 0, 'I': 0}\n I  \n  {'E': 0, 'START': 0, 'STOP': 0, 'N': 0, 'I': 0}\nC  \n E  \n  {'E': 0, 'START': 0, 'STOP': 0, 'N': 0, 'I': 0}\n START  \n  {'E': 0, 'START': 0, 'STOP': 0, 'N': 0, 'I': 0}\n STOP  \n  {'E': 0, 'START': 0, 'STOP': 0, 'N': 0, 'I': 0}\n N  \n  {'E': 0, 'START': 0, 'STOP': 0, 'N': 0, 'I': 0}\n I  \n  {'E': 0, 'START': 0, 'STOP': 0, 'N': 0, 'I': 0}\nT  \n E  \n  {'E': 0, 'START': 0, 'STOP': 0, 'N': 0, 'I': 0}\n START  \n  {'E': 0, 'START': 0, 'STOP': 0, 'N': 0, 'I': 0}\n STOP  \n  {'E': 0, 'START': 0, 'STOP': 0, 'N': 0, 'I': 0}\n N  \n  {'E': 0, 'START': 0, 'STOP': 0, 'N': 0, 'I': 0}\n I  \n  {'E': 0, 'START': 0, 'STOP': 0, 'N': 0, 'I': 0}\n\n"
     ]
    }
   ],
   "source": [
    "print(hmm.emissions)"
   ]
  },
  {
   "cell_type": "code",
   "execution_count": 83,
   "metadata": {
    "tags": []
   },
   "outputs": [
    {
     "output_type": "stream",
     "name": "stdout",
     "text": [
      "Done 1  [1.1577945174954207, 9223372036854775807, 9223372036854775807, 1.1354919087530715, 1.1043114825750735]\n",
      "PI=  99\n",
      "0     [3.8283668569803533, 9.223372036854776e+18, 9.223372036854776e+18, 4.080162186559459, 4.126571043154425]\n",
      "1.424188367993338\n"
     ]
    }
   ],
   "source": [
    "start = timer()\n",
    "y_pred, vy = hmm.viterbi(temp.iloc[4]['x'])\n",
    "stop = timer()\n",
    "print(stop-start)\n"
   ]
  },
  {
   "cell_type": "code",
   "execution_count": 84,
   "metadata": {},
   "outputs": [
    {
     "output_type": "stream",
     "name": "stdout",
     "text": [
      "102 \n 102\nSTOP STOP\n"
     ]
    }
   ],
   "source": [
    "print(len(y_pred),'\\n',len(df.iloc[4]['y']))\n",
    "print(y_pred[-1], df.iloc[4]['y'][-1])"
   ]
  },
  {
   "cell_type": "code",
   "execution_count": 85,
   "metadata": {},
   "outputs": [
    {
     "output_type": "stream",
     "name": "stdout",
     "text": [
      "['START', 'I', 'E', 'I', 'E', 'I', 'I', 'I', 'I', 'I', 'I', 'I', 'I', 'I', 'I', 'I', 'I', 'E', 'E', 'I', 'I', 'I', 'I', 'E', 'E', 'I', 'I', 'I', 'E', 'E', 'I', 'E', 'E', 'I', 'I', 'E', 'E', 'E', 'I', 'E', 'E', 'I', 'I', 'I', 'I', 'E', 'E', 'E', 'E', 'E', 'I', 'I', 'I', 'I', 'I', 'I', 'I', 'I', 'I', 'E', 'E', 'I', 'I', 'I', 'E', 'I', 'I', 'I', 'E', 'E', 'E', 'E', 'E', 'I', 'I', 'E', 'E', 'E', 'I', 'I', 'E', 'E', 'E', 'E', 'I', 'E', 'I', 'E', 'E', 'E', 'E', 'E', 'E', 'E', 'E', 'I', 'E', 'E', 'E', 'E', 'E', 'STOP']\n"
     ]
    }
   ],
   "source": [
    "print(y_pred)"
   ]
  },
  {
   "cell_type": "code",
   "execution_count": 86,
   "metadata": {},
   "outputs": [
    {
     "output_type": "stream",
     "name": "stdout",
     "text": [
      "0.00980392156862745\n"
     ]
    }
   ],
   "source": [
    "count = 0\n",
    "y_corr = ['START'] + df.iloc[4]['y'] + ['STOP']\n",
    "for i in range(len(y_pred)):\n",
    "    if y_pred[i] == y_corr[i]:\n",
    "        count += 1\n",
    "print(count/len(y_pred))"
   ]
  },
  {
   "cell_type": "code",
   "execution_count": 87,
   "metadata": {},
   "outputs": [
    {
     "output_type": "stream",
     "name": "stdout",
     "text": [
      "{'N', 'STOP', 'START'}\n{'I', 'E'}\n{'I', 'STOP', 'E', 'START'}\n[100, 2, 2]\n[56, 43]\n[51, 1, 49, 1]\n"
     ]
    }
   ],
   "source": [
    "\n",
    "print(set(y_corr))\n",
    "print(set(temp_y))\n",
    "print(set(y_pred))\n",
    "print([y_corr.count(i) for i in set(y_corr)])\n",
    "print([temp_y.count(i) for i in set(temp_y)])\n",
    "print([y_pred.count(i) for i in set(y_pred)])"
   ]
  },
  {
   "cell_type": "code",
   "execution_count": 90,
   "metadata": {
    "tags": []
   },
   "outputs": [
    {
     "output_type": "stream",
     "name": "stdout",
     "text": [
      "Done 1  [1.1577945174954207, 9223372036854775807, 9223372036854775807, 1.1354919087530715, 1.1043114825750735]\n",
      "PI=  19999\n",
      "15000     [38168.282978398754, 9.223372036854815e+18, 9.223372036854815e+18, 38167.86864575531, 38167.80596789631]\n",
      "10000     [25408.808828052264, 9.2233720368548e+18, 9.2233720368548e+18, 25408.31594031823, 25408.273514414625]\n",
      "5000     [12661.542118926282, 9.223372036854788e+18, 9.223372036854788e+18, 12661.637173086183, 12661.646865710436]\n",
      "0     [3.8283668569803533, 9.223372036854776e+18, 9.223372036854776e+18, 4.080162186559459, 4.126571043154425]\n",
      "3.2705980879982235\n"
     ]
    }
   ],
   "source": [
    "start = timer()\n",
    "y_pred,temp_y = hmm.viterbi(temp.iloc[4]['x'][:20000])\n",
    "stop = timer()\n",
    "print(stop-start)\n"
   ]
  },
  {
   "cell_type": "code",
   "execution_count": 95,
   "metadata": {},
   "outputs": [
    {
     "output_type": "stream",
     "name": "stdout",
     "text": [
      "20002 \n 20000\nSTOP N\n"
     ]
    }
   ],
   "source": [
    "print(len(y_pred),'\\n',len(temp.iloc[4]['y'][:20000]))\n",
    "print(y_pred[-1], temp.iloc[4]['y'][-1])"
   ]
  },
  {
   "cell_type": "code",
   "execution_count": 98,
   "metadata": {},
   "outputs": [
    {
     "output_type": "stream",
     "name": "stdout",
     "text": [
      "20002 20002\n9.999000099990002e-05\n"
     ]
    }
   ],
   "source": [
    "count = 0\n",
    "y_corr = ['START'] + temp.iloc[4]['y'][:20000] + ['STOP']\n",
    "print(len(y_pred), len(y_corr))\n",
    "for i in range(len(y_pred)):\n",
    "    if y_pred[i] == y_corr[i]:\n",
    "        count += 1\n",
    "print(count/len(y_pred))"
   ]
  },
  {
   "cell_type": "code",
   "execution_count": 99,
   "metadata": {},
   "outputs": [
    {
     "output_type": "stream",
     "name": "stdout",
     "text": [
      "{'N', 'STOP', 'START'}\n{'I', 'E'}\n{'I', 'STOP', 'E', 'START'}\n[20000, 1, 1]\n[10028, 9971]\n[10106, 1, 9894, 1]\n"
     ]
    }
   ],
   "source": [
    "\n",
    "print(set(y_corr))\n",
    "print(set(temp_y))\n",
    "print(set(y_pred))\n",
    "print([y_corr.count(i) for i in set(y_corr)])\n",
    "print([temp_y.count(i) for i in set(temp_y)])\n",
    "print([y_pred.count(i) for i in set(y_pred)])"
   ]
  },
  {
   "cell_type": "code",
   "execution_count": null,
   "metadata": {},
   "outputs": [],
   "source": []
  },
  {
   "cell_type": "code",
   "execution_count": null,
   "metadata": {},
   "outputs": [],
   "source": []
  },
  {
   "cell_type": "code",
   "execution_count": null,
   "metadata": {},
   "outputs": [],
   "source": []
  },
  {
   "cell_type": "code",
   "execution_count": null,
   "metadata": {},
   "outputs": [],
   "source": []
  }
 ]
}