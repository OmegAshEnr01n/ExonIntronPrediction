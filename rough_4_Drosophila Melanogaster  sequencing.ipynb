{
 "metadata": {
  "language_info": {
   "codemirror_mode": {
    "name": "ipython",
    "version": 3
   },
   "file_extension": ".py",
   "mimetype": "text/x-python",
   "name": "python",
   "nbconvert_exporter": "python",
   "pygments_lexer": "ipython3",
   "version": "3.7.9"
  },
  "orig_nbformat": 2,
  "kernelspec": {
   "name": "python379jvsc74a57bd0e982cbab146b5da557c3dd4de569c6d20de87aa4899f75bf3dc2ace7a19e2876",
   "display_name": "Python 3.7.9 64-bit ('dev': conda)"
  }
 },
 "nbformat": 4,
 "nbformat_minor": 2,
 "cells": [
  {
   "source": [
    "# Drosophila Melanogaster"
   ],
   "cell_type": "markdown",
   "metadata": {}
  },
  {
   "cell_type": "code",
   "execution_count": 1,
   "metadata": {},
   "outputs": [
    {
     "output_type": "stream",
     "name": "stdout",
     "text": [
      "Biopython v1.78\n"
     ]
    }
   ],
   "source": [
    "import numpy as np # linear algebra\n",
    "import pandas as pd # data processing, CSV file I/O (e.g. pd.read_csv)\n",
    "import Bio\n",
    "import torch as torch\n",
    "from torch.utils.data import Dataset, DataLoader\n",
    "print(\"Biopython v\" + Bio.__version__)\n",
    "from timeit import default_timer as timer\n",
    "import copy\n",
    "import math\n",
    "import sys\n",
    "\n",
    "\n"
   ]
  },
  {
   "cell_type": "code",
   "execution_count": 2,
   "metadata": {},
   "outputs": [
    {
     "output_type": "stream",
     "name": "stdout",
     "text": [
      "Id: chr2L \t Length: 23,513,712\n",
      "Seq('Cgacaatgcacgacagaggaagcagaacagatatttagattgcctctcattttc...gag')\n",
      "\n",
      "Id: chr2R \t Length: 25,286,936\n",
      "Seq('CTCAAGATAccttctacagattatttaaagctagtgcacaacaacaataaattg...ttc')\n",
      "\n",
      "Id: chr3L \t Length: 28,110,227\n",
      "Seq('TAGGGAGAAATATGATCgcgtatgcgagagtagtgccaacatattgtgctcttt...tat')\n",
      "\n",
      "Id: chr3R \t Length: 32,079,331\n",
      "Seq('acgggaccgagtatagtaccagtacgcgaccagtacgggagcagtacggaacca...ttc')\n",
      "\n",
      "Id: chr4 \t Length: 1,348,131\n",
      "Seq('ttattatattattatattattatattattatattattatattattatattatta...GAA')\n",
      "\n",
      "Id: chrM \t Length: 19,524\n",
      "Seq('AATGAATTGCCTGATAAAAAGGATTACCTTGATAGGGTAAATCATGCAGTTTTC...ATT')\n",
      "\n"
     ]
    },
    {
     "output_type": "execute_result",
     "data": {
      "text/plain": [
       "SeqRecord(seq=Seq('AATGAATTGCCTGATAAAAAGGATTACCTTGATAGGGTAAATCATGCAGTTTTC...ATT'), id='chrM', name='chrM', description='chrM', dbxrefs=[])"
      ]
     },
     "metadata": {},
     "execution_count": 2
    }
   ],
   "source": [
    "from Bio import SeqIO\n",
    "count = 0\n",
    "sequences = [] # Here we are setting up an array to save our sequences for the next step\n",
    "\n",
    "for seq_record in SeqIO.parse(\"./Genomedata/genome.fa\", \"fasta\"):\n",
    "    if (count < 6):\n",
    "        sequences.append(seq_record)\n",
    "        print(\"Id: \" + seq_record.id + \" \\t \" + \"Length: \" + str(\"{:,d}\".format(len(seq_record))) )\n",
    "        print(repr(seq_record.seq) + \"\\n\")\n",
    "        count = count + 1\n",
    "\n",
    "sequences.pop()"
   ]
  },
  {
   "cell_type": "code",
   "execution_count": 3,
   "metadata": {},
   "outputs": [
    {
     "output_type": "execute_result",
     "data": {
      "text/plain": [
       "[SeqRecord(seq=Seq('Cgacaatgcacgacagaggaagcagaacagatatttagattgcctctcattttc...gag'), id='chr2L', name='chr2L', description='chr2L', dbxrefs=[]),\n",
       " SeqRecord(seq=Seq('CTCAAGATAccttctacagattatttaaagctagtgcacaacaacaataaattg...ttc'), id='chr2R', name='chr2R', description='chr2R', dbxrefs=[]),\n",
       " SeqRecord(seq=Seq('TAGGGAGAAATATGATCgcgtatgcgagagtagtgccaacatattgtgctcttt...tat'), id='chr3L', name='chr3L', description='chr3L', dbxrefs=[]),\n",
       " SeqRecord(seq=Seq('acgggaccgagtatagtaccagtacgcgaccagtacgggagcagtacggaacca...ttc'), id='chr3R', name='chr3R', description='chr3R', dbxrefs=[]),\n",
       " SeqRecord(seq=Seq('ttattatattattatattattatattattatattattatattattatattatta...GAA'), id='chr4', name='chr4', description='chr4', dbxrefs=[])]"
      ]
     },
     "metadata": {},
     "execution_count": 3
    }
   ],
   "source": [
    "sequences"
   ]
  },
  {
   "cell_type": "code",
   "execution_count": 4,
   "metadata": {},
   "outputs": [],
   "source": [
    "agsts = pd.read_csv('./Genomedata/genes-augustus.csv')"
   ]
  },
  {
   "cell_type": "code",
   "execution_count": 5,
   "metadata": {},
   "outputs": [
    {
     "output_type": "execute_result",
     "data": {
      "text/plain": [
       "array(['chr2L', 'chr2R', 'chr3L', 'chr3R', 'chr4', 'chrUn_CP007080v1',\n",
       "       'chrUn_CP007081v1', 'chrUn_CP007097v1', 'chrUn_DS483755v1',\n",
       "       'chrUn_DS483780v1', 'chrUn_DS483783v1', 'chrUn_DS483801v1',\n",
       "       'chrUn_DS483878v1', 'chrUn_DS484006v1', 'chrUn_DS484105v1',\n",
       "       'chrUn_DS484134v1', 'chrUn_DS484375v1', 'chrUn_DS484521v1',\n",
       "       'chrUn_DS484581v1', 'chrUn_DS484779v1', 'chrUn_DS485083v1',\n",
       "       'chrUn_DS485107v1', 'chrUn_DS485610v1', 'chrX',\n",
       "       'chrX_DS483995v1_random', 'chrY', 'chrY_CP007109v1_random',\n",
       "       'chrY_CP007113v1_random', 'chrY_CP007116v1_random',\n",
       "       'chrY_DS483742v1_random', 'chrY_DS483778v1_random',\n",
       "       'chrY_DS483875v1_random', 'chrY_DS483931v1_random',\n",
       "       'chrY_DS484390v1_random', 'chrY_DS484643v1_random',\n",
       "       'chrY_DS485048v1_random', 'chrY_DS485159v1_random'], dtype=object)"
      ]
     },
     "metadata": {},
     "execution_count": 5
    }
   ],
   "source": [
    "agsts['chrom'].unique()"
   ]
  },
  {
   "source": [
    "Finding the sequences "
   ],
   "cell_type": "markdown",
   "metadata": {}
  },
  {
   "cell_type": "code",
   "execution_count": 6,
   "metadata": {},
   "outputs": [],
   "source": [
    "def code_Exon_Intron(coding_row, x, y):\n",
    "    ch[coding_row['txStart']:coding_row['txEnd']] = 'T'\n",
    "    Estart = np.array(coding_row['exonStarts'].split(',')[:-1]).astype(int)\n",
    "    Eend = np.array(coding_row['exonEnds'].split(',')[:-1]).astype(int)\n",
    "    y_star = y[Estart[0]:Eend[-1]]\n",
    "    x_star = x[Estart[0]:Eend[-1]]\n",
    "    for i in range(len(Estart)):\n",
    "        y_star[Estart[i]:Eend[i]+1] = 'E1'\n",
    "        if i != len(Estart) - 1:\n",
    "            y_star[Eend[i]+1:Estart[i+1]] = 'I'\n",
    "    return ch\n",
    "\n",
    "def code_sequence(augustus, sequences):\n",
    "    df = pd.DataFrame(columns=['id','x','y'])\n",
    "    \n",
    "    for seq in sequences:\n",
    "        s_id_aug = augustus.loc[augustus['chrom'] == seq.id]\n",
    "\n",
    "        y = np.array(['N'] * s_id_aug.iloc[-1]['txEnd'],dtype='U')\n",
    "\n",
    "        t = np.array([rec for rec in str(seq.seq)],dtype='U')[:s_id_aug.iloc[-1]['txEnd']]\n",
    "        x = np.array([x.upper() if isinstance(x, str) else x for x in t])\n",
    "\n",
    "\n",
    "        for index, row in s_id_aug.iterrows():\n",
    "\n",
    "            if row['name'][-3:] == '.t2':\n",
    "                y = code_Exon_Intron(row, x, y)\n",
    "                \n",
    "            check_t2 = row['name'][:-3] + '.t2'\n",
    "            if s_id_aug[s_id_aug['name'].isin([check_t2])].empty:\n",
    "                continue\n",
    "            else: \n",
    "                y = code_Exon_Intron(row, y)\n",
    "        # print(x[0],'\\n',x[1],'\\n/',x[2],'\\n',x[3],'\\n',x[100])\n",
    "        print(len(x.tolist()))\n",
    "        char = pd.Series({'id': seq.id, 'x':x.tolist(), 'y':y.tolist()})\n",
    "        print(char['x'][:20])\n",
    "        df = df.append(char,ignore_index=True)\n",
    "    return df"
   ]
  },
  {
   "cell_type": "code",
   "execution_count": 7,
   "metadata": {},
   "outputs": [
    {
     "output_type": "stream",
     "name": "stdout",
     "text": [
      "23371726\n",
      "['C', 'G', 'A', 'C', 'A', 'A', 'T', 'G', 'C', 'A', 'C', 'G', 'A', 'C', 'A', 'G', 'A', 'G', 'G', 'A']\n",
      "25254583\n",
      "['C', 'T', 'C', 'A', 'A', 'G', 'A', 'T', 'A', 'C', 'C', 'T', 'T', 'C', 'T', 'A', 'C', 'A', 'G', 'A']\n",
      "27866355\n",
      "['T', 'A', 'G', 'G', 'G', 'A', 'G', 'A', 'A', 'A', 'T', 'A', 'T', 'G', 'A', 'T', 'C', 'G', 'C', 'G']\n",
      "32070586\n",
      "['A', 'C', 'G', 'G', 'G', 'A', 'C', 'C', 'G', 'A', 'G', 'T', 'A', 'T', 'A', 'G', 'T', 'A', 'C', 'C']\n",
      "1271726\n",
      "['T', 'T', 'A', 'T', 'T', 'A', 'T', 'A', 'T', 'T', 'A', 'T', 'T', 'A', 'T', 'A', 'T', 'T', 'A', 'T']\n"
     ]
    }
   ],
   "source": [
    "temp = code_sequence(agsts, sequences)\n"
   ]
  },
  {
   "cell_type": "code",
   "execution_count": 9,
   "metadata": {},
   "outputs": [],
   "source": [
    "def prepare_segment(x,y):\n",
    "    df = pd.DataFrame(columns = ['x','y'])\n",
    "    last_i = 0\n",
    "    for i in range(1000,len(x),1000):\n",
    "        df = df.append({'x': x[last_i:i], 'y':['START'] + y[last_i:i] + ['STOP']}, ignore_index = True)\n",
    "        last_i = i\n",
    "    return df"
   ]
  },
  {
   "cell_type": "code",
   "execution_count": 10,
   "metadata": {},
   "outputs": [],
   "source": [
    "df = prepare_segment(temp.iloc[4]['x'],temp.iloc[4]['y'])"
   ]
  },
  {
   "cell_type": "code",
   "execution_count": 79,
   "metadata": {
    "tags": []
   },
   "outputs": [
    {
     "output_type": "stream",
     "name": "stdout",
     "text": [
      "A  \n E  \n  {'E': 0, 'START': 0, 'STOP': 0, 'N': 0, 'I': 0}\n START  \n  {'E': 0, 'START': 0, 'STOP': 0, 'N': 0, 'I': 0}\n STOP  \n  {'E': 0, 'START': 0, 'STOP': 0, 'N': 0, 'I': 0}\n N  \n  {'E': 0, 'START': 0, 'STOP': 0, 'N': 1, 'I': 0}\n I  \n  {'E': 0, 'START': 0, 'STOP': 0, 'N': 0, 'I': 0}\nN  \n E  \n  {'E': 0, 'START': 0, 'STOP': 0, 'N': 0, 'I': 0}\n START  \n  {'E': 0, 'START': 0, 'STOP': 0, 'N': 0, 'I': 0}\n STOP  \n  {'E': 0, 'START': 0, 'STOP': 0, 'N': 0, 'I': 0}\n N  \n  {'E': 0, 'START': 0, 'STOP': 0, 'N': 0, 'I': 0}\n I  \n  {'E': 0, 'START': 0, 'STOP': 0, 'N': 0, 'I': 0}\nG  \n E  \n  {'E': 0, 'START': 0, 'STOP': 0, 'N': 0, 'I': 0}\n START  \n  {'E': 0, 'START': 0, 'STOP': 0, 'N': 0, 'I': 0}\n STOP  \n  {'E': 0, 'START': 0, 'STOP': 0, 'N': 0, 'I': 0}\n N  \n  {'E': 0, 'START': 0, 'STOP': 0, 'N': 0, 'I': 0}\n I  \n  {'E': 0, 'START': 0, 'STOP': 0, 'N': 0, 'I': 0}\nC  \n E  \n  {'E': 0, 'START': 0, 'STOP': 0, 'N': 0, 'I': 0}\n START  \n  {'E': 0, 'START': 0, 'STOP': 0, 'N': 0, 'I': 0}\n STOP  \n  {'E': 0, 'START': 0, 'STOP': 0, 'N': 0, 'I': 0}\n N  \n  {'E': 0, 'START': 0, 'STOP': 0, 'N': 0, 'I': 0}\n I  \n  {'E': 0, 'START': 0, 'STOP': 0, 'N': 0, 'I': 0}\nT  \n E  \n  {'E': 0, 'START': 0, 'STOP': 0, 'N': 0, 'I': 0}\n START  \n  {'E': 0, 'START': 0, 'STOP': 0, 'N': 0, 'I': 0}\n STOP  \n  {'E': 0, 'START': 0, 'STOP': 0, 'N': 0, 'I': 0}\n N  \n  {'E': 0, 'START': 0, 'STOP': 0, 'N': 0, 'I': 0}\n I  \n  {'E': 0, 'START': 0, 'STOP': 0, 'N': 0, 'I': 0}\n\n"
     ]
    }
   ],
   "source": [
    "class MultiDimnDict():\n",
    "    \n",
    "    def __init__(self,axes):\n",
    "        self.axes = axes\n",
    "\n",
    "        self.data = {}\n",
    "        prev = None\n",
    "\n",
    "        for i in range(len(axes)-1, -1, -1):\n",
    "            x = {}\n",
    "            for n in axes[i]:\n",
    "                if prev == None:\n",
    "                    x[n] = 0\n",
    "                else:\n",
    "                    x[n] = copy.deepcopy(prev)\n",
    "            prev = x\n",
    "            self.data = x\n",
    "\n",
    "    def __get_string(self, x,_str, depth):\n",
    "\n",
    "        if type(list(x.values())[0]) == type(dict()):\n",
    "            \n",
    "            for i in x:\n",
    "\n",
    "                _str += self.__get_string(x[i], depth * \" \" + i + \"  \\n\", depth+1)\n",
    "                # print(_str)\n",
    "            return _str\n",
    "        else:\n",
    "            return _str + \" \" * depth +str(x) +\"\\n\"\n",
    "\n",
    "    def __str__(self):\n",
    "        string = self.__get_string(self.data, \"\", 0)\n",
    "        return string\n",
    "\n",
    "    def add_value_helper(self,lst,val, temp, depth):\n",
    "        label = lst[0]\n",
    "        if len(lst) == 1:\n",
    "            if label == ':':\n",
    "                for x in self.axes[depth]:\n",
    "                    temp[x] += val\n",
    "            else:\n",
    "                temp[label] += val\n",
    "            return temp\n",
    "        \n",
    "        # print(lst[1:],val,temp[lst[0]])\n",
    "        if label == ':':\n",
    "            for x in self.axes[depth]:\n",
    "                temp[x] = self.add_value_helper(lst[1:], val, temp[x], depth+1)\n",
    "        else:\n",
    "            temp[label] = self.add_value_helper(lst[1:],val,temp[label], depth+1)\n",
    "        return temp\n",
    "\n",
    "\n",
    "    def add_value(self,lst,val):\n",
    "        if len(lst) == len(self.axes):\n",
    "            self.data =  self.add_value_helper(lst,val,self.data, 0)\n",
    "            return self\n",
    "        else:\n",
    "            return 0\n",
    "\n",
    "    def to_tensor(self):\n",
    "        key_x = {}\n",
    "        key_x[i] = val for i,val in enumerate(key_x)\n",
    "        key_y = {}\n",
    "        key_y[i] = val for i,val in enumerate(key_y)\n",
    "\n",
    "        \n",
    "    \n",
    "    \n",
    "\n",
    "x= MultiDimnDict([['A', 'N', 'G', 'C', 'T'], ['E', 'START', 'STOP', 'N', 'I'], ['E', 'START', 'STOP', 'N', 'I']])\n",
    "\n",
    "print(x.add_value(['A','N','N'], 1))\n"
   ]
  },
  {
   "source": [
    "Cant write to dataframe since the character array turns into shit"
   ],
   "cell_type": "markdown",
   "metadata": {}
  },
  {
   "source": [
    "Steps\n",
    "\n",
    "1. Create the count matrices\n",
    "2. Use viterbi algo"
   ],
   "cell_type": "markdown",
   "metadata": {}
  },
  {
   "cell_type": "code",
   "execution_count": 93,
   "metadata": {},
   "outputs": [],
   "source": [
    "class HMM():\n",
    "    def __init__(self,data,num_x,num_y,vocab_x,vocab_y):\n",
    "        self.data = data\n",
    "        self.vocab_x = vocab_x\n",
    "        self.vocab_y = vocab_y\n",
    "        self.num_x = num_x\n",
    "        self.num_y = num_y\n",
    "    \n",
    "    def helper(self, c1,c2,c3, vocab):\n",
    "        if len(vocab) == 1:\n",
    "            for i in vocab[0]:\n",
    "                if c3[i] > 0:\n",
    "                    c1[i] = c2[i] / c3[i]\n",
    "                else:\n",
    "                    c1[i] = 0\n",
    "            return c1\n",
    "        else:\n",
    "            for i in vocab[0]:\n",
    "                c1[i] = self.helper(c1[i], c2[i], c3, vocab[1:])\n",
    "            return c1\n",
    "\n",
    "\n",
    "    def calculate_emissions(self):\n",
    "\n",
    "        axes_for_emissions = []\n",
    "        for i in range(self.num_x):\n",
    "            axes_for_emissions.append('x')\n",
    "        for i in range(self.num_y):\n",
    "            axes_for_emissions.append('y')\n",
    "        vocab_for_emissions = []\n",
    "        for axe in axes_for_emissions:\n",
    "            if axe == 'y':\n",
    "                vocab_for_emissions.append(list(self.vocab_y))\n",
    "            elif axe == 'x':\n",
    "                vocab_for_emissions.append(list(self.vocab_x))\n",
    "        self.emissions = MultiDimnDict(vocab_for_emissions)\n",
    "        count_emit = MultiDimnDict(vocab_for_emissions)\n",
    "        count_yi = MultiDimnDict([list(self.vocab_y)])\n",
    "\n",
    "        for i, row in self.data.iterrows():\n",
    "            _iter = 1\n",
    "            x = row['x']\n",
    "            y = row['y']\n",
    "\n",
    "            while _iter < len(y) - 2:\n",
    "                _data = []\n",
    "                list_y = []\n",
    "                for i in range(self.num_y):\n",
    "                    if (_iter - i) >= 0:\n",
    "                        list_y.append(y[_iter - i])\n",
    "                    else:\n",
    "                        list_y.append(':')\n",
    "                list_y = list_y[::-1] # so that the list is []....,y-2, y-1, y]\n",
    "                list_x = []\n",
    "                for i in range(self.num_x):\n",
    "                    if (_iter - i - 1) >= 0:\n",
    "                        list_x.append(x[_iter - i - 1])       \n",
    "                    else:\n",
    "                        list_x.append(':')\n",
    "                list_x = list_x[::-1]\n",
    "                _data = list_x + list_y\n",
    "                count_emit.add_value(_data,1)\n",
    "                count_yi.add_value([list_y[-1]],1)\n",
    "\n",
    "                _iter += 1\n",
    "            \n",
    "\n",
    "\n",
    "        \n",
    "\n",
    "            \n",
    "        self.emissions.data = self.helper(self.emissions.data, count_emit.data, count_yi.data, vocab_for_emissions)\n",
    "        return self.emissions\n",
    "\n",
    "\n",
    "\n",
    "\n",
    "    def viterbi(self, test_x):\n",
    "        ## Final Goal: Find PI(n,v) where n is the length of y without start and stop\n",
    "        ## We wont use PI we will maximize negative log pi\n",
    "        ## Step 1: Find PI(1,v)\n",
    "\n",
    "        k = 1\n",
    "        viterbi_y = ['START']\n",
    "        PI=[]\n",
    "        _pi = []\n",
    "        while k < len(test_x)+1:\n",
    "            list_x = []\n",
    "            list_y = []\n",
    "            for i in range(self.num_x):\n",
    "                if (k - i - 1) >= 0:\n",
    "                    list_x.append(test_x[k - i - 1])       \n",
    "                else:\n",
    "                    list_x.append(':')\n",
    "            list_x = list_x[::-1]\n",
    "            for i in range(self.num_y):\n",
    "                if i == 0:\n",
    "                    continue\n",
    "                elif (k-i) >= 0:\n",
    "                    list_y.append(viterbi_y[k-i])\n",
    "                else:\n",
    "                    list_y.append(':')\n",
    "            list_y = list_y[::-1]\n",
    "\n",
    "            _pi = []\n",
    "            for pred_y_k in self.vocab_y:\n",
    "                _data = list_x + list_y + [pred_y_k]\n",
    "                a = self.emissions.get_sum(_data)\n",
    "                nlog_a = sys.maxsize\n",
    "                if a > pow(10,-7):\n",
    "                    nlog_a = -1 * math.log(a)\n",
    "                if len(PI) == 0:\n",
    "                    _pi.append(nlog_a)\n",
    "                else: \n",
    "                    \n",
    "                    _pi.append(nlog_a + PI[-1][list(self.vocab_y).index(viterbi_y[-1])])\n",
    "\n",
    "            min_pi = min(_pi)\n",
    "            min_y = list(self.vocab_y)[_pi.index(min_pi)]\n",
    "\n",
    "            viterbi_y.append(min_y)\n",
    "            PI.append(_pi)\n",
    "\n",
    "            k+= 1\n",
    "        print(len(PI), 'Should be 1000')\n",
    "        print(len(viterbi_y), 'Should be 1001 including Start tag')\n",
    "\n",
    "\n",
    "        PI = PI[::-1]\n",
    "        y_star = 'STOP'\n",
    "        final_Y = []\n",
    "        final_Y.append(y_star)\n",
    "        for i in range(self.num_y -1):\n",
    "            final_Y.append(viterbi_y[len(viterbi_y)-1-i])\n",
    "            del PI[0]\n",
    "        for _PI in PI:\n",
    "            pred_pi = []\n",
    "            index = PI.index(_PI)\n",
    "            list_x = []\n",
    "            list_y = []\n",
    "            for i in range(self.num_x):\n",
    "                if (index - i) >= 0:\n",
    "                    list_x.append(test_x[index - i])       \n",
    "                else:\n",
    "                    list_x.append(':')\n",
    "            list_x = list_x[::-1]\n",
    "            for i in range(self.num_y-1):\n",
    "                if (index-i) >= 0:\n",
    "                    list_y.append(viterbi_y[index-i])\n",
    "                else:\n",
    "                    list_y.append(':')\n",
    "            list_y = list_y[::-1]\n",
    "            for y in self.vocab_y:\n",
    "                _data = list_x + [y] + list_y \n",
    "                emission = sys.maxsize\n",
    "                a = self.emissions.get_sum(_data)\n",
    "                if a > pow(10,-7):\n",
    "                    emission = math.log(a) * -1\n",
    "                pred_pi.append(_PI[list(self.vocab_y).index(y)] + emission)\n",
    "\n",
    "\n",
    "            min_pi = min(pred_pi)\n",
    "            final_y = list(self.vocab_y)[pred_pi.index(min_pi)]\n",
    "\n",
    "\n",
    "            final_Y.append(final_y)\n",
    "\n",
    "        final_Y.append('START')\n",
    "        final_Y = final_Y[::-1]\n",
    "        viterbi_y += ['STOP']\n",
    "        return final_Y, viterbi_y\n",
    "            \n",
    "\n",
    "        \n",
    "\n"
   ]
  },
  {
   "cell_type": "code",
   "execution_count": 94,
   "metadata": {},
   "outputs": [],
   "source": [
    "hmm = HMM(df,3,6 ,set(temp.iloc[0]['x']), set(temp.iloc[0]['y'] + ['START','STOP']))\n"
   ]
  },
  {
   "cell_type": "code",
   "execution_count": 95,
   "metadata": {
    "tags": []
   },
   "outputs": [
    {
     "output_type": "error",
     "ename": "ZeroDivisionError",
     "evalue": "division by zero",
     "traceback": [
      "\u001b[0;31m---------------------------------------------------------------------------\u001b[0m",
      "\u001b[0;31mZeroDivisionError\u001b[0m                         Traceback (most recent call last)",
      "\u001b[0;32m<ipython-input-95-2f4207ad2924>\u001b[0m in \u001b[0;36m<module>\u001b[0;34m\u001b[0m\n\u001b[1;32m      1\u001b[0m \u001b[0mstart\u001b[0m \u001b[0;34m=\u001b[0m \u001b[0mtimer\u001b[0m\u001b[0;34m(\u001b[0m\u001b[0;34m)\u001b[0m\u001b[0;34m\u001b[0m\u001b[0;34m\u001b[0m\u001b[0m\n\u001b[0;32m----> 2\u001b[0;31m \u001b[0mhmm\u001b[0m\u001b[0;34m.\u001b[0m\u001b[0mcalculate_emissions\u001b[0m\u001b[0;34m(\u001b[0m\u001b[0;34m)\u001b[0m\u001b[0;34m\u001b[0m\u001b[0;34m\u001b[0m\u001b[0m\n\u001b[0m\u001b[1;32m      3\u001b[0m \u001b[0mstop\u001b[0m \u001b[0;34m=\u001b[0m \u001b[0mtimer\u001b[0m\u001b[0;34m(\u001b[0m\u001b[0;34m)\u001b[0m\u001b[0;34m\u001b[0m\u001b[0;34m\u001b[0m\u001b[0m\n\u001b[1;32m      4\u001b[0m \u001b[0mprint\u001b[0m\u001b[0;34m(\u001b[0m\u001b[0mstop\u001b[0m\u001b[0;34m-\u001b[0m\u001b[0mstart\u001b[0m\u001b[0;34m)\u001b[0m\u001b[0;34m\u001b[0m\u001b[0;34m\u001b[0m\u001b[0m\n",
      "\u001b[0;32m<ipython-input-93-b4a77c87f1af>\u001b[0m in \u001b[0;36mcalculate_emissions\u001b[0;34m(self)\u001b[0m\n\u001b[1;32m     67\u001b[0m                 \u001b[0m_iter\u001b[0m \u001b[0;34m+=\u001b[0m \u001b[0;36m1\u001b[0m\u001b[0;34m\u001b[0m\u001b[0;34m\u001b[0m\u001b[0m\n\u001b[1;32m     68\u001b[0m \u001b[0;34m\u001b[0m\u001b[0m\n\u001b[0;32m---> 69\u001b[0;31m         \u001b[0mself\u001b[0m\u001b[0;34m.\u001b[0m\u001b[0memissions\u001b[0m\u001b[0;34m.\u001b[0m\u001b[0mdata\u001b[0m \u001b[0;34m=\u001b[0m \u001b[0mself\u001b[0m\u001b[0;34m.\u001b[0m\u001b[0mhelper\u001b[0m\u001b[0;34m(\u001b[0m\u001b[0mself\u001b[0m\u001b[0;34m.\u001b[0m\u001b[0memissions\u001b[0m\u001b[0;34m.\u001b[0m\u001b[0mdata\u001b[0m\u001b[0;34m,\u001b[0m \u001b[0mcount_emit\u001b[0m\u001b[0;34m.\u001b[0m\u001b[0mdata\u001b[0m\u001b[0;34m,\u001b[0m \u001b[0mcount_yi\u001b[0m\u001b[0;34m.\u001b[0m\u001b[0mdata\u001b[0m\u001b[0;34m,\u001b[0m \u001b[0mvocab_for_emissions\u001b[0m\u001b[0;34m)\u001b[0m\u001b[0;34m\u001b[0m\u001b[0;34m\u001b[0m\u001b[0m\n\u001b[0m\u001b[1;32m     70\u001b[0m \u001b[0;34m\u001b[0m\u001b[0m\n\u001b[1;32m     71\u001b[0m \u001b[0;34m\u001b[0m\u001b[0m\n",
      "\u001b[0;32m<ipython-input-93-b4a77c87f1af>\u001b[0m in \u001b[0;36mhelper\u001b[0;34m(self, c1, c2, c3, vocab)\u001b[0m\n\u001b[1;32m     14\u001b[0m         \u001b[0;32melse\u001b[0m\u001b[0;34m:\u001b[0m\u001b[0;34m\u001b[0m\u001b[0;34m\u001b[0m\u001b[0m\n\u001b[1;32m     15\u001b[0m             \u001b[0;32mfor\u001b[0m \u001b[0mi\u001b[0m \u001b[0;32min\u001b[0m \u001b[0mvocab\u001b[0m\u001b[0;34m[\u001b[0m\u001b[0;36m0\u001b[0m\u001b[0;34m]\u001b[0m\u001b[0;34m:\u001b[0m\u001b[0;34m\u001b[0m\u001b[0;34m\u001b[0m\u001b[0m\n\u001b[0;32m---> 16\u001b[0;31m                 \u001b[0mc1\u001b[0m\u001b[0;34m[\u001b[0m\u001b[0mi\u001b[0m\u001b[0;34m]\u001b[0m \u001b[0;34m=\u001b[0m \u001b[0mself\u001b[0m\u001b[0;34m.\u001b[0m\u001b[0mhelper\u001b[0m\u001b[0;34m(\u001b[0m\u001b[0mc1\u001b[0m\u001b[0;34m[\u001b[0m\u001b[0mi\u001b[0m\u001b[0;34m]\u001b[0m\u001b[0;34m,\u001b[0m \u001b[0mc2\u001b[0m\u001b[0;34m[\u001b[0m\u001b[0mi\u001b[0m\u001b[0;34m]\u001b[0m\u001b[0;34m,\u001b[0m \u001b[0mc3\u001b[0m\u001b[0;34m,\u001b[0m \u001b[0mvocab\u001b[0m\u001b[0;34m[\u001b[0m\u001b[0;36m1\u001b[0m\u001b[0;34m:\u001b[0m\u001b[0;34m]\u001b[0m\u001b[0;34m)\u001b[0m\u001b[0;34m\u001b[0m\u001b[0;34m\u001b[0m\u001b[0m\n\u001b[0m\u001b[1;32m     17\u001b[0m             \u001b[0;32mreturn\u001b[0m \u001b[0mc1\u001b[0m\u001b[0;34m\u001b[0m\u001b[0;34m\u001b[0m\u001b[0m\n\u001b[1;32m     18\u001b[0m \u001b[0;34m\u001b[0m\u001b[0m\n",
      "\u001b[0;32m<ipython-input-93-b4a77c87f1af>\u001b[0m in \u001b[0;36mhelper\u001b[0;34m(self, c1, c2, c3, vocab)\u001b[0m\n\u001b[1;32m     14\u001b[0m         \u001b[0;32melse\u001b[0m\u001b[0;34m:\u001b[0m\u001b[0;34m\u001b[0m\u001b[0;34m\u001b[0m\u001b[0m\n\u001b[1;32m     15\u001b[0m             \u001b[0;32mfor\u001b[0m \u001b[0mi\u001b[0m \u001b[0;32min\u001b[0m \u001b[0mvocab\u001b[0m\u001b[0;34m[\u001b[0m\u001b[0;36m0\u001b[0m\u001b[0;34m]\u001b[0m\u001b[0;34m:\u001b[0m\u001b[0;34m\u001b[0m\u001b[0;34m\u001b[0m\u001b[0m\n\u001b[0;32m---> 16\u001b[0;31m                 \u001b[0mc1\u001b[0m\u001b[0;34m[\u001b[0m\u001b[0mi\u001b[0m\u001b[0;34m]\u001b[0m \u001b[0;34m=\u001b[0m \u001b[0mself\u001b[0m\u001b[0;34m.\u001b[0m\u001b[0mhelper\u001b[0m\u001b[0;34m(\u001b[0m\u001b[0mc1\u001b[0m\u001b[0;34m[\u001b[0m\u001b[0mi\u001b[0m\u001b[0;34m]\u001b[0m\u001b[0;34m,\u001b[0m \u001b[0mc2\u001b[0m\u001b[0;34m[\u001b[0m\u001b[0mi\u001b[0m\u001b[0;34m]\u001b[0m\u001b[0;34m,\u001b[0m \u001b[0mc3\u001b[0m\u001b[0;34m,\u001b[0m \u001b[0mvocab\u001b[0m\u001b[0;34m[\u001b[0m\u001b[0;36m1\u001b[0m\u001b[0;34m:\u001b[0m\u001b[0;34m]\u001b[0m\u001b[0;34m)\u001b[0m\u001b[0;34m\u001b[0m\u001b[0;34m\u001b[0m\u001b[0m\n\u001b[0m\u001b[1;32m     17\u001b[0m             \u001b[0;32mreturn\u001b[0m \u001b[0mc1\u001b[0m\u001b[0;34m\u001b[0m\u001b[0;34m\u001b[0m\u001b[0m\n\u001b[1;32m     18\u001b[0m \u001b[0;34m\u001b[0m\u001b[0m\n",
      "\u001b[0;32m<ipython-input-93-b4a77c87f1af>\u001b[0m in \u001b[0;36mhelper\u001b[0;34m(self, c1, c2, c3, vocab)\u001b[0m\n\u001b[1;32m     10\u001b[0m         \u001b[0;32mif\u001b[0m \u001b[0mlen\u001b[0m\u001b[0;34m(\u001b[0m\u001b[0mvocab\u001b[0m\u001b[0;34m)\u001b[0m \u001b[0;34m==\u001b[0m \u001b[0;36m1\u001b[0m\u001b[0;34m:\u001b[0m\u001b[0;34m\u001b[0m\u001b[0;34m\u001b[0m\u001b[0m\n\u001b[1;32m     11\u001b[0m             \u001b[0;32mfor\u001b[0m \u001b[0mi\u001b[0m \u001b[0;32min\u001b[0m \u001b[0mvocab\u001b[0m\u001b[0;34m[\u001b[0m\u001b[0;36m0\u001b[0m\u001b[0;34m]\u001b[0m\u001b[0;34m:\u001b[0m\u001b[0;34m\u001b[0m\u001b[0;34m\u001b[0m\u001b[0m\n\u001b[0;32m---> 12\u001b[0;31m                 \u001b[0mc1\u001b[0m\u001b[0;34m[\u001b[0m\u001b[0mi\u001b[0m\u001b[0;34m]\u001b[0m \u001b[0;34m=\u001b[0m \u001b[0mc2\u001b[0m\u001b[0;34m[\u001b[0m\u001b[0mi\u001b[0m\u001b[0;34m]\u001b[0m \u001b[0;34m/\u001b[0m \u001b[0mc3\u001b[0m\u001b[0;34m[\u001b[0m\u001b[0mi\u001b[0m\u001b[0;34m]\u001b[0m\u001b[0;34m\u001b[0m\u001b[0;34m\u001b[0m\u001b[0m\n\u001b[0m\u001b[1;32m     13\u001b[0m             \u001b[0;32mreturn\u001b[0m \u001b[0mc1\u001b[0m\u001b[0;34m\u001b[0m\u001b[0;34m\u001b[0m\u001b[0m\n\u001b[1;32m     14\u001b[0m         \u001b[0;32melse\u001b[0m\u001b[0;34m:\u001b[0m\u001b[0;34m\u001b[0m\u001b[0;34m\u001b[0m\u001b[0m\n",
      "\u001b[0;31mZeroDivisionError\u001b[0m: division by zero"
     ]
    }
   ],
   "source": [
    "start = timer()\n",
    "hmm.calculate_emissions()\n",
    "stop = timer()\n",
    "print(stop-start)"
   ]
  },
  {
   "cell_type": "code",
   "execution_count": 26,
   "metadata": {},
   "outputs": [
    {
     "output_type": "stream",
     "name": "stdout",
     "text": [
      "STOP\nSTOP\nSTOP\nSTOP\nSTOP\n1.5163649559999612\n"
     ]
    }
   ],
   "source": [
    "start = timer()\n",
    "hmm.calculate_transitions()\n",
    "stop = timer()\n",
    "print(stop-start)"
   ]
  },
  {
   "cell_type": "code",
   "execution_count": 81,
   "metadata": {},
   "outputs": [
    {
     "output_type": "stream",
     "name": "stdout",
     "text": [
      "E  \n {'E': 0.9876951821700254, 'STOP': 0.009955958894968638, 'START': 0.0, 'N': 0.00013345789403443215, 'I': 0.0022154010409715734}\nSTOP  \n {'E': 0, 'STOP': 0, 'START': 0, 'N': 0, 'I': 0}\nSTART  \n {'E': 0.02940945191475977, 'STOP': 0.0, 'START': 0.0, 'N': 0.8570417551309271, 'I': 0.11354879295431312}\nN  \n {'E': 4.586958177032733e-06, 'STOP': 0.009998651434295952, 'START': 0.0, 'N': 0.989996761607527, 'I': 0.0}\nI  \n {'E': 0.0005687019724248898, 'STOP': 0.010021638416511776, 'START': 0.0, 'N': 0.0, 'I': 0.9894096596110633}\n\n"
     ]
    }
   ],
   "source": [
    "print(hmm.transitions)"
   ]
  },
  {
   "cell_type": "code",
   "execution_count": 89,
   "metadata": {
    "tags": []
   },
   "outputs": [
    {
     "output_type": "stream",
     "name": "stdout",
     "text": [
      "A  \n E  \n  {'E': 0, 'START': 0, 'STOP': 0, 'N': 0, 'I': 0}\n START  \n  {'E': 0, 'START': 0, 'STOP': 0, 'N': 0, 'I': 0}\n STOP  \n  {'E': 0, 'START': 0, 'STOP': 0, 'N': 0, 'I': 0}\n N  \n  {'E': 0, 'START': 0, 'STOP': 0, 'N': 0, 'I': 0}\n I  \n  {'E': 0, 'START': 0, 'STOP': 0, 'N': 0, 'I': 0}\nN  \n E  \n  {'E': 0, 'START': 0, 'STOP': 0, 'N': 0, 'I': 0}\n START  \n  {'E': 0, 'START': 0, 'STOP': 0, 'N': 0, 'I': 0}\n STOP  \n  {'E': 0, 'START': 0, 'STOP': 0, 'N': 0, 'I': 0}\n N  \n  {'E': 0, 'START': 0, 'STOP': 0, 'N': 0, 'I': 0}\n I  \n  {'E': 0, 'START': 0, 'STOP': 0, 'N': 0, 'I': 0}\nG  \n E  \n  {'E': 0, 'START': 0, 'STOP': 0, 'N': 0, 'I': 0}\n START  \n  {'E': 0, 'START': 0, 'STOP': 0, 'N': 0, 'I': 0}\n STOP  \n  {'E': 0, 'START': 0, 'STOP': 0, 'N': 0, 'I': 0}\n N  \n  {'E': 0, 'START': 0, 'STOP': 0, 'N': 0, 'I': 0}\n I  \n  {'E': 0, 'START': 0, 'STOP': 0, 'N': 0, 'I': 0}\nC  \n E  \n  {'E': 0, 'START': 0, 'STOP': 0, 'N': 0, 'I': 0}\n START  \n  {'E': 0, 'START': 0, 'STOP': 0, 'N': 0, 'I': 0}\n STOP  \n  {'E': 0, 'START': 0, 'STOP': 0, 'N': 0, 'I': 0}\n N  \n  {'E': 0, 'START': 0, 'STOP': 0, 'N': 0, 'I': 0}\n I  \n  {'E': 0, 'START': 0, 'STOP': 0, 'N': 0, 'I': 0}\nT  \n E  \n  {'E': 0, 'START': 0, 'STOP': 0, 'N': 0, 'I': 0}\n START  \n  {'E': 0, 'START': 0, 'STOP': 0, 'N': 0, 'I': 0}\n STOP  \n  {'E': 0, 'START': 0, 'STOP': 0, 'N': 0, 'I': 0}\n N  \n  {'E': 0, 'START': 0, 'STOP': 0, 'N': 0, 'I': 0}\n I  \n  {'E': 0, 'START': 0, 'STOP': 0, 'N': 0, 'I': 0}\n\n"
     ]
    }
   ],
   "source": [
    "print(hmm.emissions)"
   ]
  },
  {
   "cell_type": "code",
   "execution_count": 83,
   "metadata": {
    "tags": []
   },
   "outputs": [
    {
     "output_type": "stream",
     "name": "stdout",
     "text": [
      "Done 1  [1.1577945174954207, 9223372036854775807, 9223372036854775807, 1.1354919087530715, 1.1043114825750735]\n",
      "PI=  99\n",
      "0     [3.8283668569803533, 9.223372036854776e+18, 9.223372036854776e+18, 4.080162186559459, 4.126571043154425]\n",
      "1.424188367993338\n"
     ]
    }
   ],
   "source": [
    "start = timer()\n",
    "y_pred, vy = hmm.viterbi(temp.iloc[4]['x'])\n",
    "stop = timer()\n",
    "print(stop-start)\n"
   ]
  },
  {
   "cell_type": "code",
   "execution_count": 84,
   "metadata": {},
   "outputs": [
    {
     "output_type": "stream",
     "name": "stdout",
     "text": [
      "102 \n 102\nSTOP STOP\n"
     ]
    }
   ],
   "source": [
    "print(len(y_pred),'\\n',len(df.iloc[4]['y']))\n",
    "print(y_pred[-1], df.iloc[4]['y'][-1])"
   ]
  },
  {
   "cell_type": "code",
   "execution_count": 85,
   "metadata": {},
   "outputs": [
    {
     "output_type": "stream",
     "name": "stdout",
     "text": [
      "['START', 'I', 'E', 'I', 'E', 'I', 'I', 'I', 'I', 'I', 'I', 'I', 'I', 'I', 'I', 'I', 'I', 'E', 'E', 'I', 'I', 'I', 'I', 'E', 'E', 'I', 'I', 'I', 'E', 'E', 'I', 'E', 'E', 'I', 'I', 'E', 'E', 'E', 'I', 'E', 'E', 'I', 'I', 'I', 'I', 'E', 'E', 'E', 'E', 'E', 'I', 'I', 'I', 'I', 'I', 'I', 'I', 'I', 'I', 'E', 'E', 'I', 'I', 'I', 'E', 'I', 'I', 'I', 'E', 'E', 'E', 'E', 'E', 'I', 'I', 'E', 'E', 'E', 'I', 'I', 'E', 'E', 'E', 'E', 'I', 'E', 'I', 'E', 'E', 'E', 'E', 'E', 'E', 'E', 'E', 'I', 'E', 'E', 'E', 'E', 'E', 'STOP']\n"
     ]
    }
   ],
   "source": [
    "print(y_pred)"
   ]
  },
  {
   "cell_type": "code",
   "execution_count": 86,
   "metadata": {},
   "outputs": [
    {
     "output_type": "stream",
     "name": "stdout",
     "text": [
      "0.00980392156862745\n"
     ]
    }
   ],
   "source": [
    "count = 0\n",
    "y_corr = ['START'] + df.iloc[4]['y'] + ['STOP']\n",
    "for i in range(len(y_pred)):\n",
    "    if y_pred[i] == y_corr[i]:\n",
    "        count += 1\n",
    "print(count/len(y_pred))"
   ]
  },
  {
   "cell_type": "code",
   "execution_count": 87,
   "metadata": {},
   "outputs": [
    {
     "output_type": "stream",
     "name": "stdout",
     "text": [
      "{'N', 'STOP', 'START'}\n{'I', 'E'}\n{'I', 'STOP', 'E', 'START'}\n[100, 2, 2]\n[56, 43]\n[51, 1, 49, 1]\n"
     ]
    }
   ],
   "source": [
    "\n",
    "print(set(y_corr))\n",
    "print(set(temp_y))\n",
    "print(set(y_pred))\n",
    "print([y_corr.count(i) for i in set(y_corr)])\n",
    "print([temp_y.count(i) for i in set(temp_y)])\n",
    "print([y_pred.count(i) for i in set(y_pred)])"
   ]
  },
  {
   "cell_type": "code",
   "execution_count": 90,
   "metadata": {
    "tags": []
   },
   "outputs": [
    {
     "output_type": "stream",
     "name": "stdout",
     "text": [
      "Done 1  [1.1577945174954207, 9223372036854775807, 9223372036854775807, 1.1354919087530715, 1.1043114825750735]\n",
      "PI=  19999\n",
      "15000     [38168.282978398754, 9.223372036854815e+18, 9.223372036854815e+18, 38167.86864575531, 38167.80596789631]\n",
      "10000     [25408.808828052264, 9.2233720368548e+18, 9.2233720368548e+18, 25408.31594031823, 25408.273514414625]\n",
      "5000     [12661.542118926282, 9.223372036854788e+18, 9.223372036854788e+18, 12661.637173086183, 12661.646865710436]\n",
      "0     [3.8283668569803533, 9.223372036854776e+18, 9.223372036854776e+18, 4.080162186559459, 4.126571043154425]\n",
      "3.2705980879982235\n"
     ]
    }
   ],
   "source": [
    "start = timer()\n",
    "y_pred,temp_y = hmm.viterbi(temp.iloc[4]['x'][:20000])\n",
    "stop = timer()\n",
    "print(stop-start)\n"
   ]
  },
  {
   "cell_type": "code",
   "execution_count": 95,
   "metadata": {},
   "outputs": [
    {
     "output_type": "stream",
     "name": "stdout",
     "text": [
      "20002 \n 20000\nSTOP N\n"
     ]
    }
   ],
   "source": [
    "print(len(y_pred),'\\n',len(temp.iloc[4]['y'][:20000]))\n",
    "print(y_pred[-1], temp.iloc[4]['y'][-1])"
   ]
  },
  {
   "cell_type": "code",
   "execution_count": 98,
   "metadata": {},
   "outputs": [
    {
     "output_type": "stream",
     "name": "stdout",
     "text": [
      "20002 20002\n9.999000099990002e-05\n"
     ]
    }
   ],
   "source": [
    "count = 0\n",
    "y_corr = ['START'] + temp.iloc[4]['y'][:20000] + ['STOP']\n",
    "print(len(y_pred), len(y_corr))\n",
    "for i in range(len(y_pred)):\n",
    "    if y_pred[i] == y_corr[i]:\n",
    "        count += 1\n",
    "print(count/len(y_pred))"
   ]
  },
  {
   "cell_type": "code",
   "execution_count": 99,
   "metadata": {},
   "outputs": [
    {
     "output_type": "stream",
     "name": "stdout",
     "text": [
      "{'N', 'STOP', 'START'}\n{'I', 'E'}\n{'I', 'STOP', 'E', 'START'}\n[20000, 1, 1]\n[10028, 9971]\n[10106, 1, 9894, 1]\n"
     ]
    }
   ],
   "source": [
    "\n",
    "print(set(y_corr))\n",
    "print(set(temp_y))\n",
    "print(set(y_pred))\n",
    "print([y_corr.count(i) for i in set(y_corr)])\n",
    "print([temp_y.count(i) for i in set(temp_y)])\n",
    "print([y_pred.count(i) for i in set(y_pred)])"
   ]
  },
  {
   "cell_type": "code",
   "execution_count": null,
   "metadata": {},
   "outputs": [],
   "source": []
  },
  {
   "cell_type": "code",
   "execution_count": null,
   "metadata": {},
   "outputs": [],
   "source": []
  },
  {
   "cell_type": "code",
   "execution_count": null,
   "metadata": {},
   "outputs": [],
   "source": []
  },
  {
   "cell_type": "code",
   "execution_count": null,
   "metadata": {},
   "outputs": [],
   "source": []
  }
 ]
}