{
 "metadata": {
  "language_info": {
   "codemirror_mode": {
    "name": "ipython",
    "version": 3
   },
   "file_extension": ".py",
   "mimetype": "text/x-python",
   "name": "python",
   "nbconvert_exporter": "python",
   "pygments_lexer": "ipython3",
   "version": "3.7.9"
  },
  "orig_nbformat": 2,
  "kernelspec": {
   "name": "python379jvsc74a57bd0e982cbab146b5da557c3dd4de569c6d20de87aa4899f75bf3dc2ace7a19e2876",
   "display_name": "Python 3.7.9 64-bit ('dev': conda)"
  }
 },
 "nbformat": 4,
 "nbformat_minor": 2,
 "cells": [
  {
   "source": [
    "# Drosophila Melanogaster"
   ],
   "cell_type": "markdown",
   "metadata": {}
  },
  {
   "cell_type": "code",
   "execution_count": 1,
   "metadata": {},
   "outputs": [
    {
     "output_type": "stream",
     "name": "stdout",
     "text": [
      "Biopython v1.78\n"
     ]
    }
   ],
   "source": [
    "import numpy as np # linear algebra\n",
    "import pandas as pd # data processing, CSV file I/O (e.g. pd.read_csv)\n",
    "import Bio\n",
    "import torch as torch\n",
    "from torch.utils.data import Dataset, DataLoader\n",
    "print(\"Biopython v\" + Bio.__version__)\n",
    "from timeit import default_timer as timer\n",
    "import copy\n",
    "import math\n",
    "import sys\n",
    "\n",
    "\n"
   ]
  },
  {
   "cell_type": "code",
   "execution_count": 2,
   "metadata": {},
   "outputs": [
    {
     "output_type": "stream",
     "name": "stdout",
     "text": [
      "Id: chr2L \t Length: 23,513,712\n",
      "Seq('Cgacaatgcacgacagaggaagcagaacagatatttagattgcctctcattttc...gag')\n",
      "\n",
      "Id: chr2R \t Length: 25,286,936\n",
      "Seq('CTCAAGATAccttctacagattatttaaagctagtgcacaacaacaataaattg...ttc')\n",
      "\n",
      "Id: chr3L \t Length: 28,110,227\n",
      "Seq('TAGGGAGAAATATGATCgcgtatgcgagagtagtgccaacatattgtgctcttt...tat')\n",
      "\n",
      "Id: chr3R \t Length: 32,079,331\n",
      "Seq('acgggaccgagtatagtaccagtacgcgaccagtacgggagcagtacggaacca...ttc')\n",
      "\n",
      "Id: chr4 \t Length: 1,348,131\n",
      "Seq('ttattatattattatattattatattattatattattatattattatattatta...GAA')\n",
      "\n",
      "Id: chrM \t Length: 19,524\n",
      "Seq('AATGAATTGCCTGATAAAAAGGATTACCTTGATAGGGTAAATCATGCAGTTTTC...ATT')\n",
      "\n"
     ]
    },
    {
     "output_type": "execute_result",
     "data": {
      "text/plain": [
       "SeqRecord(seq=Seq('AATGAATTGCCTGATAAAAAGGATTACCTTGATAGGGTAAATCATGCAGTTTTC...ATT'), id='chrM', name='chrM', description='chrM', dbxrefs=[])"
      ]
     },
     "metadata": {},
     "execution_count": 2
    }
   ],
   "source": [
    "from Bio import SeqIO\n",
    "count = 0\n",
    "sequences = [] # Here we are setting up an array to save our sequences for the next step\n",
    "\n",
    "for seq_record in SeqIO.parse(\"./Genomedata/genome.fa\", \"fasta\"):\n",
    "    if (count < 6):\n",
    "        sequences.append(seq_record)\n",
    "        print(\"Id: \" + seq_record.id + \" \\t \" + \"Length: \" + str(\"{:,d}\".format(len(seq_record))) )\n",
    "        print(repr(seq_record.seq) + \"\\n\")\n",
    "        count = count + 1\n",
    "\n",
    "sequences.pop()"
   ]
  },
  {
   "cell_type": "code",
   "execution_count": 3,
   "metadata": {},
   "outputs": [
    {
     "output_type": "execute_result",
     "data": {
      "text/plain": [
       "[SeqRecord(seq=Seq('Cgacaatgcacgacagaggaagcagaacagatatttagattgcctctcattttc...gag'), id='chr2L', name='chr2L', description='chr2L', dbxrefs=[]),\n",
       " SeqRecord(seq=Seq('CTCAAGATAccttctacagattatttaaagctagtgcacaacaacaataaattg...ttc'), id='chr2R', name='chr2R', description='chr2R', dbxrefs=[]),\n",
       " SeqRecord(seq=Seq('TAGGGAGAAATATGATCgcgtatgcgagagtagtgccaacatattgtgctcttt...tat'), id='chr3L', name='chr3L', description='chr3L', dbxrefs=[]),\n",
       " SeqRecord(seq=Seq('acgggaccgagtatagtaccagtacgcgaccagtacgggagcagtacggaacca...ttc'), id='chr3R', name='chr3R', description='chr3R', dbxrefs=[]),\n",
       " SeqRecord(seq=Seq('ttattatattattatattattatattattatattattatattattatattatta...GAA'), id='chr4', name='chr4', description='chr4', dbxrefs=[])]"
      ]
     },
     "metadata": {},
     "execution_count": 3
    }
   ],
   "source": [
    "sequences"
   ]
  },
  {
   "cell_type": "code",
   "execution_count": 4,
   "metadata": {},
   "outputs": [],
   "source": [
    "agsts = pd.read_csv('./Genomedata/genes-augustus.csv')"
   ]
  },
  {
   "cell_type": "code",
   "execution_count": 5,
   "metadata": {},
   "outputs": [
    {
     "output_type": "execute_result",
     "data": {
      "text/plain": [
       "array(['chr2L', 'chr2R', 'chr3L', 'chr3R', 'chr4', 'chrUn_CP007080v1',\n",
       "       'chrUn_CP007081v1', 'chrUn_CP007097v1', 'chrUn_DS483755v1',\n",
       "       'chrUn_DS483780v1', 'chrUn_DS483783v1', 'chrUn_DS483801v1',\n",
       "       'chrUn_DS483878v1', 'chrUn_DS484006v1', 'chrUn_DS484105v1',\n",
       "       'chrUn_DS484134v1', 'chrUn_DS484375v1', 'chrUn_DS484521v1',\n",
       "       'chrUn_DS484581v1', 'chrUn_DS484779v1', 'chrUn_DS485083v1',\n",
       "       'chrUn_DS485107v1', 'chrUn_DS485610v1', 'chrX',\n",
       "       'chrX_DS483995v1_random', 'chrY', 'chrY_CP007109v1_random',\n",
       "       'chrY_CP007113v1_random', 'chrY_CP007116v1_random',\n",
       "       'chrY_DS483742v1_random', 'chrY_DS483778v1_random',\n",
       "       'chrY_DS483875v1_random', 'chrY_DS483931v1_random',\n",
       "       'chrY_DS484390v1_random', 'chrY_DS484643v1_random',\n",
       "       'chrY_DS485048v1_random', 'chrY_DS485159v1_random'], dtype=object)"
      ]
     },
     "metadata": {},
     "execution_count": 5
    }
   ],
   "source": [
    "agsts['chrom'].unique()"
   ]
  },
  {
   "source": [
    "Finding the sequences "
   ],
   "cell_type": "markdown",
   "metadata": {}
  },
  {
   "cell_type": "code",
   "execution_count": 6,
   "metadata": {},
   "outputs": [],
   "source": [
    "x = np.array([rec for rec in str(sequences[1].seq)], np.dtype('U'))\n"
   ]
  },
  {
   "cell_type": "code",
   "execution_count": 7,
   "metadata": {},
   "outputs": [
    {
     "output_type": "stream",
     "name": "stdout",
     "text": [
      "{'c', 'n', 'g', 'A', 'T', 'G', 'C', 'a', 'N', 't'}\n6600\n"
     ]
    }
   ],
   "source": [
    "print(set(x))\n",
    "print(np.count_nonzero(x == 'N'))"
   ]
  },
  {
   "cell_type": "code",
   "execution_count": 102,
   "metadata": {},
   "outputs": [
    {
     "output_type": "execute_result",
     "data": {
      "text/plain": [
       "23513712"
      ]
     },
     "metadata": {},
     "execution_count": 102
    }
   ],
   "source": [
    "len(x)"
   ]
  },
  {
   "cell_type": "code",
   "execution_count": 10,
   "metadata": {},
   "outputs": [
    {
     "output_type": "execute_result",
     "data": {
      "text/plain": [
       "'C'"
      ]
     },
     "metadata": {},
     "execution_count": 10
    }
   ],
   "source": [
    "str(x[0])"
   ]
  },
  {
   "cell_type": "code",
   "execution_count": 11,
   "metadata": {},
   "outputs": [],
   "source": [
    "device = torch.device(\"cuda\" if torch.cuda.is_available() else \"cpu\")"
   ]
  },
  {
   "cell_type": "code",
   "execution_count": 19,
   "metadata": {},
   "outputs": [],
   "source": [
    "class SeqDataset(Dataset):\n",
    "\n",
    "    def __init__(self, data):\n",
    "        x = np.array([np.array(rec) for rec in str(data)], np.dtype('U'))\n",
    "        self.X = x\n",
    "\n",
    "    def __len__(self):\n",
    "        return len(self.X)\n",
    "\n",
    "    def __getitem__(self, idx):\n",
    "        return (X[idx])\n",
    "seq1 = SeqDataset(sequences[0].seq)\n"
   ]
  },
  {
   "cell_type": "code",
   "execution_count": 20,
   "metadata": {},
   "outputs": [
    {
     "output_type": "execute_result",
     "data": {
      "text/plain": [
       "<__main__.SeqDataset at 0x7f5d90db0990>"
      ]
     },
     "metadata": {},
     "execution_count": 20
    }
   ],
   "source": [
    "\n",
    "train_loader = DataLoader(\n",
    "    dataset=seq1, \n",
    "    batch_size=1, shuffle=False)"
   ]
  },
  {
   "cell_type": "code",
   "execution_count": 6,
   "metadata": {},
   "outputs": [],
   "source": [
    "x = np.array([np.array(rec) for rec in str(sequences[0].seq)], np.dtype('U'))"
   ]
  },
  {
   "cell_type": "code",
   "execution_count": 27,
   "metadata": {},
   "outputs": [],
   "source": [
    "x = torch.Tensor([[1,2,3,4]]).to(device)\n",
    "y = torch.Tensor([[2],[3],[4],[5]]).to(device)"
   ]
  },
  {
   "cell_type": "code",
   "execution_count": 28,
   "metadata": {},
   "outputs": [
    {
     "output_type": "execute_result",
     "data": {
      "text/plain": [
       "tensor([[ 2.,  4.,  6.,  8.],\n",
       "        [ 3.,  6.,  9., 12.],\n",
       "        [ 4.,  8., 12., 16.],\n",
       "        [ 5., 10., 15., 20.]], device='cuda:0')"
      ]
     },
     "metadata": {},
     "execution_count": 28
    }
   ],
   "source": [
    "x * y"
   ]
  },
  {
   "source": [
    "create Dataset"
   ],
   "cell_type": "markdown",
   "metadata": {}
  },
  {
   "cell_type": "code",
   "execution_count": 29,
   "metadata": {},
   "outputs": [
    {
     "output_type": "execute_result",
     "data": {
      "text/plain": [
       "      bin      name  chrom strand   txStart     txEnd  cdsStart    cdsEnd  \\\n",
       "0     585     g1.t1  chr2L      +      6485     10574      6590      9276   \n",
       "1     585     g1.t2  chr2L      +      6485     10574      6590      9276   \n",
       "2     585     g2.t1  chr2L      -     10706     40875     11770     40784   \n",
       "3     585     g3.t1  chr2L      +     56305     71879     67624     70895   \n",
       "4     585     g3.t2  chr2L      +     56305     76202     67624     76098   \n",
       "...   ...       ...    ...    ...       ...       ...       ...       ...   \n",
       "2523  760  g2068.t2  chr2L      +  22982111  22992912  22982197  22991943   \n",
       "2524  760  g2069.t1  chr2L      -  22999565  23025931  22999672  23016070   \n",
       "2525   11  g2069.t2  chr2L      -  22999585  23068851  22999672  23068217   \n",
       "2526  761  g2070.t1  chr2L      -  23161126  23167576  23161957  23167499   \n",
       "2527   95  g2071.t1  chr2L      -  23312469  23371726  23312538  23371607   \n",
       "\n",
       "      exonCount                                         exonStarts  \\\n",
       "0             6                    6485,7573,7979,8192,8667,10454,   \n",
       "1             5                         6485,7573,8192,8667,10454,   \n",
       "2            26  10706,12285,13519,13682,14932,22268,22527,2274...   \n",
       "3             6               56305,61885,67568,67891,68084,70606,   \n",
       "4            11  56305,66675,67568,67891,68084,70606,72597,7447...   \n",
       "...         ...                                                ...   \n",
       "2523          6  22982111,22990753,22991055,22991207,22991394,2...   \n",
       "2524          9  22999565,23003746,23003990,23005406,23012217,2...   \n",
       "2525         11  22999585,23003746,23003990,23005406,23012217,2...   \n",
       "2526          4               23161126,23162211,23162924,23167495,   \n",
       "2527          8  23312469,23312718,23312947,23323954,23335504,2...   \n",
       "\n",
       "                                               exonEnds  score  name2  \\\n",
       "0                       6808,7910,8116,8589,9741,10574,      0     g1   \n",
       "1                            6808,8116,8589,9741,10574,      0     g1   \n",
       "2     12221,12928,13625,14874,15275,22446,22687,2293...      0     g2   \n",
       "3                  56356,61966,67762,68023,70549,71879,      0     g3   \n",
       "4     56356,67003,67762,68023,70549,70806,72977,7457...      0     g3   \n",
       "...                                                 ...    ...    ...   \n",
       "2523  22982593,22990892,22991153,22991339,22991534,2...      0  g2068   \n",
       "2524  23000966,23003933,23005346,23005686,23012403,2...      0  g2069   \n",
       "2525  23000966,23003933,23005346,23005686,23012403,2...      0  g2069   \n",
       "2526               23162139,23162872,23163058,23167576,      0  g2070   \n",
       "2527  23312654,23312888,23313230,23324125,23335735,2...      0  g2071   \n",
       "\n",
       "     cdsStartStat cdsEndStat  \\\n",
       "0            cmpl       cmpl   \n",
       "1            cmpl       cmpl   \n",
       "2            cmpl       cmpl   \n",
       "3            cmpl       cmpl   \n",
       "4            cmpl       cmpl   \n",
       "...           ...        ...   \n",
       "2523         cmpl       cmpl   \n",
       "2524         cmpl       cmpl   \n",
       "2525         cmpl       cmpl   \n",
       "2526         cmpl       cmpl   \n",
       "2527         cmpl       cmpl   \n",
       "\n",
       "                                             exonFrames  \n",
       "0                                         0,2,0,2,0,-1,  \n",
       "1                                           0,2,2,0,-1,  \n",
       "2     2,1,0,2,1,0,2,1,1,0,0,2,2,0,1,2,2,1,2,2,0,2,2,...  \n",
       "3                                        -1,-1,0,0,0,2,  \n",
       "4                              -1,-1,0,0,0,2,1,0,0,2,0,  \n",
       "...                                                 ...  \n",
       "2523                                       0,0,1,0,0,2,  \n",
       "2524                                2,1,1,0,0,0,0,0,-1,  \n",
       "2525                            2,1,1,0,0,0,0,1,0,0,-1,  \n",
       "2526                                           1,0,1,0,  \n",
       "2527                                  1,2,1,1,1,2,0,-1,  \n",
       "\n",
       "[2528 rows x 16 columns]"
      ],
      "text/html": "<div>\n<style scoped>\n    .dataframe tbody tr th:only-of-type {\n        vertical-align: middle;\n    }\n\n    .dataframe tbody tr th {\n        vertical-align: top;\n    }\n\n    .dataframe thead th {\n        text-align: right;\n    }\n</style>\n<table border=\"1\" class=\"dataframe\">\n  <thead>\n    <tr style=\"text-align: right;\">\n      <th></th>\n      <th>bin</th>\n      <th>name</th>\n      <th>chrom</th>\n      <th>strand</th>\n      <th>txStart</th>\n      <th>txEnd</th>\n      <th>cdsStart</th>\n      <th>cdsEnd</th>\n      <th>exonCount</th>\n      <th>exonStarts</th>\n      <th>exonEnds</th>\n      <th>score</th>\n      <th>name2</th>\n      <th>cdsStartStat</th>\n      <th>cdsEndStat</th>\n      <th>exonFrames</th>\n    </tr>\n  </thead>\n  <tbody>\n    <tr>\n      <th>0</th>\n      <td>585</td>\n      <td>g1.t1</td>\n      <td>chr2L</td>\n      <td>+</td>\n      <td>6485</td>\n      <td>10574</td>\n      <td>6590</td>\n      <td>9276</td>\n      <td>6</td>\n      <td>6485,7573,7979,8192,8667,10454,</td>\n      <td>6808,7910,8116,8589,9741,10574,</td>\n      <td>0</td>\n      <td>g1</td>\n      <td>cmpl</td>\n      <td>cmpl</td>\n      <td>0,2,0,2,0,-1,</td>\n    </tr>\n    <tr>\n      <th>1</th>\n      <td>585</td>\n      <td>g1.t2</td>\n      <td>chr2L</td>\n      <td>+</td>\n      <td>6485</td>\n      <td>10574</td>\n      <td>6590</td>\n      <td>9276</td>\n      <td>5</td>\n      <td>6485,7573,8192,8667,10454,</td>\n      <td>6808,8116,8589,9741,10574,</td>\n      <td>0</td>\n      <td>g1</td>\n      <td>cmpl</td>\n      <td>cmpl</td>\n      <td>0,2,2,0,-1,</td>\n    </tr>\n    <tr>\n      <th>2</th>\n      <td>585</td>\n      <td>g2.t1</td>\n      <td>chr2L</td>\n      <td>-</td>\n      <td>10706</td>\n      <td>40875</td>\n      <td>11770</td>\n      <td>40784</td>\n      <td>26</td>\n      <td>10706,12285,13519,13682,14932,22268,22527,2274...</td>\n      <td>12221,12928,13625,14874,15275,22446,22687,2293...</td>\n      <td>0</td>\n      <td>g2</td>\n      <td>cmpl</td>\n      <td>cmpl</td>\n      <td>2,1,0,2,1,0,2,1,1,0,0,2,2,0,1,2,2,1,2,2,0,2,2,...</td>\n    </tr>\n    <tr>\n      <th>3</th>\n      <td>585</td>\n      <td>g3.t1</td>\n      <td>chr2L</td>\n      <td>+</td>\n      <td>56305</td>\n      <td>71879</td>\n      <td>67624</td>\n      <td>70895</td>\n      <td>6</td>\n      <td>56305,61885,67568,67891,68084,70606,</td>\n      <td>56356,61966,67762,68023,70549,71879,</td>\n      <td>0</td>\n      <td>g3</td>\n      <td>cmpl</td>\n      <td>cmpl</td>\n      <td>-1,-1,0,0,0,2,</td>\n    </tr>\n    <tr>\n      <th>4</th>\n      <td>585</td>\n      <td>g3.t2</td>\n      <td>chr2L</td>\n      <td>+</td>\n      <td>56305</td>\n      <td>76202</td>\n      <td>67624</td>\n      <td>76098</td>\n      <td>11</td>\n      <td>56305,66675,67568,67891,68084,70606,72597,7447...</td>\n      <td>56356,67003,67762,68023,70549,70806,72977,7457...</td>\n      <td>0</td>\n      <td>g3</td>\n      <td>cmpl</td>\n      <td>cmpl</td>\n      <td>-1,-1,0,0,0,2,1,0,0,2,0,</td>\n    </tr>\n    <tr>\n      <th>...</th>\n      <td>...</td>\n      <td>...</td>\n      <td>...</td>\n      <td>...</td>\n      <td>...</td>\n      <td>...</td>\n      <td>...</td>\n      <td>...</td>\n      <td>...</td>\n      <td>...</td>\n      <td>...</td>\n      <td>...</td>\n      <td>...</td>\n      <td>...</td>\n      <td>...</td>\n      <td>...</td>\n    </tr>\n    <tr>\n      <th>2523</th>\n      <td>760</td>\n      <td>g2068.t2</td>\n      <td>chr2L</td>\n      <td>+</td>\n      <td>22982111</td>\n      <td>22992912</td>\n      <td>22982197</td>\n      <td>22991943</td>\n      <td>6</td>\n      <td>22982111,22990753,22991055,22991207,22991394,2...</td>\n      <td>22982593,22990892,22991153,22991339,22991534,2...</td>\n      <td>0</td>\n      <td>g2068</td>\n      <td>cmpl</td>\n      <td>cmpl</td>\n      <td>0,0,1,0,0,2,</td>\n    </tr>\n    <tr>\n      <th>2524</th>\n      <td>760</td>\n      <td>g2069.t1</td>\n      <td>chr2L</td>\n      <td>-</td>\n      <td>22999565</td>\n      <td>23025931</td>\n      <td>22999672</td>\n      <td>23016070</td>\n      <td>9</td>\n      <td>22999565,23003746,23003990,23005406,23012217,2...</td>\n      <td>23000966,23003933,23005346,23005686,23012403,2...</td>\n      <td>0</td>\n      <td>g2069</td>\n      <td>cmpl</td>\n      <td>cmpl</td>\n      <td>2,1,1,0,0,0,0,0,-1,</td>\n    </tr>\n    <tr>\n      <th>2525</th>\n      <td>11</td>\n      <td>g2069.t2</td>\n      <td>chr2L</td>\n      <td>-</td>\n      <td>22999585</td>\n      <td>23068851</td>\n      <td>22999672</td>\n      <td>23068217</td>\n      <td>11</td>\n      <td>22999585,23003746,23003990,23005406,23012217,2...</td>\n      <td>23000966,23003933,23005346,23005686,23012403,2...</td>\n      <td>0</td>\n      <td>g2069</td>\n      <td>cmpl</td>\n      <td>cmpl</td>\n      <td>2,1,1,0,0,0,0,1,0,0,-1,</td>\n    </tr>\n    <tr>\n      <th>2526</th>\n      <td>761</td>\n      <td>g2070.t1</td>\n      <td>chr2L</td>\n      <td>-</td>\n      <td>23161126</td>\n      <td>23167576</td>\n      <td>23161957</td>\n      <td>23167499</td>\n      <td>4</td>\n      <td>23161126,23162211,23162924,23167495,</td>\n      <td>23162139,23162872,23163058,23167576,</td>\n      <td>0</td>\n      <td>g2070</td>\n      <td>cmpl</td>\n      <td>cmpl</td>\n      <td>1,0,1,0,</td>\n    </tr>\n    <tr>\n      <th>2527</th>\n      <td>95</td>\n      <td>g2071.t1</td>\n      <td>chr2L</td>\n      <td>-</td>\n      <td>23312469</td>\n      <td>23371726</td>\n      <td>23312538</td>\n      <td>23371607</td>\n      <td>8</td>\n      <td>23312469,23312718,23312947,23323954,23335504,2...</td>\n      <td>23312654,23312888,23313230,23324125,23335735,2...</td>\n      <td>0</td>\n      <td>g2071</td>\n      <td>cmpl</td>\n      <td>cmpl</td>\n      <td>1,2,1,1,1,2,0,-1,</td>\n    </tr>\n  </tbody>\n</table>\n<p>2528 rows × 16 columns</p>\n</div>"
     },
     "metadata": {},
     "execution_count": 29
    }
   ],
   "source": [
    "for S in sequences:\n",
    "    agsts.loc[agsts['chrom'] == S.id]"
   ]
  },
  {
   "cell_type": "code",
   "execution_count": 16,
   "metadata": {},
   "outputs": [
    {
     "output_type": "execute_result",
     "data": {
      "text/plain": [
       "Seq('UGUAAAUUCCAAUUA')"
      ]
     },
     "metadata": {},
     "execution_count": 16
    }
   ],
   "source": [
    "sequences[0].seq[6480:6495].transcribe()"
   ]
  },
  {
   "cell_type": "code",
   "execution_count": 19,
   "metadata": {},
   "outputs": [
    {
     "output_type": "execute_result",
     "data": {
      "text/plain": [
       "Seq('CUUUCAGCAACCGAGAAGAGAACCCAC')"
      ]
     },
     "metadata": {},
     "execution_count": 19
    }
   ],
   "source": [
    "sequences[0].seq[7566:7593].transcribe()\n"
   ]
  },
  {
   "cell_type": "code",
   "execution_count": 20,
   "metadata": {},
   "outputs": [
    {
     "output_type": "execute_result",
     "data": {
      "text/plain": [
       "Seq('AAAAUGUGGGCACG')"
      ]
     },
     "metadata": {},
     "execution_count": 20
    }
   ],
   "source": [
    "sequences[0].seq[10570:10584].transcribe()"
   ]
  },
  {
   "cell_type": "code",
   "execution_count": 8,
   "metadata": {},
   "outputs": [
    {
     "output_type": "error",
     "ename": "NameError",
     "evalue": "name 's_id' is not defined",
     "traceback": [
      "\u001b[0;31m---------------------------------------------------------------------------\u001b[0m",
      "\u001b[0;31mNameError\u001b[0m                                 Traceback (most recent call last)",
      "\u001b[0;32m<ipython-input-8-14ee4c7ae5cd>\u001b[0m in \u001b[0;36m<module>\u001b[0;34m\u001b[0m\n\u001b[0;32m----> 1\u001b[0;31m \u001b[0mi\u001b[0m \u001b[0;34m=\u001b[0m \u001b[0ms_id\u001b[0m\u001b[0;34m[\u001b[0m\u001b[0;34m'name'\u001b[0m\u001b[0;34m]\u001b[0m\u001b[0;34m[\u001b[0m\u001b[0;36m2\u001b[0m\u001b[0;34m]\u001b[0m\u001b[0;34m[\u001b[0m\u001b[0;34m:\u001b[0m\u001b[0;34m-\u001b[0m\u001b[0;36m3\u001b[0m\u001b[0;34m]\u001b[0m \u001b[0;34m+\u001b[0m \u001b[0;34m'.t2'\u001b[0m\u001b[0;34m\u001b[0m\u001b[0;34m\u001b[0m\u001b[0m\n\u001b[0m\u001b[1;32m      2\u001b[0m \u001b[0mprint\u001b[0m\u001b[0;34m(\u001b[0m\u001b[0ms_id\u001b[0m\u001b[0;34m[\u001b[0m\u001b[0ms_id\u001b[0m\u001b[0;34m[\u001b[0m\u001b[0;34m'name'\u001b[0m\u001b[0;34m]\u001b[0m\u001b[0;34m.\u001b[0m\u001b[0misin\u001b[0m\u001b[0;34m(\u001b[0m\u001b[0;34m[\u001b[0m\u001b[0mi\u001b[0m\u001b[0;34m]\u001b[0m\u001b[0;34m)\u001b[0m\u001b[0;34m]\u001b[0m\u001b[0;34m.\u001b[0m\u001b[0mempty\u001b[0m\u001b[0;34m)\u001b[0m\u001b[0;34m\u001b[0m\u001b[0;34m\u001b[0m\u001b[0m\n",
      "\u001b[0;31mNameError\u001b[0m: name 's_id' is not defined"
     ]
    }
   ],
   "source": [
    "i = s_id['name'][2][:-3] + '.t2'\n",
    "print(s_id[s_id['name'].isin([i])].empty)\n"
   ]
  },
  {
   "cell_type": "code",
   "execution_count": 122,
   "metadata": {},
   "outputs": [
    {
     "output_type": "execute_result",
     "data": {
      "text/plain": [
       "['n', 'n']"
      ]
     },
     "metadata": {},
     "execution_count": 122
    }
   ],
   "source": [
    "['N'] * 2"
   ]
  },
  {
   "cell_type": "code",
   "execution_count": 123,
   "metadata": {},
   "outputs": [],
   "source": [
    "ch = np.array(['N'] * s_id.iloc[-1]['txEnd'],dtype='U')\n"
   ]
  },
  {
   "cell_type": "code",
   "execution_count": 125,
   "metadata": {},
   "outputs": [
    {
     "output_type": "execute_result",
     "data": {
      "text/plain": [
       "array(['N', 'N', 'N', ..., 'N', 'N', 'N'], dtype='<U1')"
      ]
     },
     "metadata": {},
     "execution_count": 125
    }
   ],
   "source": [
    "ch"
   ]
  },
  {
   "cell_type": "code",
   "execution_count": 124,
   "metadata": {},
   "outputs": [
    {
     "output_type": "execute_result",
     "data": {
      "text/plain": [
       "23371726"
      ]
     },
     "metadata": {},
     "execution_count": 124
    }
   ],
   "source": [
    "len(ch)"
   ]
  },
  {
   "cell_type": "code",
   "execution_count": 49,
   "metadata": {},
   "outputs": [
    {
     "output_type": "error",
     "ename": "IndentationError",
     "evalue": "expected an indented block (<ipython-input-49-dd615feab829>, line 5)",
     "traceback": [
      "\u001b[0;36m  File \u001b[0;32m\"<ipython-input-49-dd615feab829>\"\u001b[0;36m, line \u001b[0;32m5\u001b[0m\n\u001b[0;31m    check_t2 = row['name'][:-3] + '.t2'\u001b[0m\n\u001b[0m           ^\u001b[0m\n\u001b[0;31mIndentationError\u001b[0m\u001b[0;31m:\u001b[0m expected an indented block\n"
     ]
    }
   ],
   "source": [
    "\n",
    "s_id = agsts.loc[agsts['chrom'] == 'chr2L']\n",
    "for index, row in s_id.iterrows():\n",
    "    if row['name'][-3:] == '.t2':\n",
    "        #Code exons\n",
    "        \n",
    "    check_t2 = row['name'][:-3] + '.t2'\n",
    "    if s_id[s_id['name'].isin([check_t2])].empty:\n",
    "        continue\n",
    "    else: \n",
    "        #Code exons"
   ]
  },
  {
   "cell_type": "code",
   "execution_count": 85,
   "metadata": {},
   "outputs": [],
   "source": [
    "x= s_id.iloc[0]"
   ]
  },
  {
   "cell_type": "code",
   "execution_count": 86,
   "metadata": {},
   "outputs": [],
   "source": [
    "\n",
    "ch[x['txStart']:x['txEnd']] = 'T'"
   ]
  },
  {
   "cell_type": "code",
   "execution_count": 70,
   "metadata": {},
   "outputs": [
    {
     "output_type": "execute_result",
     "data": {
      "text/plain": [
       "'T'"
      ]
     },
     "metadata": {},
     "execution_count": 70
    }
   ],
   "source": [
    "ch[6600]"
   ]
  },
  {
   "cell_type": "code",
   "execution_count": 87,
   "metadata": {},
   "outputs": [],
   "source": [
    "Estart = np.array(x['exonStarts'].split(',')[:-1]).astype(int)\n",
    "Eend = np.array(x['exonEnds'].split(',')[:-1]).astype(int)"
   ]
  },
  {
   "cell_type": "code",
   "execution_count": 91,
   "metadata": {},
   "outputs": [],
   "source": [
    "for i in range(len(Estart)):\n",
    "    ch[Estart[i]:Eend[i]+1] = 'E'\n",
    "    if i != len(Estart) - 1:\n",
    "        ch[Eend[i]+1:Estart[i+1]] = 'I'"
   ]
  },
  {
   "cell_type": "code",
   "execution_count": 94,
   "metadata": {},
   "outputs": [
    {
     "output_type": "execute_result",
     "data": {
      "text/plain": [
       "'I'"
      ]
     },
     "metadata": {},
     "execution_count": 94
    }
   ],
   "source": [
    "ch[6809]"
   ]
  },
  {
   "cell_type": "code",
   "execution_count": 131,
   "metadata": {},
   "outputs": [],
   "source": [
    "seq = sequences[0].seq\n",
    "arr = np.array([rec for rec in str(seq)],dtype='U')\n",
    "a = np.array([x.lower() if isinstance(x, str) else x for x in arr])"
   ]
  },
  {
   "cell_type": "code",
   "execution_count": 132,
   "metadata": {},
   "outputs": [
    {
     "output_type": "execute_result",
     "data": {
      "text/plain": [
       "array(['c', 'g', 'a', ..., 'g', 'a', 'g'], dtype='<U1')"
      ]
     },
     "metadata": {},
     "execution_count": 132
    }
   ],
   "source": [
    "a"
   ]
  },
  {
   "cell_type": "code",
   "execution_count": 161,
   "metadata": {},
   "outputs": [],
   "source": [
    "s_id_aug = agsts.loc[agsts['chrom'] == 'chr2R']"
   ]
  },
  {
   "cell_type": "code",
   "execution_count": 172,
   "metadata": {},
   "outputs": [
    {
     "output_type": "error",
     "ename": "IndexError",
     "evalue": "single positional indexer is out-of-bounds",
     "traceback": [
      "\u001b[0;31m---------------------------------------------------------------------------\u001b[0m",
      "\u001b[0;31mIndexError\u001b[0m                                Traceback (most recent call last)",
      "\u001b[0;32m<ipython-input-172-68218226c5a5>\u001b[0m in \u001b[0;36m<module>\u001b[0;34m\u001b[0m\n\u001b[0;32m----> 1\u001b[0;31m \u001b[0ms_id_aug\u001b[0m\u001b[0;34m.\u001b[0m\u001b[0miloc\u001b[0m\u001b[0;34m[\u001b[0m\u001b[0;36m2705\u001b[0m\u001b[0;34m]\u001b[0m\u001b[0;34m\u001b[0m\u001b[0;34m\u001b[0m\u001b[0m\n\u001b[0m",
      "\u001b[0;32m~/anaconda3/envs/dev/lib/python3.7/site-packages/pandas/core/indexing.py\u001b[0m in \u001b[0;36m__getitem__\u001b[0;34m(self, key)\u001b[0m\n\u001b[1;32m    893\u001b[0m \u001b[0;34m\u001b[0m\u001b[0m\n\u001b[1;32m    894\u001b[0m             \u001b[0mmaybe_callable\u001b[0m \u001b[0;34m=\u001b[0m \u001b[0mcom\u001b[0m\u001b[0;34m.\u001b[0m\u001b[0mapply_if_callable\u001b[0m\u001b[0;34m(\u001b[0m\u001b[0mkey\u001b[0m\u001b[0;34m,\u001b[0m \u001b[0mself\u001b[0m\u001b[0;34m.\u001b[0m\u001b[0mobj\u001b[0m\u001b[0;34m)\u001b[0m\u001b[0;34m\u001b[0m\u001b[0;34m\u001b[0m\u001b[0m\n\u001b[0;32m--> 895\u001b[0;31m             \u001b[0;32mreturn\u001b[0m \u001b[0mself\u001b[0m\u001b[0;34m.\u001b[0m\u001b[0m_getitem_axis\u001b[0m\u001b[0;34m(\u001b[0m\u001b[0mmaybe_callable\u001b[0m\u001b[0;34m,\u001b[0m \u001b[0maxis\u001b[0m\u001b[0;34m=\u001b[0m\u001b[0maxis\u001b[0m\u001b[0;34m)\u001b[0m\u001b[0;34m\u001b[0m\u001b[0;34m\u001b[0m\u001b[0m\n\u001b[0m\u001b[1;32m    896\u001b[0m \u001b[0;34m\u001b[0m\u001b[0m\n\u001b[1;32m    897\u001b[0m     \u001b[0;32mdef\u001b[0m \u001b[0m_is_scalar_access\u001b[0m\u001b[0;34m(\u001b[0m\u001b[0mself\u001b[0m\u001b[0;34m,\u001b[0m \u001b[0mkey\u001b[0m\u001b[0;34m:\u001b[0m \u001b[0mTuple\u001b[0m\u001b[0;34m)\u001b[0m\u001b[0;34m:\u001b[0m\u001b[0;34m\u001b[0m\u001b[0;34m\u001b[0m\u001b[0m\n",
      "\u001b[0;32m~/anaconda3/envs/dev/lib/python3.7/site-packages/pandas/core/indexing.py\u001b[0m in \u001b[0;36m_getitem_axis\u001b[0;34m(self, key, axis)\u001b[0m\n\u001b[1;32m   1499\u001b[0m \u001b[0;34m\u001b[0m\u001b[0m\n\u001b[1;32m   1500\u001b[0m             \u001b[0;31m# validate the location\u001b[0m\u001b[0;34m\u001b[0m\u001b[0;34m\u001b[0m\u001b[0;34m\u001b[0m\u001b[0m\n\u001b[0;32m-> 1501\u001b[0;31m             \u001b[0mself\u001b[0m\u001b[0;34m.\u001b[0m\u001b[0m_validate_integer\u001b[0m\u001b[0;34m(\u001b[0m\u001b[0mkey\u001b[0m\u001b[0;34m,\u001b[0m \u001b[0maxis\u001b[0m\u001b[0;34m)\u001b[0m\u001b[0;34m\u001b[0m\u001b[0;34m\u001b[0m\u001b[0m\n\u001b[0m\u001b[1;32m   1502\u001b[0m \u001b[0;34m\u001b[0m\u001b[0m\n\u001b[1;32m   1503\u001b[0m             \u001b[0;32mreturn\u001b[0m \u001b[0mself\u001b[0m\u001b[0;34m.\u001b[0m\u001b[0mobj\u001b[0m\u001b[0;34m.\u001b[0m\u001b[0m_ixs\u001b[0m\u001b[0;34m(\u001b[0m\u001b[0mkey\u001b[0m\u001b[0;34m,\u001b[0m \u001b[0maxis\u001b[0m\u001b[0;34m=\u001b[0m\u001b[0maxis\u001b[0m\u001b[0;34m)\u001b[0m\u001b[0;34m\u001b[0m\u001b[0;34m\u001b[0m\u001b[0m\n",
      "\u001b[0;32m~/anaconda3/envs/dev/lib/python3.7/site-packages/pandas/core/indexing.py\u001b[0m in \u001b[0;36m_validate_integer\u001b[0;34m(self, key, axis)\u001b[0m\n\u001b[1;32m   1442\u001b[0m         \u001b[0mlen_axis\u001b[0m \u001b[0;34m=\u001b[0m \u001b[0mlen\u001b[0m\u001b[0;34m(\u001b[0m\u001b[0mself\u001b[0m\u001b[0;34m.\u001b[0m\u001b[0mobj\u001b[0m\u001b[0;34m.\u001b[0m\u001b[0m_get_axis\u001b[0m\u001b[0;34m(\u001b[0m\u001b[0maxis\u001b[0m\u001b[0;34m)\u001b[0m\u001b[0;34m)\u001b[0m\u001b[0;34m\u001b[0m\u001b[0;34m\u001b[0m\u001b[0m\n\u001b[1;32m   1443\u001b[0m         \u001b[0;32mif\u001b[0m \u001b[0mkey\u001b[0m \u001b[0;34m>=\u001b[0m \u001b[0mlen_axis\u001b[0m \u001b[0;32mor\u001b[0m \u001b[0mkey\u001b[0m \u001b[0;34m<\u001b[0m \u001b[0;34m-\u001b[0m\u001b[0mlen_axis\u001b[0m\u001b[0;34m:\u001b[0m\u001b[0;34m\u001b[0m\u001b[0;34m\u001b[0m\u001b[0m\n\u001b[0;32m-> 1444\u001b[0;31m             \u001b[0;32mraise\u001b[0m \u001b[0mIndexError\u001b[0m\u001b[0;34m(\u001b[0m\u001b[0;34m\"single positional indexer is out-of-bounds\"\u001b[0m\u001b[0;34m)\u001b[0m\u001b[0;34m\u001b[0m\u001b[0;34m\u001b[0m\u001b[0m\n\u001b[0m\u001b[1;32m   1445\u001b[0m \u001b[0;34m\u001b[0m\u001b[0m\n\u001b[1;32m   1446\u001b[0m     \u001b[0;31m# -------------------------------------------------------------------\u001b[0m\u001b[0;34m\u001b[0m\u001b[0;34m\u001b[0m\u001b[0;34m\u001b[0m\u001b[0m\n",
      "\u001b[0;31mIndexError\u001b[0m: single positional indexer is out-of-bounds"
     ]
    }
   ],
   "source": [
    "s_id_aug.iloc[2705]"
   ]
  },
  {
   "cell_type": "code",
   "execution_count": 99,
   "metadata": {},
   "outputs": [],
   "source": [
    "def code_Exon_Intron(coding_row, ch):\n",
    "    ch[coding_row['txStart']:coding_row['txEnd']] = 'T'\n",
    "    Estart = np.array(coding_row['exonStarts'].split(',')[:-1]).astype(int)\n",
    "    Eend = np.array(coding_row['exonEnds'].split(',')[:-1]).astype(int)\n",
    "    for i in range(len(Estart)):\n",
    "        ch[Estart[i]:Eend[i]+1] = 'E'\n",
    "        if i != len(Estart) - 1:\n",
    "            ch[Eend[i]+1:Estart[i+1]] = 'I'\n",
    "    return ch\n",
    "\n",
    "def code_sequence(augustus, sequences):\n",
    "    df = pd.DataFrame(columns=['id','x','y'])\n",
    "    \n",
    "    for seq in sequences:\n",
    "        s_id_aug = augustus.loc[augustus['chrom'] == seq.id]\n",
    "\n",
    "        y = np.array(['N'] * s_id_aug.iloc[-1]['txEnd'],dtype='U')\n",
    "\n",
    "        t = np.array([rec for rec in str(seq.seq)],dtype='U')[:s_id_aug.iloc[-1]['txEnd']]\n",
    "        x = np.array([x.upper() if isinstance(x, str) else x for x in t])\n",
    "\n",
    "\n",
    "        for index, row in s_id_aug.iterrows():\n",
    "\n",
    "            if row['name'][-3:] == '.t2':\n",
    "                y = code_Exon_Intron(row, y)\n",
    "                \n",
    "            check_t2 = row['name'][:-3] + '.t2'\n",
    "            if s_id_aug[s_id_aug['name'].isin([check_t2])].empty:\n",
    "                continue\n",
    "            else: \n",
    "                y = code_Exon_Intron(row, y)\n",
    "        # print(x[0],'\\n',x[1],'\\n/',x[2],'\\n',x[3],'\\n',x[100])\n",
    "        print(len(x.tolist()))\n",
    "        char = pd.Series({'id': seq.id, 'x':x.tolist(), 'y':y.tolist()})\n",
    "        print(char['x'][:20])\n",
    "        df = df.append(char,ignore_index=True)\n",
    "    return df"
   ]
  },
  {
   "cell_type": "code",
   "execution_count": 100,
   "metadata": {},
   "outputs": [
    {
     "output_type": "stream",
     "name": "stdout",
     "text": [
      "23371726\n",
      "['C', 'G', 'A', 'C', 'A', 'A', 'T', 'G', 'C', 'A', 'C', 'G', 'A', 'C', 'A', 'G', 'A', 'G', 'G', 'A']\n",
      "25254583\n",
      "['C', 'T', 'C', 'A', 'A', 'G', 'A', 'T', 'A', 'C', 'C', 'T', 'T', 'C', 'T', 'A', 'C', 'A', 'G', 'A']\n",
      "27866355\n",
      "['T', 'A', 'G', 'G', 'G', 'A', 'G', 'A', 'A', 'A', 'T', 'A', 'T', 'G', 'A', 'T', 'C', 'G', 'C', 'G']\n",
      "32070586\n",
      "['A', 'C', 'G', 'G', 'G', 'A', 'C', 'C', 'G', 'A', 'G', 'T', 'A', 'T', 'A', 'G', 'T', 'A', 'C', 'C']\n",
      "1271726\n",
      "['T', 'T', 'A', 'T', 'T', 'A', 'T', 'A', 'T', 'T', 'A', 'T', 'T', 'A', 'T', 'A', 'T', 'T', 'A', 'T']\n"
     ]
    }
   ],
   "source": [
    "temp = code_sequence(agsts, sequences)\n"
   ]
  },
  {
   "cell_type": "code",
   "execution_count": 101,
   "metadata": {
    "tags": []
   },
   "outputs": [
    {
     "output_type": "stream",
     "name": "stdout",
     "text": [
      "23371726\n23371726\n['C', 'G', 'A', 'C', 'A', 'A', 'T', 'G', 'C', 'A', 'C', 'G', 'A', 'C', 'A', 'G', 'A', 'G', 'G', 'A']\nN\n"
     ]
    }
   ],
   "source": [
    "print(len(temp.iloc[0]['x']))\n",
    "print(len(temp.iloc[0]['y']))\n",
    "print(temp.iloc[0]['x'][:20])\n",
    "print(temp.iloc[0]['y'][-1])"
   ]
  },
  {
   "cell_type": "code",
   "execution_count": 102,
   "metadata": {},
   "outputs": [],
   "source": [
    "def prepare_segment(x,y):\n",
    "    df = pd.DataFrame(columns = ['x','y'])\n",
    "    last_i = 0\n",
    "    for i in range(100,len(x),100):\n",
    "        df = df.append({'x': x[last_i:i], 'y':['START'] + y[last_i:i] + ['STOP']}, ignore_index = True)\n",
    "        last_i = i\n",
    "    return df"
   ]
  },
  {
   "cell_type": "code",
   "execution_count": 103,
   "metadata": {},
   "outputs": [
    {
     "output_type": "stream",
     "name": "stdout",
     "text": [
      "0\n100\n200\n300\n400\n500\n600\n700\n800\n900\n1000\n"
     ]
    }
   ],
   "source": [
    "for i in range(0,1004,100):\n",
    "    print(i)"
   ]
  },
  {
   "cell_type": "code",
   "execution_count": 104,
   "metadata": {},
   "outputs": [],
   "source": [
    "df = prepare_segment(temp.iloc[4]['x'],temp.iloc[4]['y'])"
   ]
  },
  {
   "cell_type": "code",
   "execution_count": 111,
   "metadata": {},
   "outputs": [
    {
     "output_type": "execute_result",
     "data": {
      "text/plain": [
       "['START',\n",
       " 'N',\n",
       " 'N',\n",
       " 'N',\n",
       " 'N',\n",
       " 'N',\n",
       " 'N',\n",
       " 'N',\n",
       " 'N',\n",
       " 'N',\n",
       " 'N',\n",
       " 'N',\n",
       " 'N',\n",
       " 'N',\n",
       " 'N',\n",
       " 'N',\n",
       " 'N',\n",
       " 'N',\n",
       " 'N',\n",
       " 'N',\n",
       " 'N',\n",
       " 'N',\n",
       " 'N',\n",
       " 'N',\n",
       " 'N',\n",
       " 'N',\n",
       " 'N',\n",
       " 'N',\n",
       " 'N',\n",
       " 'N',\n",
       " 'N',\n",
       " 'N',\n",
       " 'N',\n",
       " 'N',\n",
       " 'N',\n",
       " 'N',\n",
       " 'N',\n",
       " 'N',\n",
       " 'N',\n",
       " 'N',\n",
       " 'N',\n",
       " 'N',\n",
       " 'N',\n",
       " 'N',\n",
       " 'N',\n",
       " 'N',\n",
       " 'N',\n",
       " 'N',\n",
       " 'N',\n",
       " 'N',\n",
       " 'N',\n",
       " 'N',\n",
       " 'N',\n",
       " 'N',\n",
       " 'N',\n",
       " 'N',\n",
       " 'N',\n",
       " 'N',\n",
       " 'N',\n",
       " 'N',\n",
       " 'N',\n",
       " 'N',\n",
       " 'N',\n",
       " 'N',\n",
       " 'N',\n",
       " 'N',\n",
       " 'N',\n",
       " 'N',\n",
       " 'N',\n",
       " 'N',\n",
       " 'N',\n",
       " 'N',\n",
       " 'N',\n",
       " 'N',\n",
       " 'N',\n",
       " 'N',\n",
       " 'N',\n",
       " 'N',\n",
       " 'N',\n",
       " 'N',\n",
       " 'N',\n",
       " 'N',\n",
       " 'N',\n",
       " 'N',\n",
       " 'N',\n",
       " 'N',\n",
       " 'N',\n",
       " 'N',\n",
       " 'N',\n",
       " 'N',\n",
       " 'N',\n",
       " 'N',\n",
       " 'N',\n",
       " 'N',\n",
       " 'N',\n",
       " 'N',\n",
       " 'N',\n",
       " 'N',\n",
       " 'N',\n",
       " 'N',\n",
       " 'N',\n",
       " 'STOP']"
      ]
     },
     "metadata": {},
     "execution_count": 111
    }
   ],
   "source": [
    "df.iloc[6500]['y']"
   ]
  },
  {
   "cell_type": "code",
   "execution_count": 65,
   "metadata": {},
   "outputs": [
    {
     "output_type": "stream",
     "name": "stdout",
     "text": [
      "N  \n N  \n  {'A': 0, 'B': 0}\n I  \n  {'A': 0, 'B': 0}\n E  \n  {'A': 0, 'B': 0}\nI  \n N  \n  {'A': 0, 'B': 0}\n I  \n  {'A': 0, 'B': 0}\n E  \n  {'A': 0, 'B': 0}\nE  \n N  \n  {'A': 0, 'B': 0}\n I  \n  {'A': 0, 'B': 0}\n E  \n  {'A': 0, 'B': 0}\n\n"
     ]
    }
   ],
   "source": [
    "class MultiDimnDict():\n",
    "    \n",
    "    def __init__(self,axes):\n",
    "        self.axes = axes\n",
    "\n",
    "        self.data = {}\n",
    "        prev = None\n",
    "\n",
    "        for i in range(len(axes)-1, -1, -1):\n",
    "            x = {}\n",
    "            for n in axes[i]:\n",
    "                if prev == None:\n",
    "                    x[n] = 0\n",
    "                else:\n",
    "                    x[n] = copy.deepcopy(prev)\n",
    "            prev = x\n",
    "            self.data = x\n",
    "\n",
    "    def __get_string(self, x,_str, depth):\n",
    "        if type(list(x.values())[0]) == type(dict()):\n",
    "            for i in x:\n",
    "                _str += self.__get_string(x[i], depth * \" \" + i + \"  \\n\", depth+1)\n",
    "                # print(_str)\n",
    "            return _str\n",
    "        else:\n",
    "            return _str + \" \" * depth +str(x) +\"\\n\"\n",
    "\n",
    "    def __str__(self):\n",
    "        string = self.__get_string(self.data, \"\", 0)\n",
    "        return string\n",
    "\n",
    "    def add_value_helper(self,lst,val, temp):\n",
    "        if len(lst) == 1:\n",
    "            temp[lst[0]] += val\n",
    "            return temp\n",
    "        try :\n",
    "            # print(lst[1:],val,temp[lst[0]])\n",
    "\n",
    "            temp[lst[0]] = self.add_value_helper(lst[1:],val,temp[lst[0]])\n",
    "            return temp\n",
    "        except:\n",
    "            return 0\n",
    "\n",
    "    def add_value(self,lst,val):\n",
    "        if len(lst) == len(self.axes):\n",
    "            return self.add_value_helper(lst,val,self.data)\n",
    "        else:\n",
    "            return 0\n",
    "    \n",
    "    \n",
    "\n",
    "x= MultiDimnDict([['N','I','E'],['N','I','E'],['A','B']])\n",
    "\n",
    "print(x)\n"
   ]
  },
  {
   "source": [
    "Cant write to dataframe since the character array turns into shit"
   ],
   "cell_type": "markdown",
   "metadata": {}
  },
  {
   "source": [
    "Steps\n",
    "\n",
    "1. Create the count matrices\n",
    "2. Use viterbi algo"
   ],
   "cell_type": "markdown",
   "metadata": {}
  },
  {
   "cell_type": "code",
   "execution_count": 120,
   "metadata": {},
   "outputs": [],
   "source": [
    "class HMM():\n",
    "    def __init__(self,data,vocab_x,vocab_y):\n",
    "        self.data = data\n",
    "        self.vocab_x = vocab_x\n",
    "        self.vocab_y = vocab_y\n",
    "\n",
    "    def calculate_emissions(self):\n",
    "        emissions = MultiDimnDict([self.vocab_y, self.vocab_x, self.vocab_x])\n",
    "        self.emissions_yi_xi = MultiDimnDict([self.vocab_y, self.vocab_x])\n",
    "        count_yi = MultiDimnDict([self.vocab_y])\n",
    "        count_yi_xi_xi1 = MultiDimnDict([self.vocab_y, self.vocab_x, self.vocab_x])\n",
    "        for i , row in self.data.iterrows():\n",
    "            x = row['x']\n",
    "            y = row['y']\n",
    "            _iter = 2\n",
    "            while _iter < len(y) - 2:\n",
    "                yi = y[_iter]\n",
    "                xi = x[_iter]\n",
    "                xi1 = x[_iter-1]\n",
    "                count_yi_xi_xi1.data[yi][xi][xi1]+=1\n",
    "                count_yi.data[yi]+=1\n",
    "                _iter += 1\n",
    "        for y in self.vocab_y:\n",
    "            for x in self.vocab_x:\n",
    "                yi_xi = 0\n",
    "                for x1 in self.vocab_x:\n",
    "                    try:\n",
    "                        emissions.data[y][x][x1] += count_yi_xi_xi1.data[y][x][x1] / count_yi.data[y]\n",
    "                    except:\n",
    "                        print(y)\n",
    "                        emissions.data[y][x][x1] = 0\n",
    "                    yi_xi += emissions.data[y][x][x1]\n",
    "                self.emissions_yi_xi.data[y][x] = yi_xi\n",
    "        self.emissions = emissions\n",
    "        return emissions\n",
    "\n",
    "\n",
    "    def calculate_transitions(self):\n",
    "        transitions = MultiDimnDict([self.vocab_y, self.vocab_y])\n",
    "        count_yi1 = MultiDimnDict([self.vocab_y])\n",
    "        count_yi1_yi = MultiDimnDict([self.vocab_y, self.vocab_y])\n",
    "        for i , row in self.data.iterrows():\n",
    "            y = row['y']\n",
    "            _iter = 0\n",
    "            while _iter < len(y) - 1:\n",
    "                yi1 = y[_iter]\n",
    "                yi = y[_iter+1]\n",
    "                try:\n",
    "                    count_yi1_yi.data[yi1][yi]+=1\n",
    "                except:\n",
    "                    print(yi1,yi)\n",
    "                    print(count_yi1_yi)\n",
    "                count_yi1.data[yi1]+=1\n",
    "                _iter += 1\n",
    "        for y in self.vocab_y:\n",
    "            for y1 in self.vocab_y:\n",
    "                try:\n",
    "                    transitions.data[y][y1] += count_yi1_yi.data[y][y1] / count_yi1.data[y]\n",
    "                except:\n",
    "                    print(y)\n",
    "                    transitions.data[y][y1] = 0\n",
    "\n",
    "        self.transitions = transitions\n",
    "        return transitions\n",
    "\n",
    "    def viterbi(self, test_x):\n",
    "        ## Final Goal: Find PI(n,v) where n is the length of y without start and stop\n",
    "        ## We wont use PI we will maximize negative log pi\n",
    "        ## Step 1: Find PI(1,v)\n",
    "        temp_y = []\n",
    "        _pi = []\n",
    "        _y = []\n",
    "        PI = []\n",
    "        k = 0\n",
    "        x = test_x[k]\n",
    "        for y in self.vocab_y:\n",
    "            a = self.emissions_yi_xi.data[y][x]\n",
    "            b = self.transitions.data['START'][y]\n",
    "\n",
    "\n",
    "            nlog_a = sys.maxsize \n",
    "            nlog_b = sys.maxsize \n",
    "            if a > pow(10,-7):\n",
    "                nlog_a = -1 * math.log(a)\n",
    "            if b > pow(10,-7):\n",
    "                nlog_b = -1 * math.log(b)\n",
    "            _pi.append(nlog_a + nlog_b)\n",
    "            _y.append(y)\n",
    "            \n",
    "        min_pi = min(_pi)\n",
    "        min_y = _y[_pi.index(min_pi)]\n",
    "\n",
    "        yi1 = min_y\n",
    "        PI.append(min_pi)\n",
    "        temp_y.append(yi1)\n",
    "\n",
    "        print(\"Done 1 \", _pi)\n",
    "\n",
    "        k = 1\n",
    "        while k < len(test_x):\n",
    "            x = test_x[k]\n",
    "            xi = test_x[k-1]\n",
    "            _pi = []\n",
    "            _y = []\n",
    "            for y in self.vocab_y:\n",
    "                a = self.emissions.data[y][x][xi]\n",
    "                b = self.transitions.data[yi1][y]\n",
    "\n",
    "                nlog_a = sys.maxsize \n",
    "                nlog_b = sys.maxsize \n",
    "                if a > pow(10,-7):\n",
    "                    nlog_a = -1 * math.log(a)\n",
    "                if b > pow(10,-7):\n",
    "                    nlog_b = -1 * math.log(b)\n",
    "                \n",
    "                _pi.append(nlog_a + nlog_b + PI[-1])\n",
    "\n",
    "                _y.append(y)\n",
    "                \n",
    "\n",
    "            min_pi = min(_pi)\n",
    "            min_y = _y[_pi.index(min_pi)]\n",
    "\n",
    "            yi1 = min_y\n",
    "            PI.append(min_pi)\n",
    "            temp_y.append(yi1)\n",
    "            k += 1 \n",
    "\n",
    "            if k % 100000 == 0:\n",
    "                print(\"k = \",k,\"    pi = \",PI[-5:])\n",
    "        \n",
    "        y_star = 'STOP'\n",
    "        final_Y = []\n",
    "        final_Y.append(y_star)\n",
    "\n",
    "\n",
    "        for _PI in PI[::-1]:\n",
    "            _pi = []\n",
    "            _y = []\n",
    "            for y in self.vocab_y:\n",
    "                transition = sys.maxsize\n",
    "                a = self.transitions.data[y][y_star]\n",
    "                if a > pow(10,-7):\n",
    "                    transition = math.log(a) * -1\n",
    "                _pi.append(_PI + transition)\n",
    "                _y.append(y)\n",
    "\n",
    "            min_pi = min(_pi)\n",
    "            final_y = _y[_pi.index(min_pi)]\n",
    "\n",
    "            final_Y.append(final_y)\n",
    "            y_star = final_y\n",
    "\n",
    "        final_Y.append('START')\n",
    "        return final_Y[::-1],temp_y"
   ]
  },
  {
   "cell_type": "code",
   "execution_count": 124,
   "metadata": {},
   "outputs": [],
   "source": [
    "hmm = HMM(df, set(temp.iloc[0]['x']), set(temp.iloc[0]['y'] + ['START','STOP']))"
   ]
  },
  {
   "cell_type": "code",
   "execution_count": 125,
   "metadata": {
    "tags": []
   },
   "outputs": [
    {
     "output_type": "stream",
     "name": "stdout",
     "text": [
      "START\nSTART\nSTART\nSTART\nSTART\nSTART\nSTART\nSTART\nSTART\nSTART\nSTART\nSTART\nSTART\nSTART\nSTART\nSTART\nSTART\nSTART\nSTART\nSTART\nSTART\nSTART\nSTART\nSTART\nSTART\nSTOP\nSTOP\nSTOP\nSTOP\nSTOP\nSTOP\nSTOP\nSTOP\nSTOP\nSTOP\nSTOP\nSTOP\nSTOP\nSTOP\nSTOP\nSTOP\nSTOP\nSTOP\nSTOP\nSTOP\nSTOP\nSTOP\nSTOP\nSTOP\nSTOP\n1.3960335369920358\n"
     ]
    }
   ],
   "source": [
    "start = timer()\n",
    "hmm.calculate_emissions()\n",
    "stop = timer()\n",
    "print(stop-start)"
   ]
  },
  {
   "cell_type": "code",
   "execution_count": 126,
   "metadata": {},
   "outputs": [
    {
     "output_type": "stream",
     "name": "stdout",
     "text": [
      "STOP\nSTOP\nSTOP\nSTOP\nSTOP\n1.2460597809986211\n"
     ]
    }
   ],
   "source": [
    "start = timer()\n",
    "hmm.calculate_transitions()\n",
    "stop = timer()\n",
    "print(stop-start)"
   ]
  },
  {
   "cell_type": "code",
   "execution_count": 127,
   "metadata": {},
   "outputs": [
    {
     "output_type": "stream",
     "name": "stdout",
     "text": [
      "N  \n {'N': 0.989996761607527, 'I': 0.0, 'E': 4.586958177032733e-06, 'START': 0.0, 'STOP': 0.009998651434295952}\nI  \n {'N': 0.0, 'I': 0.9894096596110633, 'E': 0.0005687019724248898, 'START': 0.0, 'STOP': 0.010021638416511776}\nE  \n {'N': 0.00013345789403443215, 'I': 0.0022154010409715734, 'E': 0.9876951821700254, 'START': 0.0, 'STOP': 0.009955958894968638}\nSTART  \n {'N': 0.8570417551309271, 'I': 0.11354879295431312, 'E': 0.02940945191475977, 'START': 0.0, 'STOP': 0.0}\nSTOP  \n {'N': 0, 'I': 0, 'E': 0, 'START': 0, 'STOP': 0}\n\n"
     ]
    }
   ],
   "source": [
    "print(hmm.transitions)"
   ]
  },
  {
   "cell_type": "code",
   "execution_count": 128,
   "metadata": {},
   "outputs": [
    {
     "output_type": "stream",
     "name": "stdout",
     "text": [
      "N  \n G  \n  {'G': 0.031661157651446434, 'N': 0.0, 'A': 0.04892585904597149, 'C': 0.03037774900795601, 'T': 0.058933825353452235}\n N  \n  {'G': 0.0, 'N': 0.015594678768714036, 'A': 9.361113373380177e-07, 'C': 0.0, 'T': 0.0}\n A  \n  {'G': 0.05064455946132409, 'N': 9.361113373380177e-07, 'A': 0.12019856793687614, 'C': 0.05926333654419522, 'T': 0.09191115554519592}\n C  \n  {'G': 0.03577536697904702, 'N': 0.0, 'A': 0.05240070433017021, 'C': 0.032043091077080345, 'T': 0.05100402621486189}\n T  \n  {'G': 0.05173138472397353, 'N': 0.0, 'A': 0.10048125483852548, 'C': 0.049503439741109045, 'T': 0.11954797055742622}\nI  \n G  \n  {'G': 0.032144601164905626, 'N': 0.0, 'A': 0.05075053609721229, 'C': 0.02949065456938832, 'T': 0.05854960049257249}\n N  \n  {'G': 0.0, 'N': 0.0, 'A': 0.0, 'C': 0.0, 'T': 0.0}\n A  \n  {'G': 0.050156052059816415, 'N': 0.0, 'A': 0.12540782312684448, 'C': 0.05715539388106073, 'T': 0.09785631886991415}\n C  \n  {'G': 0.03528687393399812, 'N': 0.0, 'A': 0.052604760118613716, 'C': 0.030467306916538688, 'T': 0.048691073539090864}\n T  \n  {'G': 0.053284170447066154, 'N': 0.0, 'A': 0.10167092477653769, 'C': 0.049688957459005374, 'T': 0.12679495254743486}\nE  \n G  \n  {'G': 0.04635328721607931, 'N': 0.0, 'A': 0.05076529222724549, 'C': 0.04199575140258184, 'T': 0.07674709951522414}\n N  \n  {'G': 0.0, 'N': 0.0, 'A': 0.0, 'C': 0.0, 'T': 0.0}\n A  \n  {'G': 0.055694754616264504, 'N': 0.0, 'A': 0.07342447845743232, 'C': 0.06451876463859688, 'T': 0.06073315540062095}\n C  \n  {'G': 0.053978974889699875, 'N': 0.0, 'A': 0.04880440111117163, 'C': 0.04719755977994444, 'T': 0.06560814859197124}\n T  \n  {'G': 0.060433574813443, 'N': 0.0, 'A': 0.0813769813170652, 'C': 0.06340214608638815, 'T': 0.10896562993627104}\nSTART  \n G  \n  {'G': 0, 'N': 0, 'A': 0, 'C': 0, 'T': 0}\n N  \n  {'G': 0, 'N': 0, 'A': 0, 'C': 0, 'T': 0}\n A  \n  {'G': 0, 'N': 0, 'A': 0, 'C': 0, 'T': 0}\n C  \n  {'G': 0, 'N': 0, 'A': 0, 'C': 0, 'T': 0}\n T  \n  {'G': 0, 'N': 0, 'A': 0, 'C': 0, 'T': 0}\nSTOP  \n G  \n  {'G': 0, 'N': 0, 'A': 0, 'C': 0, 'T': 0}\n N  \n  {'G': 0, 'N': 0, 'A': 0, 'C': 0, 'T': 0}\n A  \n  {'G': 0, 'N': 0, 'A': 0, 'C': 0, 'T': 0}\n C  \n  {'G': 0, 'N': 0, 'A': 0, 'C': 0, 'T': 0}\n T  \n  {'G': 0, 'N': 0, 'A': 0, 'C': 0, 'T': 0}\n\n"
     ]
    }
   ],
   "source": [
    "print(hmm.emissions)"
   ]
  },
  {
   "cell_type": "code",
   "execution_count": 129,
   "metadata": {
    "tags": []
   },
   "outputs": [
    {
     "output_type": "stream",
     "name": "stdout",
     "text": [
      "Done 1  [1.2897605478845067, 3.279834123143049, 4.684233680101636, 18446744073709551614, 18446744073709551614]\n",
      "k =  100000     pi =  [267954.6415362852, 267956.9493739801, 267959.3463604562, 267961.6541981511, 267964.05118462717]\n",
      "k =  200000     pi =  [536708.6887466949, 536711.6604909289, 536714.5018846046, 536717.49486168, 536719.8026993748]\n",
      "k =  300000     pi =  [804905.8336743325, 804907.9677655003, 804910.3647519763, 804912.6725896712, 804915.5139833469]\n",
      "k =  400000     pi =  [1074866.3232219599, 1074869.3161990354, 1074871.4448628132, 1074874.4037516664, 1074877.8544789592]\n",
      "k =  500000     pi =  [1345309.899159626, 1345312.033250794, 1345314.167341962, 1345316.5643284381, 1345318.872166133]\n",
      "k =  600000     pi =  [1617866.7304760974, 1617869.5662941393, 1617871.8741318341, 1617874.8600361452, 1617877.8758028743]\n",
      "k =  700000     pi =  [1888930.245078676, 1888932.3791698439, 1888934.5132610118, 1888936.6473521797, 1888939.044338656]\n",
      "k =  800000     pi =  [2162498.9811460604, 2162501.940034914, 2162505.3907622066, 2162508.406528936, 2162510.803515412]\n",
      "k =  900000     pi =  [2433121.7941136416, 2433124.1911001178, 2433127.218602932, 2433130.1903471663, 2433132.5873336424]\n",
      "k =  1000000     pi =  [2703690.405762996, 2703693.4332658104, 2703696.8959840774, 2703700.23653338, 2703703.7406318663]\n",
      "k =  1100000     pi =  [2973004.8209280935, 2973007.6567461356, 2973009.7854099134, 2973011.9140736912, 2973014.042737469]\n",
      "k =  1200000     pi =  [3240989.4565353044, 3240991.590626472, 3240993.9876129483, 3240996.295450643, 3240998.6924371193]\n",
      "11.796574355990742\n"
     ]
    }
   ],
   "source": [
    "start = timer()\n",
    "y_pred,temp_y = hmm.viterbi(temp.iloc[4]['x'])\n",
    "stop = timer()\n",
    "print(stop-start)"
   ]
  },
  {
   "cell_type": "code",
   "execution_count": 130,
   "metadata": {},
   "outputs": [
    {
     "output_type": "stream",
     "name": "stdout",
     "text": [
      "1271728 \n 1271726\nSTOP N\n"
     ]
    }
   ],
   "source": [
    "print(len(y_pred),'\\n',len(temp.iloc[4]['y']))\n",
    "print(y_pred[-1], temp.iloc[4]['y'][-1])"
   ]
  },
  {
   "cell_type": "code",
   "execution_count": 131,
   "metadata": {},
   "outputs": [
    {
     "output_type": "stream",
     "name": "stdout",
     "text": [
      "0.11338116326761698\n"
     ]
    }
   ],
   "source": [
    "count = 0\n",
    "g = ['START'] + temp.iloc[4]['y'] + ['STOP']\n",
    "for i in range(len(y_pred)):\n",
    "    if y_pred[i] == g[i]:\n",
    "        count += 1\n",
    "print(count/len(y_pred))"
   ]
  },
  {
   "cell_type": "code",
   "execution_count": 132,
   "metadata": {},
   "outputs": [
    {
     "output_type": "stream",
     "name": "stdout",
     "text": [
      "{'STOP', 'I', 'START'}\n{'N', 'I', 'E', 'START', 'STOP'}\n{'N'}\n[1090073, 144188, 37465, 1, 1]\n[1271726]\n[1271726]\n"
     ]
    }
   ],
   "source": [
    "print(set(y_pred))\n",
    "print(set(g))\n",
    "print(set(temp_y))\n",
    "print([g.count(i) for i in set(g)])\n",
    "print([temp_y.count(i) for i in set(temp_y)])\n",
    "print([temp_y.count(i) for i in set(temp_y)])"
   ]
  },
  {
   "cell_type": "code",
   "execution_count": 84,
   "metadata": {},
   "outputs": [
    {
     "output_type": "execute_result",
     "data": {
      "text/plain": [
       "['N',\n",
       " 'N',\n",
       " 'N',\n",
       " 'N',\n",
       " 'N',\n",
       " 'N',\n",
       " 'N',\n",
       " 'N',\n",
       " 'N',\n",
       " 'N',\n",
       " 'N',\n",
       " 'N',\n",
       " 'N',\n",
       " 'N',\n",
       " 'N',\n",
       " 'N',\n",
       " 'N',\n",
       " 'N',\n",
       " 'N',\n",
       " 'N',\n",
       " 'N',\n",
       " 'N',\n",
       " 'N',\n",
       " 'N',\n",
       " 'N',\n",
       " 'N',\n",
       " 'N',\n",
       " 'N',\n",
       " 'N',\n",
       " 'N',\n",
       " 'N',\n",
       " 'N',\n",
       " 'N',\n",
       " 'N',\n",
       " 'N',\n",
       " 'N',\n",
       " 'N',\n",
       " 'N',\n",
       " 'N',\n",
       " 'N',\n",
       " 'N',\n",
       " 'N',\n",
       " 'N',\n",
       " 'N',\n",
       " 'N',\n",
       " 'N',\n",
       " 'N',\n",
       " 'N',\n",
       " 'N',\n",
       " 'N',\n",
       " 'N',\n",
       " 'N',\n",
       " 'N',\n",
       " 'N',\n",
       " 'N',\n",
       " 'N',\n",
       " 'N',\n",
       " 'N',\n",
       " 'N',\n",
       " 'N',\n",
       " 'N',\n",
       " 'N',\n",
       " 'N',\n",
       " 'N',\n",
       " 'N',\n",
       " 'N',\n",
       " 'N',\n",
       " 'N',\n",
       " 'N',\n",
       " 'N',\n",
       " 'N',\n",
       " 'N',\n",
       " 'N',\n",
       " 'N',\n",
       " 'N',\n",
       " 'N',\n",
       " 'N',\n",
       " 'N',\n",
       " 'N',\n",
       " 'N',\n",
       " 'N',\n",
       " 'N',\n",
       " 'N',\n",
       " 'N',\n",
       " 'N',\n",
       " 'N',\n",
       " 'N',\n",
       " 'N',\n",
       " 'N',\n",
       " 'N',\n",
       " 'N',\n",
       " 'N',\n",
       " 'N',\n",
       " 'N',\n",
       " 'N',\n",
       " 'N',\n",
       " 'N',\n",
       " 'N',\n",
       " 'N',\n",
       " 'N',\n",
       " 'N',\n",
       " 'N',\n",
       " 'N',\n",
       " 'N',\n",
       " 'N',\n",
       " 'N',\n",
       " 'N',\n",
       " 'N',\n",
       " 'N',\n",
       " 'N',\n",
       " 'N',\n",
       " 'N',\n",
       " 'N',\n",
       " 'N',\n",
       " 'N',\n",
       " 'N',\n",
       " 'N',\n",
       " 'N',\n",
       " 'N',\n",
       " 'N',\n",
       " 'N',\n",
       " 'N',\n",
       " 'N',\n",
       " 'N',\n",
       " 'N',\n",
       " 'N',\n",
       " 'N',\n",
       " 'N',\n",
       " 'N',\n",
       " 'N',\n",
       " 'N',\n",
       " 'N',\n",
       " 'N',\n",
       " 'N',\n",
       " 'N',\n",
       " 'N',\n",
       " 'N',\n",
       " 'N',\n",
       " 'N',\n",
       " 'N',\n",
       " 'N',\n",
       " 'N',\n",
       " 'N',\n",
       " 'N',\n",
       " 'N',\n",
       " 'N',\n",
       " 'N',\n",
       " 'N',\n",
       " 'N',\n",
       " 'N',\n",
       " 'N',\n",
       " 'N',\n",
       " 'N',\n",
       " 'N',\n",
       " 'N',\n",
       " 'N',\n",
       " 'N',\n",
       " 'N',\n",
       " 'N',\n",
       " 'N',\n",
       " 'N',\n",
       " 'N',\n",
       " 'N',\n",
       " 'N',\n",
       " 'N',\n",
       " 'N',\n",
       " 'N',\n",
       " 'N',\n",
       " 'N',\n",
       " 'N',\n",
       " 'N',\n",
       " 'N',\n",
       " 'N',\n",
       " 'N',\n",
       " 'N',\n",
       " 'N',\n",
       " 'N',\n",
       " 'N',\n",
       " 'N',\n",
       " 'N',\n",
       " 'N',\n",
       " 'N',\n",
       " 'N',\n",
       " 'N',\n",
       " 'N',\n",
       " 'N',\n",
       " 'N',\n",
       " 'N',\n",
       " 'N',\n",
       " 'N',\n",
       " 'N',\n",
       " 'N',\n",
       " 'N',\n",
       " 'N',\n",
       " 'N',\n",
       " 'N',\n",
       " 'N',\n",
       " 'N',\n",
       " 'N',\n",
       " 'N',\n",
       " 'N',\n",
       " 'N',\n",
       " 'N',\n",
       " 'N',\n",
       " 'N',\n",
       " 'N',\n",
       " 'N',\n",
       " 'N',\n",
       " 'N',\n",
       " 'N',\n",
       " 'N',\n",
       " 'N',\n",
       " 'N',\n",
       " 'N',\n",
       " 'N',\n",
       " 'N',\n",
       " 'N',\n",
       " 'N',\n",
       " 'N',\n",
       " 'N',\n",
       " 'N',\n",
       " 'N',\n",
       " 'N',\n",
       " 'N',\n",
       " 'N',\n",
       " 'N',\n",
       " 'N',\n",
       " 'N',\n",
       " 'N',\n",
       " 'N',\n",
       " 'N',\n",
       " 'N',\n",
       " 'N',\n",
       " 'N',\n",
       " 'N',\n",
       " 'N',\n",
       " 'N',\n",
       " 'N',\n",
       " 'N',\n",
       " 'N',\n",
       " 'N',\n",
       " 'N',\n",
       " 'N',\n",
       " 'N',\n",
       " 'N',\n",
       " 'N',\n",
       " 'N',\n",
       " 'N',\n",
       " 'N',\n",
       " 'N',\n",
       " 'N',\n",
       " 'N',\n",
       " 'N',\n",
       " 'N',\n",
       " 'N',\n",
       " 'N',\n",
       " 'N',\n",
       " 'N',\n",
       " 'N',\n",
       " 'N',\n",
       " 'N',\n",
       " 'N',\n",
       " 'N',\n",
       " 'N',\n",
       " 'N',\n",
       " 'N',\n",
       " 'N',\n",
       " 'N',\n",
       " 'N',\n",
       " 'N',\n",
       " 'N',\n",
       " 'N',\n",
       " 'N',\n",
       " 'N',\n",
       " 'N',\n",
       " 'N',\n",
       " 'N',\n",
       " 'N',\n",
       " 'N',\n",
       " 'N',\n",
       " 'N',\n",
       " 'N',\n",
       " 'N',\n",
       " 'N',\n",
       " 'N',\n",
       " 'N',\n",
       " 'N',\n",
       " 'N',\n",
       " 'N',\n",
       " 'N',\n",
       " 'N',\n",
       " 'N',\n",
       " 'N',\n",
       " 'N',\n",
       " 'N',\n",
       " 'N',\n",
       " 'N',\n",
       " 'N',\n",
       " 'N',\n",
       " 'N',\n",
       " 'N',\n",
       " 'N',\n",
       " 'N',\n",
       " 'N',\n",
       " 'N',\n",
       " 'N',\n",
       " 'N',\n",
       " 'N',\n",
       " 'N',\n",
       " 'N',\n",
       " 'N',\n",
       " 'N',\n",
       " 'N',\n",
       " 'N',\n",
       " 'N',\n",
       " 'N',\n",
       " 'N',\n",
       " 'N',\n",
       " 'N',\n",
       " 'N',\n",
       " 'N',\n",
       " 'N',\n",
       " 'N',\n",
       " 'N',\n",
       " 'N',\n",
       " 'N',\n",
       " 'N',\n",
       " 'N',\n",
       " 'N',\n",
       " 'N',\n",
       " 'N',\n",
       " 'N',\n",
       " 'N',\n",
       " 'N',\n",
       " 'N',\n",
       " 'N',\n",
       " 'N',\n",
       " 'N',\n",
       " 'N',\n",
       " 'N',\n",
       " 'N',\n",
       " 'N',\n",
       " 'N',\n",
       " 'N',\n",
       " 'N',\n",
       " 'N',\n",
       " 'N',\n",
       " 'N',\n",
       " 'N',\n",
       " 'N',\n",
       " 'N',\n",
       " 'N',\n",
       " 'N',\n",
       " 'N',\n",
       " 'N',\n",
       " 'N',\n",
       " 'N',\n",
       " 'N',\n",
       " 'N',\n",
       " 'N',\n",
       " 'N',\n",
       " 'N',\n",
       " 'N',\n",
       " 'N',\n",
       " 'N',\n",
       " 'N',\n",
       " 'N',\n",
       " 'N',\n",
       " 'N',\n",
       " 'N',\n",
       " 'N',\n",
       " 'N',\n",
       " 'N',\n",
       " 'N',\n",
       " 'N',\n",
       " 'N',\n",
       " 'N',\n",
       " 'N',\n",
       " 'N',\n",
       " 'N',\n",
       " 'N',\n",
       " 'N',\n",
       " 'N',\n",
       " 'N',\n",
       " 'N',\n",
       " 'N',\n",
       " 'N',\n",
       " 'N',\n",
       " 'N',\n",
       " 'N',\n",
       " 'N',\n",
       " 'N',\n",
       " 'N',\n",
       " 'N',\n",
       " 'N',\n",
       " 'N',\n",
       " 'N',\n",
       " 'N',\n",
       " 'N',\n",
       " 'N',\n",
       " 'N',\n",
       " 'N',\n",
       " 'N',\n",
       " 'N',\n",
       " 'N',\n",
       " 'N',\n",
       " 'N',\n",
       " 'N',\n",
       " 'N',\n",
       " 'N',\n",
       " 'N',\n",
       " 'N',\n",
       " 'N',\n",
       " 'N',\n",
       " 'N',\n",
       " 'N',\n",
       " 'N',\n",
       " 'N',\n",
       " 'N',\n",
       " 'N',\n",
       " 'N',\n",
       " 'N',\n",
       " 'N',\n",
       " 'N',\n",
       " 'N',\n",
       " 'N',\n",
       " 'N',\n",
       " 'N',\n",
       " 'N',\n",
       " 'N',\n",
       " 'N',\n",
       " 'N',\n",
       " 'N',\n",
       " 'N',\n",
       " 'N',\n",
       " 'N',\n",
       " 'N',\n",
       " 'N',\n",
       " 'N',\n",
       " 'N',\n",
       " 'N',\n",
       " 'N',\n",
       " 'N',\n",
       " 'N',\n",
       " 'N',\n",
       " 'N',\n",
       " 'N',\n",
       " 'N',\n",
       " 'N',\n",
       " 'N',\n",
       " 'N',\n",
       " 'N',\n",
       " 'N',\n",
       " 'N',\n",
       " 'N',\n",
       " 'N',\n",
       " 'N',\n",
       " 'N',\n",
       " 'N',\n",
       " 'N',\n",
       " 'N',\n",
       " 'N',\n",
       " 'N',\n",
       " 'N',\n",
       " 'N',\n",
       " 'N',\n",
       " 'N',\n",
       " 'N',\n",
       " 'N',\n",
       " 'N',\n",
       " 'N',\n",
       " 'N',\n",
       " 'N',\n",
       " 'N',\n",
       " 'N',\n",
       " 'N',\n",
       " 'N',\n",
       " 'N',\n",
       " 'N',\n",
       " 'N',\n",
       " 'N',\n",
       " 'N',\n",
       " 'N',\n",
       " 'N',\n",
       " 'N',\n",
       " 'N',\n",
       " 'N',\n",
       " 'N',\n",
       " 'N',\n",
       " 'N',\n",
       " 'N',\n",
       " 'N',\n",
       " 'N',\n",
       " 'N',\n",
       " 'N',\n",
       " 'N',\n",
       " 'N',\n",
       " 'N',\n",
       " 'N',\n",
       " 'N',\n",
       " 'N',\n",
       " 'N',\n",
       " 'N',\n",
       " 'N',\n",
       " 'N',\n",
       " 'N',\n",
       " 'N',\n",
       " 'N',\n",
       " 'N',\n",
       " 'N',\n",
       " 'N',\n",
       " 'N',\n",
       " 'N',\n",
       " 'N',\n",
       " 'N',\n",
       " 'N',\n",
       " 'N',\n",
       " 'N',\n",
       " 'N',\n",
       " 'N',\n",
       " 'N',\n",
       " 'N',\n",
       " 'N',\n",
       " 'N',\n",
       " 'N',\n",
       " 'N',\n",
       " 'N',\n",
       " 'N',\n",
       " 'N',\n",
       " 'N',\n",
       " 'N',\n",
       " 'N',\n",
       " 'N',\n",
       " 'N',\n",
       " 'N',\n",
       " 'N',\n",
       " 'N',\n",
       " 'N',\n",
       " 'N',\n",
       " 'N',\n",
       " 'N',\n",
       " 'N',\n",
       " 'N',\n",
       " 'N',\n",
       " 'N',\n",
       " 'N',\n",
       " 'N',\n",
       " 'N',\n",
       " 'N',\n",
       " 'N',\n",
       " 'N',\n",
       " 'N',\n",
       " 'N',\n",
       " 'N',\n",
       " 'N',\n",
       " 'N',\n",
       " 'N',\n",
       " 'N',\n",
       " 'N',\n",
       " 'N',\n",
       " 'N',\n",
       " 'N',\n",
       " 'N',\n",
       " 'N',\n",
       " 'N',\n",
       " 'N',\n",
       " 'N',\n",
       " 'N',\n",
       " 'N',\n",
       " 'N',\n",
       " 'N',\n",
       " 'N',\n",
       " 'N',\n",
       " 'N',\n",
       " 'N',\n",
       " 'N',\n",
       " 'N',\n",
       " 'N',\n",
       " 'N',\n",
       " 'N',\n",
       " 'N',\n",
       " 'N',\n",
       " 'N',\n",
       " 'N',\n",
       " 'N',\n",
       " 'N',\n",
       " 'N',\n",
       " 'N',\n",
       " 'N',\n",
       " 'N',\n",
       " 'N',\n",
       " 'N',\n",
       " 'N',\n",
       " 'N',\n",
       " 'N',\n",
       " 'N',\n",
       " 'N',\n",
       " 'N',\n",
       " 'N',\n",
       " 'N',\n",
       " 'N',\n",
       " 'N',\n",
       " 'N',\n",
       " 'N',\n",
       " 'N',\n",
       " 'N',\n",
       " 'N',\n",
       " 'N',\n",
       " 'N',\n",
       " 'N',\n",
       " 'N',\n",
       " 'N',\n",
       " 'N',\n",
       " 'N',\n",
       " 'N',\n",
       " 'N',\n",
       " 'N',\n",
       " 'N',\n",
       " 'N',\n",
       " 'N',\n",
       " 'N',\n",
       " 'N',\n",
       " 'N',\n",
       " 'N',\n",
       " 'N',\n",
       " 'N',\n",
       " 'N',\n",
       " 'N',\n",
       " 'N',\n",
       " 'N',\n",
       " 'N',\n",
       " 'N',\n",
       " 'N',\n",
       " 'N',\n",
       " 'N',\n",
       " 'N',\n",
       " 'N',\n",
       " 'N',\n",
       " 'N',\n",
       " 'N',\n",
       " 'N',\n",
       " 'N',\n",
       " 'N',\n",
       " 'N',\n",
       " 'N',\n",
       " 'N',\n",
       " 'N',\n",
       " 'N',\n",
       " 'N',\n",
       " 'N',\n",
       " 'N',\n",
       " 'N',\n",
       " 'N',\n",
       " 'N',\n",
       " 'N',\n",
       " 'N',\n",
       " 'N',\n",
       " 'N',\n",
       " 'N',\n",
       " 'N',\n",
       " 'N',\n",
       " 'N',\n",
       " 'N',\n",
       " 'N',\n",
       " 'N',\n",
       " 'N',\n",
       " 'N',\n",
       " 'N',\n",
       " 'N',\n",
       " 'N',\n",
       " 'N',\n",
       " 'N',\n",
       " 'N',\n",
       " 'N',\n",
       " 'N',\n",
       " 'N',\n",
       " 'N',\n",
       " 'N',\n",
       " 'N',\n",
       " 'N',\n",
       " 'N',\n",
       " 'N',\n",
       " 'N',\n",
       " 'N',\n",
       " 'N',\n",
       " 'N',\n",
       " 'N',\n",
       " 'N',\n",
       " 'N',\n",
       " 'N',\n",
       " 'N',\n",
       " 'N',\n",
       " 'N',\n",
       " 'N',\n",
       " 'N',\n",
       " 'N',\n",
       " 'N',\n",
       " 'N',\n",
       " 'N',\n",
       " 'N',\n",
       " 'N',\n",
       " 'N',\n",
       " 'N',\n",
       " 'N',\n",
       " 'N',\n",
       " 'N',\n",
       " 'N',\n",
       " 'N',\n",
       " 'N',\n",
       " 'N',\n",
       " 'N',\n",
       " 'N',\n",
       " 'N',\n",
       " 'N',\n",
       " 'N',\n",
       " 'N',\n",
       " 'N',\n",
       " 'N',\n",
       " 'N',\n",
       " 'N',\n",
       " 'N',\n",
       " 'N',\n",
       " 'N',\n",
       " 'N',\n",
       " 'N',\n",
       " 'N',\n",
       " 'N',\n",
       " 'N',\n",
       " 'N',\n",
       " 'N',\n",
       " 'N',\n",
       " 'N',\n",
       " 'N',\n",
       " 'N',\n",
       " 'N',\n",
       " 'N',\n",
       " 'N',\n",
       " 'N',\n",
       " 'N',\n",
       " 'N',\n",
       " 'N',\n",
       " 'N',\n",
       " 'N',\n",
       " 'N',\n",
       " 'N',\n",
       " 'N',\n",
       " 'N',\n",
       " 'N',\n",
       " 'N',\n",
       " 'N',\n",
       " 'N',\n",
       " 'N',\n",
       " 'N',\n",
       " 'N',\n",
       " 'N',\n",
       " 'N',\n",
       " 'N',\n",
       " 'N',\n",
       " 'N',\n",
       " 'N',\n",
       " 'N',\n",
       " 'N',\n",
       " 'N',\n",
       " 'N',\n",
       " 'N',\n",
       " 'N',\n",
       " 'N',\n",
       " 'N',\n",
       " 'N',\n",
       " 'N',\n",
       " 'N',\n",
       " 'N',\n",
       " 'N',\n",
       " 'N',\n",
       " 'N',\n",
       " 'N',\n",
       " 'N',\n",
       " 'N',\n",
       " 'N',\n",
       " 'N',\n",
       " 'N',\n",
       " 'N',\n",
       " 'N',\n",
       " 'N',\n",
       " 'N',\n",
       " 'N',\n",
       " 'N',\n",
       " 'N',\n",
       " 'N',\n",
       " 'N',\n",
       " 'N',\n",
       " 'N',\n",
       " 'N',\n",
       " 'N',\n",
       " 'N',\n",
       " 'N',\n",
       " 'N',\n",
       " 'N',\n",
       " 'N',\n",
       " 'N',\n",
       " 'N',\n",
       " 'N',\n",
       " 'N',\n",
       " 'N',\n",
       " 'N',\n",
       " 'N',\n",
       " 'N',\n",
       " 'N',\n",
       " 'N',\n",
       " 'N',\n",
       " 'N',\n",
       " 'N',\n",
       " 'N',\n",
       " 'N',\n",
       " 'N',\n",
       " 'N',\n",
       " 'N',\n",
       " 'N',\n",
       " 'N',\n",
       " 'N',\n",
       " 'N',\n",
       " 'N',\n",
       " 'N',\n",
       " 'N',\n",
       " 'N',\n",
       " 'N',\n",
       " 'N',\n",
       " 'N',\n",
       " 'N',\n",
       " 'N',\n",
       " 'N',\n",
       " 'N',\n",
       " 'N',\n",
       " 'N',\n",
       " 'N',\n",
       " 'N',\n",
       " 'N',\n",
       " 'N',\n",
       " 'N',\n",
       " 'N',\n",
       " 'N',\n",
       " 'N',\n",
       " 'N',\n",
       " 'N',\n",
       " 'N',\n",
       " 'N',\n",
       " 'N',\n",
       " 'N',\n",
       " 'N',\n",
       " 'N',\n",
       " 'N',\n",
       " 'N',\n",
       " 'N',\n",
       " 'N',\n",
       " 'N',\n",
       " 'N',\n",
       " 'N',\n",
       " 'N',\n",
       " 'N',\n",
       " 'N',\n",
       " 'N',\n",
       " 'N',\n",
       " 'N',\n",
       " 'N',\n",
       " 'N',\n",
       " 'N',\n",
       " 'N',\n",
       " 'N',\n",
       " 'N',\n",
       " 'N',\n",
       " 'N',\n",
       " 'N',\n",
       " 'N',\n",
       " 'N',\n",
       " 'N',\n",
       " 'N',\n",
       " 'N',\n",
       " 'N',\n",
       " 'N',\n",
       " 'N',\n",
       " 'N',\n",
       " 'N',\n",
       " 'N',\n",
       " 'N',\n",
       " 'N',\n",
       " 'N',\n",
       " 'N',\n",
       " 'N',\n",
       " 'N',\n",
       " 'N',\n",
       " 'N',\n",
       " 'N',\n",
       " 'N',\n",
       " 'N',\n",
       " 'N',\n",
       " 'N',\n",
       " 'N',\n",
       " 'N',\n",
       " 'N',\n",
       " 'N',\n",
       " 'N',\n",
       " 'N',\n",
       " 'N',\n",
       " 'N',\n",
       " 'N',\n",
       " 'N',\n",
       " 'N',\n",
       " 'N',\n",
       " 'N',\n",
       " 'N',\n",
       " 'N',\n",
       " 'N',\n",
       " 'N',\n",
       " 'N',\n",
       " 'N',\n",
       " 'N',\n",
       " 'N',\n",
       " 'N',\n",
       " 'N',\n",
       " 'N',\n",
       " 'N',\n",
       " 'N',\n",
       " 'N',\n",
       " 'N',\n",
       " 'N',\n",
       " 'N',\n",
       " 'N',\n",
       " 'N',\n",
       " 'N',\n",
       " 'N',\n",
       " 'N',\n",
       " 'N',\n",
       " 'N',\n",
       " 'N',\n",
       " 'N',\n",
       " 'N',\n",
       " 'N',\n",
       " 'N',\n",
       " 'N',\n",
       " 'N',\n",
       " 'N',\n",
       " 'N',\n",
       " 'N',\n",
       " 'N',\n",
       " 'N',\n",
       " 'N',\n",
       " 'N',\n",
       " 'N',\n",
       " 'N',\n",
       " 'N',\n",
       " 'N',\n",
       " 'N',\n",
       " 'N',\n",
       " 'N',\n",
       " 'N',\n",
       " 'N',\n",
       " 'N',\n",
       " 'N',\n",
       " 'N',\n",
       " 'N',\n",
       " 'N',\n",
       " 'N',\n",
       " 'N',\n",
       " 'N',\n",
       " 'N',\n",
       " 'N',\n",
       " 'N',\n",
       " 'N',\n",
       " 'N',\n",
       " 'N',\n",
       " 'N',\n",
       " 'N',\n",
       " 'N',\n",
       " 'N',\n",
       " 'N',\n",
       " 'N',\n",
       " 'N',\n",
       " 'N',\n",
       " 'N',\n",
       " 'N',\n",
       " 'N',\n",
       " 'N',\n",
       " 'N',\n",
       " 'N',\n",
       " 'N',\n",
       " 'N',\n",
       " 'N',\n",
       " 'N',\n",
       " 'N',\n",
       " 'N',\n",
       " 'N',\n",
       " 'N',\n",
       " 'N',\n",
       " 'N',\n",
       " 'N',\n",
       " 'N',\n",
       " 'N',\n",
       " 'N',\n",
       " 'N',\n",
       " 'N',\n",
       " ...]"
      ]
     },
     "metadata": {},
     "execution_count": 84
    }
   ],
   "source": [
    "temp_y\n"
   ]
  },
  {
   "cell_type": "code",
   "execution_count": null,
   "metadata": {},
   "outputs": [],
   "source": []
  }
 ]
}